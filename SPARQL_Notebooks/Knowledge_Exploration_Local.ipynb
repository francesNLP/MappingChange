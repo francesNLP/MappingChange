{
 "cells": [
  {
   "metadata": {},
   "cell_type": "markdown",
   "source": [
    "# Knowledge Exploration With SPARQL queries\n",
    "This notebook explores the knowledge in knowledge graphs generated in this repository using sparql queries. Note that, this notebook are **only designed to test or explore sample knowledge graphs** as loading large graph here can be time-consuming!\n",
    "Overall, we will parse an RDF source to a Graph using rdflib, and explore the knowledge by querying the graph.\n",
    "\n",
    "Questions this knowledge graph should answer:\n",
    "1. List all the volumes in the Gazetteers collection\n",
    "2. Where was an edition _E_, published or printed?\n",
    "3. What articles are included in a volume _V_?\n",
    "4. What is the text content of an article _A_?\n",
    "5. What are the references articles of an article _A_?\n",
    "6. What sources the text descriptions of article _A_ are extracted from?\n",
    "7. Given an article about a place, how this place has been described across years.\n"
   ],
   "id": "52d57b48aff588d"
  },
  {
   "metadata": {},
   "cell_type": "markdown",
   "source": [
    "## Setup\n",
    "\n",
    "Make sure **rdflib** is installed in your python environment."
   ],
   "id": "35677ae13e7ab794"
  },
  {
   "metadata": {
    "ExecuteTime": {
     "end_time": "2025-05-08T16:27:31.999502Z",
     "start_time": "2025-05-08T16:27:00.620202Z"
    }
   },
   "cell_type": "code",
   "source": [
    "from rdflib import Graph, URIRef, Namespace\n",
    "from rdflib.plugins.sparql import prepareQuery\n",
    "\n",
    "# Create a new RDFLib Graph\n",
    "basic_graph = Graph()\n",
    "\n",
    "# Load the rdf file into the graph\n",
    "basic_graph_file = \"../src/knowledge_graph/results/gaz.ttl\"\n",
    "basic_graph.parse(basic_graph_file, format=\"turtle\")\n",
    "\n",
    "\n",
    "hto = Namespace(\"https://w3id.org/hto#\")\n",
    "# Print the number of \"triples\" in the Graph\n",
    "print(f\"Basic Graph has {len(basic_graph)} statements.\")"
   ],
   "id": "16e65564690b8733",
   "outputs": [
    {
     "name": "stdout",
     "output_type": "stream",
     "text": [
      "Basic Graph has 570381 statements.\n"
     ]
    }
   ],
   "execution_count": 2
  },
  {
   "metadata": {},
   "cell_type": "markdown",
   "source": [
    "## Query the graph\n",
    "\n",
    "### Question 1: List all the volumes in the Gazetteers collection"
   ],
   "id": "621e563cda02b043"
  },
  {
   "metadata": {
    "ExecuteTime": {
     "end_time": "2025-05-08T16:31:17.754348Z",
     "start_time": "2025-05-08T16:31:17.733029Z"
    }
   },
   "cell_type": "code",
   "source": [
    "from rdflib.plugins.sparql import prepareQuery\n",
    "query = prepareQuery(\"\"\"\n",
    "    PREFIX hto: <https://w3id.org/hto#>\n",
    "    SELECT * WHERE {\n",
    "        ?volume a hto:Volume;\n",
    "            hto:title ?vol_title.\n",
    "        ?series a hto:Series;\n",
    "            hto:title ?series_title;\n",
    "            hto:hadMember ?volume.\n",
    "        <https://w3id.org/hto/WorkCollection/GazetteersofScotland> a hto:WorkCollection;\n",
    "            hto:hadMember ?series.\n",
    "        }\n",
    "    \"\"\"\n",
    ")\n",
    "\n",
    "for r in basic_graph.query(query):\n",
    "    print(f\"Volume title: {r.vol_title}, in series: {r.series_title}\")"
   ],
   "id": "7645a2f87fedee32",
   "outputs": [
    {
     "name": "stdout",
     "output_type": "stream",
     "text": [
      "Volume title: Ordnance gazetteer of Scotland 1901, in series: Ordnance gazetteer of Scotland\n",
      "Volume title: gazetteer of Scotland 1803, in series: gazetteer of Scotland\n",
      "Volume title: gazetteer of Scotland: containing a particular and concise description of the counties, parishes, islands, cities ... With ... map 1806, in series: gazetteer of Scotland: containing a particular and concise description of the counties, parishes, islands, cities ... With ... map\n",
      "Volume title: Gazetteer of Scotland; arranged under the various descriptions of counties, parishes, islands 1825?, in series: Gazetteer of Scotland; arranged under the various descriptions of counties, parishes, islands\n",
      "Volume title: Gazetteer of Scotland 1882, in series: Gazetteer of Scotland\n",
      "Volume title: gazetteer of Scotland. [With plates and maps.] 1838, Volume 1, in series: gazetteer of Scotland. [With plates and maps.]\n",
      "Volume title: gazetteer of Scotland. [With plates and maps.] 1838, Volume 2, in series: gazetteer of Scotland. [With plates and maps.]\n",
      "Volume title: imperial gazetteer of Scotland; or, Dictionary of Scottish topography, compiled from the most recent authorities, and forming a complete body of Scottish geography, physical, statistical, and historical 1868, Volume 1, in series: imperial gazetteer of Scotland; or, Dictionary of Scottish topography, compiled from the most recent authorities, and forming a complete body of Scottish geography, physical, statistical, and historical\n",
      "Volume title: imperial gazetteer of Scotland; or, Dictionary of Scottish topography, compiled from the most recent authorities, and forming a complete body of Scottish geography, physical, statistical, and historical 1868, Volume 2, in series: imperial gazetteer of Scotland; or, Dictionary of Scottish topography, compiled from the most recent authorities, and forming a complete body of Scottish geography, physical, statistical, and historical\n",
      "Volume title: topographical dictionary of Scotland 1846, Volume 2, in series: topographical dictionary of Scotland\n",
      "Volume title: topographical dictionary of Scotland 1846, Volume 1, in series: topographical dictionary of Scotland\n",
      "Volume title: topographical, statistical, and historical gazetteer of Scotland 1842, Volume 1, in series: topographical, statistical, and historical gazetteer of Scotland\n",
      "Volume title: topographical, statistical, and historical gazetteer of Scotland 1842, Volume 2, in series: topographical, statistical, and historical gazetteer of Scotland\n",
      "Volume title: Ordnance gazetteer of Scotland 1884-1885, Volume 1, in series: Ordnance gazetteer of Scotland\n",
      "Volume title: Ordnance gazetteer of Scotland 1884-1885, Volume 2, in series: Ordnance gazetteer of Scotland\n",
      "Volume title: Ordnance gazetteer of Scotland 1884-1885, Volume 3, in series: Ordnance gazetteer of Scotland\n",
      "Volume title: Ordnance gazetteer of Scotland 1884-1885, Volume 4, in series: Ordnance gazetteer of Scotland\n",
      "Volume title: Ordnance gazetteer of Scotland 1884-1885, Volume 5, in series: Ordnance gazetteer of Scotland\n",
      "Volume title: Ordnance gazetteer of Scotland 1884-1885, Volume 6, in series: Ordnance gazetteer of Scotland\n"
     ]
    }
   ],
   "execution_count": 6
  }
 ],
 "metadata": {
  "kernelspec": {
   "display_name": "Python 3",
   "language": "python",
   "name": "python3"
  },
  "language_info": {
   "codemirror_mode": {
    "name": "ipython",
    "version": 2
   },
   "file_extension": ".py",
   "mimetype": "text/x-python",
   "name": "python",
   "nbconvert_exporter": "python",
   "pygments_lexer": "ipython2",
   "version": "2.7.6"
  }
 },
 "nbformat": 4,
 "nbformat_minor": 5
}
