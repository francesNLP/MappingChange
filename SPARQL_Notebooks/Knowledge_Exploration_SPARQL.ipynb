{
  "cells": [
    {
      "metadata": {
        "id": "52d57b48aff588d"
      },
      "cell_type": "markdown",
      "source": [
        "# Knowledge Exploration With SPARQL queries\n",
        "\n",
        "This notebook demonstrates how to explore, navigate, and analyze the *Gazetteers of Scotland Knowledge Graph* (1803–1901) using SPARQL queries over a remote Fuseki endpoint. The data is modeled using the [Heritage Textual Ontology (HTO)](https://w3id.org/hto), and includes semantically enriched descriptions of places, texts, volumes, and their provenance.\n",
        "\n",
        "The following questions are addressed using 12 targeted SPARQL queries:\n",
        "\n",
        "1. **What RDF classes are defined in the dataset?**  \n",
        "   → Query 1 lists all `rdf:type` instances used from the HTO namespace.\n",
        "\n",
        "2. **What properties are used across the knowledge graph?**  \n",
        "   → Query 2 enumerates all `hto:` properties in use.\n",
        "\n",
        "3. **What Gazetteer series are present?**  \n",
        "   → Query 3 retrieves all `hto:Series` instances and their titles.\n",
        "\n",
        "4. **Who are the editors associated with volumes or series?**  \n",
        "   → Query 4 explores the `hto:editor` property, retrieves linked `hto:Person` entities, and their names via `foaf:name`.\n",
        "\n",
        "5. **What volumes are included, and how are they organized into series and collections?**  \n",
        "   → Query 5 lists all `hto:Volume` entities with their series and parent `hto:WorkCollection`.\n",
        "\n",
        "6. **What metadata properties describe a given volume?**  \n",
        "   → Query 6 selects a sample volume and lists all associated RDF triples.\n",
        "\n",
        "7. **How are `hto:OriginalDescription` entries structured?**  \n",
        "   → Query 7 lists all properties used to describe article-level entries.\n",
        "\n",
        "8. **What is the text and source of each article?**  \n",
        "   → Query 8 retrieves full text and source documents for descriptions.\n",
        "\n",
        "9. **What are all RDF triples for a specific article?**  \n",
        "   → Query 9 drills into a selected `hto:OriginalDescription` and inspects its metadata.\n",
        "\n",
        "10. **How is a `LocationRecord` structured?**  \n",
        "    → Query 10 retrieves a sample `hto:LocationRecord` and lists all associated properties including name, description, and pages.\n",
        "\n",
        "11. **What is the article title, text, and page range for each location record?**  \n",
        "    → Query 11 aggregates key fields (name, full text, start/end pages) from each `hto:LocationRecord`.\n",
        "\n",
        "12. **How has a specific place (e.g., \"DUNDEE\") been described across the corpus?**  \n",
        "    → Query 12 retrieves all articles titled \"DUNDEE\", including their text, source volume, parent series, and publication year.\n",
        "\n",
        "13. **What are the longest Gazetteer articles, and where do they appear?**  \n",
        "    → Query 13 lists the 10 longest `hto:LocationRecord` entries by text length, showing the article title, a text excerpt, the volume and series in which the article was published, and the year of publication. This helps surface dense or historically significant entries for further analysis.\n",
        "\n",
        "14. **Which Gazetteer articles refer to other entries, and what do they reference?**  \n",
        "    → Query 14 explores internal semantic links using the `hto:refersTo` property. It returns `hto:LocationRecord` entries that refer to other records, displaying both the source and target names. This enables tracing redirects, summaries, and cross-references within the Gazetteers knowledge graph.\n",
        "\n",
        "15. **Which article titles are reused across multiple Gazetteer entries?**  \n",
        "    → Query 15 groups `hto:LocationRecord` entries by their `hto:name` and lists those names that appear in multiple records. These cases reveal reused or ambiguous place names across volumes or editions (e.g., “LOGIE”, “KIRKHILL”), useful for disambiguation or tracking editorial duplication over time.\n",
        "\n",
        "16. **Which Gazetteer articles include alternate or variant names?**  \n",
        "    → Query 16 identifies articles that contain both a primary name (`hto:name`) and one or more alternate names (`rdfs:label`), typically derived from metadata fields such as “Alternative names.” This supports fuzzy search, historical variant matching, and linguistic normalization.\n",
        "\n",
        "\n",
        "\n",
        "Each question is addressed using targeted SPARQL queries, executed through `SPARQLWrapper` against the remote Fuseki endpoint (or local one)\n",
        "\n"
      ],
      "id": "52d57b48aff588d"
    },
    {
      "metadata": {
        "id": "35677ae13e7ab794"
      },
      "cell_type": "markdown",
      "source": [
        "## Setup\n",
        "\n",
        "Make sure **SPARQLWrapper** is installed in your python environment."
      ],
      "id": "35677ae13e7ab794"
    },
    {
      "cell_type": "code",
      "source": [],
      "metadata": {
        "id": "mkIuf4jVNC8g"
      },
      "id": "mkIuf4jVNC8g",
      "execution_count": null,
      "outputs": []
    },
    {
      "cell_type": "code",
      "source": [
        "!pip install SPARQLWrapper"
      ],
      "metadata": {
        "colab": {
          "base_uri": "https://localhost:8080/"
        },
        "id": "c21nC_qq01RW",
        "outputId": "c8e88362-b615-42ce-8412-66cc1dfeab3f"
      },
      "id": "c21nC_qq01RW",
      "execution_count": 2,
      "outputs": [
        {
          "output_type": "stream",
          "name": "stdout",
          "text": [
            "Collecting SPARQLWrapper\n",
            "  Downloading SPARQLWrapper-2.0.0-py3-none-any.whl.metadata (2.0 kB)\n",
            "Collecting rdflib>=6.1.1 (from SPARQLWrapper)\n",
            "  Downloading rdflib-7.1.4-py3-none-any.whl.metadata (11 kB)\n",
            "Requirement already satisfied: pyparsing<4,>=2.1.0 in /usr/local/lib/python3.11/dist-packages (from rdflib>=6.1.1->SPARQLWrapper) (3.2.3)\n",
            "Downloading SPARQLWrapper-2.0.0-py3-none-any.whl (28 kB)\n",
            "Downloading rdflib-7.1.4-py3-none-any.whl (565 kB)\n",
            "\u001b[2K   \u001b[90m━━━━━━━━━━━━━━━━━━━━━━━━━━━━━━━━━━━━━━━━\u001b[0m \u001b[32m565.1/565.1 kB\u001b[0m \u001b[31m14.9 MB/s\u001b[0m eta \u001b[36m0:00:00\u001b[0m\n",
            "\u001b[?25hInstalling collected packages: rdflib, SPARQLWrapper\n",
            "Successfully installed SPARQLWrapper-2.0.0 rdflib-7.1.4\n"
          ]
        }
      ]
    },
    {
      "cell_type": "markdown",
      "source": [
        "## Connection\n",
        "\n",
        "Chose one of the two connection options - recommended, the remote one :)"
      ],
      "metadata": {
        "id": "X1l7-A61DEVl"
      },
      "id": "X1l7-A61DEVl"
    },
    {
      "cell_type": "markdown",
      "source": [
        "### Remote Fuseki Connection\n",
        "\n",
        "\n",
        "We connect to the remote SPARQL server hosting the Gazetteers knowledge graph. The data is served via a [Fuseki SPARQL endpoint](http://query.frances-ai.com/hto_gazetteers), and includes RDF resources describing volumes, series, articles, locations, pages, and provenance information."
      ],
      "metadata": {
        "id": "rfFVCm83C5x-"
      },
      "id": "rfFVCm83C5x-"
    },
    {
      "metadata": {
        "ExecuteTime": {
          "end_time": "2025-05-08T16:09:28.536442Z",
          "start_time": "2025-05-08T16:09:28.448340Z"
        },
        "id": "16e65564690b8733"
      },
      "cell_type": "code",
      "source": [
        "from SPARQLWrapper import SPARQLWrapper, JSON\n",
        "sparql = SPARQLWrapper(\n",
        "    \"http://query.frances-ai.com/hto_gazetteers\"\n",
        ")\n",
        "sparql.setReturnFormat(JSON)"
      ],
      "id": "16e65564690b8733",
      "outputs": [],
      "execution_count": 12
    },
    {
      "cell_type": "markdown",
      "source": [
        "### Local Fuseki Connection\n",
        "\n",
        "Use this option if you want to query a locally hosted version of the Gazetteer RDF graph (e.g., using `gaz.ttl`).it.  "
      ],
      "metadata": {
        "id": "dtPqnz7AC_fe"
      },
      "id": "dtPqnz7AC_fe"
    },
    {
      "cell_type": "code",
      "source": [
        "from rdflib import Graph, URIRef, Namespace\n",
        "from rdflib.plugins.sparql import prepareQuery\n",
        "\n",
        "# Create a new RDFLib Graph\n",
        "basic_graph = Graph()\n",
        "\n",
        "# Load the rdf file into the graph\n",
        "basic_graph_file = \"./gaz.ttl\"\n",
        "basic_graph.parse(basic_graph_file, format=\"turtle\")\n",
        "\n",
        "\n",
        "hto = Namespace(\"https://w3id.org/hto#\")\n",
        "# Print the number of \"triples\" in the Graph\n",
        "print(f\"Basic Graph has {len(basic_graph)} statements.\")"
      ],
      "metadata": {
        "id": "40hlgG3HC3Tp"
      },
      "id": "40hlgG3HC3Tp",
      "execution_count": null,
      "outputs": []
    },
    {
      "cell_type": "markdown",
      "source": [
        "## Query the graph"
      ],
      "metadata": {
        "id": "d69mwDAo3L18"
      },
      "id": "d69mwDAo3L18"
    },
    {
      "cell_type": "markdown",
      "source": [
        "### Query 1: Explore all RDF classes (types) defined in the HTO namespace\n",
        "\n",
        "This query retrieves all distinct RDF types (`rdf:type`) that are used in the dataset and belong to the Heritage Textual Ontology (HTO).\n",
        "\n",
        "In RDF, the `rdf:type` predicate is used to declare the class of a resource (e.g., `hto:Volume`, `hto:Location`, `hto:OriginalDescription`). Listing these types gives us a high-level overview of the entity types that populate the knowledge graph.\n",
        "\n",
        "This is particularly useful at the beginning of an exploration session to understand the shape and semantics of the dataset.\n"
      ],
      "metadata": {
        "id": "FTuF_8FF3Bbi"
      },
      "id": "FTuF_8FF3Bbi"
    },
    {
      "cell_type": "code",
      "source": [
        "sparql.setQuery(\"\"\"\n",
        "PREFIX hto: <https://w3id.org/hto#>\n",
        "\n",
        "SELECT DISTINCT ?type WHERE {\n",
        "  ?s a ?type .\n",
        "  FILTER(STRSTARTS(STR(?type), \"https://w3id.org/hto#\"))\n",
        "}\n",
        "\"\"\")\n",
        "\n",
        "try:\n",
        "    ret = sparql.queryAndConvert()\n",
        "    for r in ret[\"results\"][\"bindings\"]:\n",
        "        print(f\"Type: {r['type']['value']}\")\n",
        "except Exception as e:\n",
        "    print(e)\n",
        "\n"
      ],
      "metadata": {
        "colab": {
          "base_uri": "https://localhost:8080/"
        },
        "id": "X-GpZb231vvq",
        "outputId": "0a168886-f178-4d60-9bfa-8bddd8b4e4b6"
      },
      "id": "X-GpZb231vvq",
      "execution_count": 27,
      "outputs": [
        {
          "output_type": "stream",
          "name": "stdout",
          "text": [
            "Type: https://w3id.org/hto#Location\n",
            "Type: https://w3id.org/hto#Concept\n",
            "Type: https://w3id.org/hto#Organization\n",
            "Type: https://w3id.org/hto#SoftwareAgent\n",
            "Type: https://w3id.org/hto#Series\n",
            "Type: https://w3id.org/hto#Volume\n",
            "Type: https://w3id.org/hto#LocationType\n",
            "Type: https://w3id.org/hto#Type\n",
            "Type: https://w3id.org/hto#TextQuality\n",
            "Type: https://w3id.org/hto#ResourceType\n",
            "Type: https://w3id.org/hto#ExternalRecord\n",
            "Type: https://w3id.org/hto#WorkCollection\n",
            "Type: https://w3id.org/hto#InformationResource\n",
            "Type: https://w3id.org/hto#Activity\n",
            "Type: https://w3id.org/hto#Person\n",
            "Type: https://w3id.org/hto#LocationRecord\n",
            "Type: https://w3id.org/hto#OriginalDescription\n",
            "Type: https://w3id.org/hto#Page\n"
          ]
        }
      ]
    },
    {
      "cell_type": "markdown",
      "source": [
        "### Query 2: Explore all properties defined in the HTO namespace\n",
        "\n",
        "This query returns all distinct RDF properties (predicates) in the dataset that belong to the Heritage Textual Ontology (HTO).\n",
        "\n",
        "In RDF, predicates express the relationships between resources or between a resource and a literal (e.g., `hto:title`, `hto:editor`, `hto:startsAtPage`). By listing all used properties, we gain insight into the kinds of metadata and semantic links available in the graph.\n",
        "\n",
        "This is useful for discovering which attributes are used to describe volumes, pages, descriptions, places, people, and other entities.\n"
      ],
      "metadata": {
        "id": "lxvqjw_K97gb"
      },
      "id": "lxvqjw_K97gb"
    },
    {
      "cell_type": "code",
      "source": [
        "sparql.setQuery(\"\"\"\n",
        "PREFIX hto: <https://w3id.org/hto#>\n",
        "\n",
        "SELECT DISTINCT ?p WHERE {\n",
        "  ?s ?p ?o .\n",
        "  FILTER(STRSTARTS(STR(?p), \"https://w3id.org/hto#\"))\n",
        "}\n",
        "\"\"\")\n",
        "\n",
        "try:\n",
        "    ret = sparql.queryAndConvert()\n",
        "    print(\"All hto: properties in use:\")\n",
        "    for r in ret[\"results\"][\"bindings\"]:\n",
        "        print(f\"{r['p']['value']}\")\n",
        "except Exception as e:\n",
        "    print(e)\n"
      ],
      "metadata": {
        "colab": {
          "base_uri": "https://localhost:8080/"
        },
        "id": "e7vu3Grx-E5C",
        "outputId": "aad45dd3-9aab-4588-f466-72d87f65c3f3"
      },
      "id": "e7vu3Grx-E5C",
      "execution_count": 41,
      "outputs": [
        {
          "output_type": "stream",
          "name": "stdout",
          "text": [
            "All hto: properties in use:\n",
            "https://w3id.org/hto#hadMember\n",
            "https://w3id.org/hto#name\n",
            "https://w3id.org/hto#editor\n",
            "https://w3id.org/hto#genre\n",
            "https://w3id.org/hto#language\n",
            "https://w3id.org/hto#mmsid\n",
            "https://w3id.org/hto#number\n",
            "https://w3id.org/hto#printedAt\n",
            "https://w3id.org/hto#shelfLocator\n",
            "https://w3id.org/hto#yearPublished\n",
            "https://w3id.org/hto#title\n",
            "https://w3id.org/hto#physicalDescription\n",
            "https://w3id.org/hto#subtitle\n",
            "https://w3id.org/hto#publisher\n",
            "https://w3id.org/hto#hasOriginalDescription\n",
            "https://w3id.org/hto#endsAtPage\n",
            "https://w3id.org/hto#startsAtPage\n",
            "https://w3id.org/hto#hasTextQuality\n",
            "https://w3id.org/hto#text\n",
            "https://w3id.org/hto#wasExtractedFrom\n",
            "https://w3id.org/hto#refersTo\n",
            "https://w3id.org/hto#birthYear\n",
            "https://w3id.org/hto#deathYear\n",
            "https://w3id.org/hto#wasMemberOf\n",
            "https://w3id.org/hto#permanentURL\n",
            "https://w3id.org/hto#volumeId\n",
            "https://w3id.org/hto#numberOfPages\n",
            "https://w3id.org/hto#hadConceptRecord\n",
            "https://w3id.org/hto#hasResourceType\n"
          ]
        }
      ]
    },
    {
      "cell_type": "markdown",
      "source": [
        "### Query 3: Retrieve all Gazetteer series and their titles\n",
        "\n",
        "This query retrieves all resources of type `hto:Series` and their corresponding titles using the `hto:title` property.\n",
        "\n",
        "A `Series` in the HTO knowledge graph represents a multi-volume work (e.g., the *Imperial Gazetteer of Scotland* or the *Ordnance Gazetteer of Scotland*). Each series may consist of multiple volumes published across different years or editions.\n",
        "\n",
        "This query helps establish the top-level bibliographic structure of the Gazetteers collection.\n"
      ],
      "metadata": {
        "id": "oHdrot_v9kfM"
      },
      "id": "oHdrot_v9kfM"
    },
    {
      "cell_type": "code",
      "source": [
        "sparql.setQuery(\"\"\"\n",
        "PREFIX hto: <https://w3id.org/hto#>\n",
        "\n",
        "SELECT ?series ?title WHERE {\n",
        "  ?series a hto:Series ;\n",
        "          hto:title ?title .\n",
        "}\n",
        "LIMIT 20\n",
        "\"\"\")\n",
        "\n",
        "try:\n",
        "    ret = sparql.queryAndConvert()\n",
        "    for r in ret[\"results\"][\"bindings\"]:\n",
        "        print(f\"Series URI: {r['series']['value']} — Title: {r['title']['value']}\")\n",
        "except Exception as e:\n",
        "    print(e)\n"
      ],
      "metadata": {
        "colab": {
          "base_uri": "https://localhost:8080/"
        },
        "id": "6ZiOxMhm9hxY",
        "outputId": "e773ecaf-cf15-4379-d9f3-18ae94836974"
      },
      "id": "6ZiOxMhm9hxY",
      "execution_count": 30,
      "outputs": [
        {
          "output_type": "stream",
          "name": "stdout",
          "text": [
            "Series URI: https://w3id.org/hto/Series/9910440713804340 — Title: gazetteer of Scotland. [With plates and maps.]\n",
            "Series URI: https://w3id.org/hto/Series/9928112733804340 — Title: imperial gazetteer of Scotland; or, Dictionary of Scottish topography, compiled from the most recent authorities, and forming a complete body of Scottish geography, physical, statistical, and historical\n",
            "Series URI: https://w3id.org/hto/Series/9928151783804340 — Title: topographical dictionary of Scotland\n",
            "Series URI: https://w3id.org/hto/Series/9928228793804340 — Title: Ordnance gazetteer of Scotland\n",
            "Series URI: https://w3id.org/hto/Series/9930626093804340 — Title: Ordnance gazetteer of Scotland\n",
            "Series URI: https://w3id.org/hto/Series/9931003343804340 — Title: gazetteer of Scotland\n",
            "Series URI: https://w3id.org/hto/Series/9931344573804340 — Title: gazetteer of Scotland: containing a particular and concise description of the counties, parishes, islands, cities ... With ... map\n",
            "Series URI: https://w3id.org/hto/Series/9931344583804340 — Title: Gazetteer of Scotland; arranged under the various descriptions of counties, parishes, islands\n",
            "Series URI: https://w3id.org/hto/Series/9931344933804340 — Title: topographical, statistical, and historical gazetteer of Scotland\n",
            "Series URI: https://w3id.org/hto/Series/9933057493804340 — Title: Gazetteer of Scotland\n"
          ]
        }
      ]
    },
    {
      "cell_type": "markdown",
      "source": [
        "### Query 4: Explore editorial metadata in the Gazetteers knowledge graph\n",
        "\n",
        "This set of queries investigates how editorial contributions are modeled in the dataset using the `hto:editor` property and linked `hto:Person` entities. Editors are critical figures in shaping the content and structure of the Gazetteers.\n",
        "\n",
        "\n"
      ],
      "metadata": {
        "id": "dWPov1PV-yO_"
      },
      "id": "dWPov1PV-yO_"
    },
    {
      "cell_type": "markdown",
      "source": [
        "#### 🔹 Query 4.1: Find all resources with an associated editor\n",
        "\n",
        "This query retrieves all resources that declare an `hto:editor`, along with the URI of the editor (typically an `hto:Person`).\n",
        "\n",
        "This helps identify which series or volumes are explicitly linked to known editors.\n",
        "\n"
      ],
      "metadata": {
        "id": "OqSoVDZP_FUg"
      },
      "id": "OqSoVDZP_FUg"
    },
    {
      "cell_type": "code",
      "source": [
        "sparql.setQuery(\"\"\"\n",
        "PREFIX hto: <https://w3id.org/hto#>\n",
        "\n",
        "SELECT ?subject ?editor WHERE {\n",
        "  ?subject hto:editor ?editor .\n",
        "}\n",
        "LIMIT 20\n",
        "\"\"\")\n",
        "\n",
        "try:\n",
        "    ret = sparql.queryAndConvert()\n",
        "    for r in ret[\"results\"][\"bindings\"]:\n",
        "        print(f\"{r['subject']['value']} → {r['editor']['value']}\")\n",
        "except Exception as e:\n",
        "    print(e)\n"
      ],
      "metadata": {
        "colab": {
          "base_uri": "https://localhost:8080/"
        },
        "id": "tMZd2KN_-S_o",
        "outputId": "7f8cff5c-6478-4b26-ae7d-2888e1ed4fa6"
      },
      "id": "tMZd2KN_-S_o",
      "execution_count": 32,
      "outputs": [
        {
          "output_type": "stream",
          "name": "stdout",
          "text": [
            "https://w3id.org/hto/Series/9931344583804340 → https://w3id.org/hto/Person/4607874226\n",
            "https://w3id.org/hto/Series/9910440713804340 → https://w3id.org/hto/Person/5247046190\n",
            "https://w3id.org/hto/Series/9928151783804340 → https://w3id.org/hto/Person/7593396701\n",
            "https://w3id.org/hto/Series/9928112733804340 → https://w3id.org/hto/Person/4251664498\n",
            "https://w3id.org/hto/Series/9933057493804340 → https://w3id.org/hto/Person/4251664498\n",
            "https://w3id.org/hto/Series/9928228793804340 → https://w3id.org/hto/Person/9594167312\n",
            "https://w3id.org/hto/Series/9930626093804340 → https://w3id.org/hto/Person/9594167312\n",
            "https://w3id.org/hto/Series/9931003343804340 → https://w3id.org/hto/Person/4957971131\n",
            "https://w3id.org/hto/Series/9931344573804340 → https://w3id.org/hto/Person/4957971131\n",
            "https://w3id.org/hto/Series/9931344933804340 → https://w3id.org/hto/Person/4957971131\n"
          ]
        }
      ]
    },
    {
      "cell_type": "markdown",
      "source": [
        "#### 🔹 Query 4.2: Inspect all properties of a specific editor (Person)\n",
        "\n",
        "Given the URI of a specific `hto:Person`, this query lists all associated properties. This typically includes:\n",
        "\n",
        "- `rdf:type` (should be `hto:Person`)\n",
        "- `foaf:name` (if available)\n",
        "- `hto:birthYear`, `hto:deathYear` (if known)\n",
        "\n",
        "This allows us to inspect how editors are semantically described in the graph.\n"
      ],
      "metadata": {
        "id": "8PwUmmME_LB1"
      },
      "id": "8PwUmmME_LB1"
    },
    {
      "cell_type": "code",
      "source": [
        "person_uri = \"https://w3id.org/hto/Person/4607874226\"\n",
        "\n",
        "sparql.setQuery(f\"\"\"\n",
        "SELECT ?p ?o WHERE {{\n",
        "  <{person_uri}> ?p ?o .\n",
        "}}\n",
        "\"\"\")\n",
        "\n",
        "try:\n",
        "    ret = sparql.queryAndConvert()\n",
        "    print(f\"All properties for {person_uri}:\\n\")\n",
        "    for r in ret[\"results\"][\"bindings\"]:\n",
        "        print(f\"{r['p']['value']} → {r['o']['value']}\")\n",
        "except Exception as e:\n",
        "    print(e)\n"
      ],
      "metadata": {
        "colab": {
          "base_uri": "https://localhost:8080/"
        },
        "id": "JnrqtYc8-vOH",
        "outputId": "c654a99c-ca18-4a80-dd03-710437f740a1"
      },
      "id": "JnrqtYc8-vOH",
      "execution_count": 36,
      "outputs": [
        {
          "output_type": "stream",
          "name": "stdout",
          "text": [
            "All properties for https://w3id.org/hto/Person/4607874226:\n",
            "\n",
            "http://www.w3.org/1999/02/22-rdf-syntax-ns#type → https://w3id.org/hto#Person\n",
            "http://xmlns.com/foaf/0.1/name → Scotland. [Appendix. - Descriptions, Topography & Travels.]\n"
          ]
        }
      ]
    },
    {
      "cell_type": "markdown",
      "source": [
        "#### 🔹 Query 4.3: List all distinct editor names\n",
        "\n",
        "This query navigates from edited resources (`hto:editor`) to the linked `hto:Person`, then retrieves the person's name using `foaf:name`.\n",
        "\n",
        "This gives a clean list of all editors represented in the graph by name — useful for documentation, indexing, or attribution.\n",
        "\n",
        "Together, these queries illustrate how biographical and editorial metadata is encoded and linked across multiple entity types."
      ],
      "metadata": {
        "id": "fTteIOcY_STH"
      },
      "id": "fTteIOcY_STH"
    },
    {
      "cell_type": "code",
      "source": [
        "sparql.setQuery(\"\"\"\n",
        "PREFIX hto: <https://w3id.org/hto#>\n",
        "PREFIX foaf: <http://xmlns.com/foaf/0.1/>\n",
        "\n",
        "SELECT DISTINCT ?name WHERE {\n",
        "  ?instance hto:editor ?editor .\n",
        "  ?editor foaf:name ?name .\n",
        "}\n",
        "LIMIT 20\n",
        "\"\"\")\n",
        "\n",
        "try:\n",
        "    ret = sparql.queryAndConvert()\n",
        "    print(\"Editor names (via foaf:name):\\n\")\n",
        "    for r in ret[\"results\"][\"bindings\"]:\n",
        "        print(f\"- {r['name']['value']}\")\n",
        "except Exception as e:\n",
        "    print(e)\n"
      ],
      "metadata": {
        "colab": {
          "base_uri": "https://localhost:8080/"
        },
        "id": "cnfzU0Ff-9TD",
        "outputId": "6d502eca-59d4-416c-ac95-5c406338f73a"
      },
      "id": "cnfzU0Ff-9TD",
      "execution_count": 37,
      "outputs": [
        {
          "output_type": "stream",
          "name": "stdout",
          "text": [
            "Editor names (via foaf:name):\n",
            "\n",
            "- Scotland. [Appendix. - Descriptions, Topography & Travels.]\n",
            "- Chambers, William\n",
            "- Lewis, Samuel\n",
            "- Wilson, John Marius.\n",
            "- Groome, Francis Hindes\n",
            "- Scotland. [Appendix. - Descriptions, Topography and Travels.]\n"
          ]
        }
      ]
    },
    {
      "metadata": {
        "id": "621e563cda02b043"
      },
      "cell_type": "markdown",
      "source": [
        "### Query 5: Retrieve volumes and their parent series from the Gazetteers of Scotland collection\n",
        "\n",
        "This query lists all `hto:Volume` resources that are members of a `hto:Series`, which in turn belongs to the broader `hto:WorkCollection` titled *Gazetteers of Scotland Collection*.\n",
        "\n",
        "Each volume is returned with:\n",
        "- Its title (`hto:title`)\n",
        "- The title of the series it belongs to\n",
        "\n",
        "This hierarchical query traverses three levels of structure:\n",
        "1. **Collection** → `hto:WorkCollection`\n",
        "2. **Series** → `hto:Series`\n",
        "3. **Volume** → `hto:Volume`\n",
        "\n",
        "The result gives a curated view of how individual volumes are organized into series and grouped within the overall collection. It is useful for bibliographic exploration and user-facing navigation interfaces.\n"
      ],
      "id": "621e563cda02b043"
    },
    {
      "metadata": {
        "ExecuteTime": {
          "end_time": "2025-05-08T16:20:39.003130Z",
          "start_time": "2025-05-08T16:20:38.741340Z"
        },
        "colab": {
          "base_uri": "https://localhost:8080/"
        },
        "id": "7645a2f87fedee32",
        "outputId": "199c478f-c260-4a48-ae30-93700a573729"
      },
      "cell_type": "code",
      "source": [
        "sparql.setQuery(\"\"\"\n",
        "    PREFIX hto: <https://w3id.org/hto#>\n",
        "    SELECT * WHERE {\n",
        "        ?volume a hto:Volume;\n",
        "            hto:title ?vol_title.\n",
        "        ?series a hto:Series;\n",
        "            hto:title ?series_title;\n",
        "            hto:hadMember ?volume.\n",
        "        ?collection a hto:WorkCollection;\n",
        "            hto:name \"Gazetteers of Scotland Collection\";\n",
        "            hto:hadMember ?series.\n",
        "        }\n",
        "    \"\"\"\n",
        ")\n",
        "\n",
        "try:\n",
        "    ret = sparql.queryAndConvert()\n",
        "\n",
        "    for r in ret[\"results\"][\"bindings\"]:\n",
        "        print(f\"Volume title: {r['vol_title']['value']}, in series: {r['series_title']['value']}\")\n",
        "except Exception as e:\n",
        "    print(e)"
      ],
      "id": "7645a2f87fedee32",
      "outputs": [
        {
          "output_type": "stream",
          "name": "stdout",
          "text": [
            "Volume title: gazetteer of Scotland. [With plates and maps.] 1838, Volume 1, in series: gazetteer of Scotland. [With plates and maps.]\n",
            "Volume title: gazetteer of Scotland. [With plates and maps.] 1838, Volume 2, in series: gazetteer of Scotland. [With plates and maps.]\n",
            "Volume title: imperial gazetteer of Scotland; or, Dictionary of Scottish topography, compiled from the most recent authorities, and forming a complete body of Scottish geography, physical, statistical, and historical 1868, Volume 1, in series: imperial gazetteer of Scotland; or, Dictionary of Scottish topography, compiled from the most recent authorities, and forming a complete body of Scottish geography, physical, statistical, and historical\n",
            "Volume title: imperial gazetteer of Scotland; or, Dictionary of Scottish topography, compiled from the most recent authorities, and forming a complete body of Scottish geography, physical, statistical, and historical 1868, Volume 2, in series: imperial gazetteer of Scotland; or, Dictionary of Scottish topography, compiled from the most recent authorities, and forming a complete body of Scottish geography, physical, statistical, and historical\n",
            "Volume title: topographical dictionary of Scotland 1846, Volume 2, in series: topographical dictionary of Scotland\n",
            "Volume title: topographical dictionary of Scotland 1846, Volume 1, in series: topographical dictionary of Scotland\n",
            "Volume title: Ordnance gazetteer of Scotland 1884-1885, Volume 1, in series: Ordnance gazetteer of Scotland\n",
            "Volume title: Ordnance gazetteer of Scotland 1884-1885, Volume 2, in series: Ordnance gazetteer of Scotland\n",
            "Volume title: Ordnance gazetteer of Scotland 1884-1885, Volume 3, in series: Ordnance gazetteer of Scotland\n",
            "Volume title: Ordnance gazetteer of Scotland 1884-1885, Volume 4, in series: Ordnance gazetteer of Scotland\n",
            "Volume title: Ordnance gazetteer of Scotland 1884-1885, Volume 5, in series: Ordnance gazetteer of Scotland\n",
            "Volume title: Ordnance gazetteer of Scotland 1884-1885, Volume 6, in series: Ordnance gazetteer of Scotland\n",
            "Volume title: Ordnance gazetteer of Scotland 1901, in series: Ordnance gazetteer of Scotland\n",
            "Volume title: gazetteer of Scotland 1803, in series: gazetteer of Scotland\n",
            "Volume title: gazetteer of Scotland: containing a particular and concise description of the counties, parishes, islands, cities ... With ... map 1806, in series: gazetteer of Scotland: containing a particular and concise description of the counties, parishes, islands, cities ... With ... map\n",
            "Volume title: Gazetteer of Scotland; arranged under the various descriptions of counties, parishes, islands 1825?, in series: Gazetteer of Scotland; arranged under the various descriptions of counties, parishes, islands\n",
            "Volume title: topographical, statistical, and historical gazetteer of Scotland 1842, Volume 1, in series: topographical, statistical, and historical gazetteer of Scotland\n",
            "Volume title: topographical, statistical, and historical gazetteer of Scotland 1842, Volume 2, in series: topographical, statistical, and historical gazetteer of Scotland\n",
            "Volume title: Gazetteer of Scotland 1882, in series: Gazetteer of Scotland\n"
          ]
        }
      ],
      "execution_count": 28
    },
    {
      "cell_type": "markdown",
      "source": [
        "### Query 6: Explore metadata properties of a sample Gazetteer volume\n",
        "\n",
        "This pair of queries is used to inspect the metadata of a single `hto:Volume` in detail.\n"
      ],
      "metadata": {
        "id": "Z-OSNfOQ_2jg"
      },
      "id": "Z-OSNfOQ_2jg"
    },
    {
      "cell_type": "markdown",
      "source": [
        "#### 🔹 Query 6.1: Select a sample volume URI\n",
        "\n",
        "This query selects one instance of a `hto:Volume` from the dataset. It serves as a dynamic starting point for detailed inspection of that volume's metadata.\n",
        "\n",
        "This step ensures that we are querying an actual, existing volume in the graph.\n"
      ],
      "metadata": {
        "id": "pDbn5pCgHaVU"
      },
      "id": "pDbn5pCgHaVU"
    },
    {
      "cell_type": "code",
      "source": [
        "sparql.setQuery(\"\"\"\n",
        "PREFIX hto: <https://w3id.org/hto#>\n",
        "\n",
        "SELECT ?volume WHERE {\n",
        "  ?volume a hto:Volume .\n",
        "}\n",
        "LIMIT 1\n",
        "\"\"\")\n",
        "\n",
        "try:\n",
        "    ret = sparql.queryAndConvert()\n",
        "    if ret[\"results\"][\"bindings\"]:\n",
        "        volume_uri = ret[\"results\"][\"bindings\"][0][\"volume\"][\"value\"]\n",
        "        print(\"Volume URI:\", volume_uri)\n",
        "    else:\n",
        "        print(\"No volumes found.\")\n",
        "except Exception as e:\n",
        "    print(e)\n",
        "\n"
      ],
      "metadata": {
        "colab": {
          "base_uri": "https://localhost:8080/"
        },
        "id": "yxvz_UHuAAww",
        "outputId": "3e9652b8-8e4c-41e3-ce9f-352654d87c90"
      },
      "id": "yxvz_UHuAAww",
      "execution_count": 39,
      "outputs": [
        {
          "output_type": "stream",
          "name": "stdout",
          "text": [
            "Volume URI: https://w3id.org/hto/Volume/9910440713804340_97424370\n"
          ]
        }
      ]
    },
    {
      "cell_type": "markdown",
      "source": [
        "#### 🔹 Query 6.2: Retrieve all properties of the selected volume\n",
        "\n",
        "Using the volume URI obtained in the previous step (e.g., `hto:Volume/9910440713804340_97424370`), this query retrieves all RDF properties and values linked to it.\n",
        "\n",
        "Typical metadata includes:\n",
        "- `hto:title` — full title of the volume\n",
        "- `hto:number` — volume number\n",
        "- `hto:numberOfPages` — total page count\n",
        "- `hto:permanentURL` — link to the digitized version\n",
        "- `hto:wasMemberOf` — series the volume belongs to\n",
        "- `hto:hadMember` — individual pages contained in the volume\n",
        "\n",
        "Together, these queries allow for close inspection of how volume-level bibliographic and structural metadata is modeled in the HTO knowledge graph."
      ],
      "metadata": {
        "id": "z40xrr5UHfN3"
      },
      "id": "z40xrr5UHfN3"
    },
    {
      "cell_type": "code",
      "source": [
        "sparql.setQuery(\"\"\"\n",
        "SELECT ?p ?o WHERE {\n",
        "  <https://w3id.org/hto/Volume/9910440713804340_97424370> ?p ?o .\n",
        "}\n",
        "\n",
        "LIMIT 20\n",
        "\"\"\")\n",
        "\n",
        "try:\n",
        "    ret = sparql.queryAndConvert()\n",
        "    print(\"Properties for Volume 9910440713804340_97424370:\\n\")\n",
        "    for r in ret[\"results\"][\"bindings\"]:\n",
        "        print(f\"{r['p']['value']} → {r['o']['value']}\")\n",
        "except Exception as e:\n",
        "    print(e)\n"
      ],
      "metadata": {
        "colab": {
          "base_uri": "https://localhost:8080/"
        },
        "id": "Yp0gAxeEASAR",
        "outputId": "30a2517f-8a4e-4219-a1bc-98db346c209f"
      },
      "id": "Yp0gAxeEASAR",
      "execution_count": 47,
      "outputs": [
        {
          "output_type": "stream",
          "name": "stdout",
          "text": [
            "Properties for Volume 9910440713804340_97424370:\n",
            "\n",
            "http://www.w3.org/1999/02/22-rdf-syntax-ns#type → https://w3id.org/hto#Volume\n",
            "http://www.w3.org/1999/02/22-rdf-syntax-ns#type → https://w3id.org/hto#WorkCollection\n",
            "https://w3id.org/hto#hadMember → https://w3id.org/hto/Page/9910440713804340_97424370_470\n",
            "https://w3id.org/hto#hadMember → https://w3id.org/hto/Page/9910440713804340_97424370_471\n",
            "https://w3id.org/hto#hadMember → https://w3id.org/hto/Page/9910440713804340_97424370_486\n",
            "https://w3id.org/hto#hadMember → https://w3id.org/hto/Page/9910440713804340_97424370_179\n",
            "https://w3id.org/hto#hadMember → https://w3id.org/hto/Page/9910440713804340_97424370_88\n",
            "https://w3id.org/hto#hadMember → https://w3id.org/hto/Page/9910440713804340_97424370_89\n",
            "https://w3id.org/hto#hadMember → https://w3id.org/hto/Page/9910440713804340_97424370_102\n",
            "https://w3id.org/hto#hadMember → https://w3id.org/hto/Page/9910440713804340_97424370_257\n",
            "https://w3id.org/hto#hadMember → https://w3id.org/hto/Page/9910440713804340_97424370_84\n",
            "https://w3id.org/hto#hadMember → https://w3id.org/hto/Page/9910440713804340_97424370_183\n",
            "https://w3id.org/hto#hadMember → https://w3id.org/hto/Page/9910440713804340_97424370_113\n",
            "https://w3id.org/hto#hadMember → https://w3id.org/hto/Page/9910440713804340_97424370_69\n",
            "https://w3id.org/hto#hadMember → https://w3id.org/hto/Page/9910440713804340_97424370_495\n",
            "https://w3id.org/hto#hadMember → https://w3id.org/hto/Page/9910440713804340_97424370_167\n",
            "https://w3id.org/hto#hadMember → https://w3id.org/hto/Page/9910440713804340_97424370_189\n",
            "https://w3id.org/hto#hadMember → https://w3id.org/hto/Page/9910440713804340_97424370_180\n",
            "https://w3id.org/hto#hadMember → https://w3id.org/hto/Page/9910440713804340_97424370_29\n",
            "https://w3id.org/hto#hadMember → https://w3id.org/hto/Page/9910440713804340_97424370_481\n"
          ]
        }
      ]
    },
    {
      "cell_type": "markdown",
      "source": [
        "### Query 7: List all properties used in `hto:OriginalDescription` entries\n",
        "\n",
        "This query retrieves all distinct RDF properties that appear in resources of type `hto:OriginalDescription`. These represent individual article-level entries extracted from the gazetteers.\n",
        "\n",
        "By examining which properties are used on `hto:OriginalDescription`, we can understand how each entry is semantically described — including its content, provenance, and quality metadata.\n",
        "\n",
        "Typical properties include:\n",
        "- `hto:text` — the full textual content of the article\n",
        "- `hto:hasTextQuality` — a quality indicator (e.g., Low, High)\n",
        "- `hto:wasExtractedFrom` — the source page or document\n",
        "- `prov:wasAttributedTo` — the responsible agent (e.g., MappingChange pipeline)\n",
        "\n",
        "This query is useful for schema exploration and understanding how article-level data is structured.\n"
      ],
      "metadata": {
        "id": "-o3S4EtD4jff"
      },
      "id": "-o3S4EtD4jff"
    },
    {
      "cell_type": "code",
      "source": [
        "sparql.setQuery(\"\"\"\n",
        "PREFIX hto: <https://w3id.org/hto#>\n",
        "\n",
        "SELECT DISTINCT ?p WHERE {\n",
        "  ?desc a hto:OriginalDescription ;\n",
        "        ?p ?o .\n",
        "}\n",
        "LIMIT 50\n",
        "\"\"\")\n",
        "\n",
        "try:\n",
        "    ret = sparql.queryAndConvert()\n",
        "    for r in ret[\"results\"][\"bindings\"]:\n",
        "        print(f\"Property: {r['p']['value']}\")\n",
        "except Exception as e:\n",
        "    print(e)\n",
        "\n"
      ],
      "metadata": {
        "colab": {
          "base_uri": "https://localhost:8080/"
        },
        "id": "n8Yd0qBm3ZSO",
        "outputId": "89a272b2-ad9b-4038-d01c-9059d1f5eed2"
      },
      "id": "n8Yd0qBm3ZSO",
      "execution_count": 29,
      "outputs": [
        {
          "output_type": "stream",
          "name": "stdout",
          "text": [
            "Property: http://www.w3.org/1999/02/22-rdf-syntax-ns#type\n",
            "Property: http://www.w3.org/ns/prov#wasAttributedTo\n",
            "Property: https://w3id.org/hto#hasTextQuality\n",
            "Property: https://w3id.org/hto#text\n",
            "Property: https://w3id.org/hto#wasExtractedFrom\n"
          ]
        }
      ]
    },
    {
      "cell_type": "markdown",
      "source": [
        "### Query 8: Retrieve the text of Gazetteer articles and their source documents\n",
        "\n",
        "This query returns sample `hto:OriginalDescription` entries, showing the full article text and the `hto:InformationResource` from which it was extracted (typically an ALTO XML file or digitized page).\n",
        "\n",
        "Each result includes:\n",
        "- The URI of the article description (`?desc`)\n",
        "- The full text content (`hto:text`)\n",
        "- The source document or page URI (`hto:wasExtractedFrom`)\n",
        "\n",
        "This query provides a window into the actual semantic content of the gazetteer entries, enabling inspection of OCR outputs and understanding of how content is linked to its digitized provenance.\n",
        "\n",
        "It is especially useful for building content previews, search indexes, or validating extraction quality.\n"
      ],
      "metadata": {
        "id": "10NdCqUG5EYe"
      },
      "id": "10NdCqUG5EYe"
    },
    {
      "cell_type": "code",
      "source": [
        "sparql.setQuery(\"\"\"\n",
        "PREFIX hto: <https://w3id.org/hto#>\n",
        "\n",
        "SELECT ?desc ?text ?source WHERE {\n",
        "  ?desc a hto:OriginalDescription ;\n",
        "        hto:text ?text ;\n",
        "        hto:wasExtractedFrom ?source .\n",
        "}\n",
        "LIMIT 10\n",
        "\"\"\")\n",
        "\n",
        "try:\n",
        "    ret = sparql.queryAndConvert()\n",
        "    for r in ret[\"results\"][\"bindings\"]:\n",
        "        print(f\"\\nDescription: {r['desc']['value']}\\nSource: {r['source']['value']}\\nText: {r['text']['value'][:200]}...\\n\")\n",
        "except Exception as e:\n",
        "    print(e)\n",
        "\n"
      ],
      "metadata": {
        "colab": {
          "base_uri": "https://localhost:8080/"
        },
        "id": "K0bUsyyQ4VDR",
        "outputId": "12edebfb-119c-4537-f368-8031efced1a9"
      },
      "id": "K0bUsyyQ4VDR",
      "execution_count": 48,
      "outputs": [
        {
          "output_type": "stream",
          "name": "stdout",
          "text": [
            "\n",
            "Description: https://w3id.org/hto/OriginalDescription/9910440713804340_97424370_1007501475_0NLS\n",
            "Source: https://w3id.org/hto/InformationResource/97424370_alto_97430004_34_xml\n",
            "Text: a united parish on the mainland of Orkney, of nine miles in length, with a varying breadth, lying west of Kirkwall. In its centre is the lake of S tennis or Stenhouse, which is nearly divided in two b...\n",
            "\n",
            "\n",
            "Description: https://w3id.org/hto/OriginalDescription/9910440713804340_97424370_1007608998_0NLS\n",
            "Source: https://w3id.org/hto/InformationResource/97424370_alto_97430016_34_xml\n",
            "Text: an inlet of the sea on the south-east coast of Sutherlandshire, across the narrow neck of which there is a ferry, on the thoroughfare along the coast northwards from Dornoch....\n",
            "\n",
            "\n",
            "Description: https://w3id.org/hto/OriginalDescription/9910440713804340_97424370_1016059890_0NLS\n",
            "Source: https://w3id.org/hto/InformationResource/97424370_alto_97430196_34_xml\n",
            "Text: FRODA, an islet on the west coast of Skye....\n",
            "\n",
            "\n",
            "Description: https://w3id.org/hto/OriginalDescription/9910440713804340_97424370_1042273902_0NLS\n",
            "Source: https://w3id.org/hto/InformationResource/97424370_alto_97426512_34_xml\n",
            "Text: a parish in Sutherlandshire, lying on the shore of the Moray Firth, and on the north bank of Brora Water, having the parish of Loth on its north-eastern quarter. In consists of braes declining sea-war...\n",
            "\n",
            "\n",
            "Description: https://w3id.org/hto/OriginalDescription/9910440713804340_97424370_1052967722_0NLS\n",
            "Source: https://w3id.org/hto/InformationResource/97424370_alto_97425420_34_xml\n",
            "Text: a tributary streamlet of the Spey, drawing its source from a small loch in the extreme south-westerly point of Banffshire, in Glen Aven, and the Forest of Glen Aven which are named from it, and increa...\n",
            "\n",
            "\n",
            "Description: https://w3id.org/hto/OriginalDescription/9910440713804340_97424370_1052967722_2NLS\n",
            "Source: https://w3id.org/hto/InformationResource/97424370_alto_97425432_34_xml\n",
            "Text: a river which, throughout nearly its whole course, divides Stirlingshire from Linfithgowshire, and is crossed by the road from Edinburgh to Stirling at the village of Linlithgowbridge. About a mile up...\n",
            "\n",
            "\n",
            "Description: https://w3id.org/hto/OriginalDescription/9910440713804340_97424370_1053655403_0NLS\n",
            "Source: https://w3id.org/hto/InformationResource/97424370_alto_97425588_34_xml\n",
            "Text: BALERNO, a village in the parish of Currie, county of Mid-Lothian, on the water of Leith, about six miles west from Edinburgh ; at which there are some mills for the manufacture of coarse paper, and a...\n",
            "\n",
            "\n",
            "Description: https://w3id.org/hto/OriginalDescription/9910440713804340_97424370_10755622_0NLS\n",
            "Source: https://w3id.org/hto/InformationResource/97424370_alto_97427448_34_xml\n",
            "Text: DUNBEATH, a thriving fishing village on the east coast of Caithness, at the mouth of the DUNBEATH, (WATER OF) a river in Caithness, parish of Latheron, which, after flowing in an easterly direction, f...\n",
            "\n",
            "\n",
            "Description: https://w3id.org/hto/OriginalDescription/9910440713804340_97424370_1088370254_0NLS\n",
            "Source: https://w3id.org/hto/InformationResource/97424370_alto_97425372_34_xml\n",
            "Text: a parish in Dumbartonshire, lying between Loch Lomond and Loch Long, bounded on the south by Luss, extending nearly sixteen miles in length by three in breadth. The land is hilly and pastoral. At the ...\n",
            "\n",
            "\n",
            "Description: https://w3id.org/hto/OriginalDescription/9910440713804340_97424370_1091329794_0NLS\n",
            "Source: https://w3id.org/hto/InformationResource/97424370_alto_97426560_34_xml\n",
            "Text: COLL, an island, lying off the west coast of Midi, Argyleshire, from which it is distant about seven miles, and forming part of the parish of Tiree, from which it is divided by a narrow rocky sound. I...\n",
            "\n"
          ]
        }
      ]
    },
    {
      "cell_type": "markdown",
      "source": [
        "### Query 9: Inspect all RDF properties of a single `hto:OriginalDescription` entry\n",
        "\n",
        "This two-part query inspects one specific Gazetteer article by first selecting an example description and then listing all of its associated RDF triples.\n"
      ],
      "metadata": {
        "id": "1Kkbbxfz76W8"
      },
      "id": "1Kkbbxfz76W8"
    },
    {
      "cell_type": "markdown",
      "source": [
        "#### 🔹 Query 9.1: Select a sample `OriginalDescription` URI\n",
        "\n",
        "This query retrieves one resource of type `hto:OriginalDescription`. This URI will be used to examine all the semantic properties associated with that individual article.\n"
      ],
      "metadata": {
        "id": "i_zNZaezH_GT"
      },
      "id": "i_zNZaezH_GT"
    },
    {
      "cell_type": "code",
      "source": [
        "sparql.setQuery(\"\"\"\n",
        "PREFIX hto: <https://w3id.org/hto#>\n",
        "\n",
        "SELECT ?desc ?p ?o WHERE {\n",
        "  ?desc a hto:OriginalDescription ;\n",
        "        ?p ?o .\n",
        "}\n",
        "LIMIT 1\n",
        "\"\"\")\n",
        "\n",
        "# Now this will work:\n",
        "try:\n",
        "    ret = sparql.queryAndConvert()\n",
        "    binding = ret[\"results\"][\"bindings\"][0]\n",
        "    desc_uri = binding[\"desc\"][\"value\"]\n",
        "    print(f\"Using description URI: {desc_uri}\")\n",
        "except Exception as e:\n",
        "    print(\"Could not get description URI:\", e)\n",
        "\n",
        "\n"
      ],
      "metadata": {
        "colab": {
          "base_uri": "https://localhost:8080/"
        },
        "id": "bV6EFrPj5aIp",
        "outputId": "b012028c-bb5d-482c-af57-116854c00bc1"
      },
      "id": "bV6EFrPj5aIp",
      "execution_count": 22,
      "outputs": [
        {
          "output_type": "stream",
          "name": "stdout",
          "text": [
            "Using description URI: https://w3id.org/hto/OriginalDescription/9910440713804340_97424370_1007501475_0NLS\n"
          ]
        }
      ]
    },
    {
      "cell_type": "markdown",
      "source": [
        "#### 🔹 Query 9.2: Retrieve all RDF properties of that description\n",
        "\n",
        "Once a description URI is selected, this second query prints all RDF triples where that URI is the subject. This includes key metadata such as:\n",
        "\n",
        "- `hto:text` — the full article content\n",
        "- `hto:wasExtractedFrom` — the page or document source\n",
        "- `hto:hasTextQuality` — quality annotation (e.g., Low, High)\n",
        "- `prov:wasAttributedTo` — the agent responsible for the extraction\n",
        "- Any other custom properties used in semantic modeling\n",
        "\n",
        "Together, these queries allow you to deeply inspect the structure and provenance of individual gazetteer entries."
      ],
      "metadata": {
        "id": "ezD3GT8y8DV7"
      },
      "id": "ezD3GT8y8DV7"
    },
    {
      "cell_type": "code",
      "source": [
        "sparql.setQuery(f\"\"\"\n",
        "SELECT ?p ?o WHERE {{\n",
        "  <{desc_uri}> ?p ?o .\n",
        "}}\n",
        "\"\"\")\n",
        "\n",
        "try:\n",
        "    ret = sparql.queryAndConvert()\n",
        "    print(f\"\\nAll properties for {desc_uri}:\\n\")\n",
        "    for r in ret[\"results\"][\"bindings\"]:\n",
        "        print(f\"{r['p']['value']} → {r['o']['value']}\")\n",
        "except Exception as e:\n",
        "    print(e)\n"
      ],
      "metadata": {
        "colab": {
          "base_uri": "https://localhost:8080/"
        },
        "id": "vQvDbXLF6Izb",
        "outputId": "c1b1acbd-921d-463c-8d4c-cc76ce4ddcc5"
      },
      "id": "vQvDbXLF6Izb",
      "execution_count": 23,
      "outputs": [
        {
          "output_type": "stream",
          "name": "stdout",
          "text": [
            "\n",
            "All properties for https://w3id.org/hto/OriginalDescription/9910440713804340_97424370_1007501475_0NLS:\n",
            "\n",
            "http://www.w3.org/1999/02/22-rdf-syntax-ns#type → https://w3id.org/hto#OriginalDescription\n",
            "http://www.w3.org/ns/prov#wasAttributedTo → https://github.com/francesNLP/MappingChange\n",
            "https://w3id.org/hto#hasTextQuality → https://w3id.org/hto#Low\n",
            "https://w3id.org/hto#text → a united parish on the mainland of Orkney, of nine miles in length, with a varying breadth, lying west of Kirkwall. In its centre is the lake of S tennis or Stenhouse, which is nearly divided in two by a narrow shallow, which can be passed over by a sort of causeway of large stones. On the western side are the famous stones of Stonnis, which are only paralleled by those of Stonehenge. Some of these are single, standing jerect in the earth. Others describe particular figures ; but the greatest number form a large circle, surrounded by a ditch. A grent number have fallen. The largest stand between the old kirk of Stennis and the causeway. One of these rises eighteen feet out ct the ground. About this quarter there are the remains of various tumuli, all of which are significant of the place having been one o. great importance in druidical times. The kirk of Firth stands at the head of an arm of Kirkwall Bay. The parish is generally wild and pastoral Population in 1821, of Firth 545, of Stennis 596.\n",
            "https://w3id.org/hto#wasExtractedFrom → https://w3id.org/hto/InformationResource/97424370_alto_97430004_34_xml\n"
          ]
        }
      ]
    },
    {
      "cell_type": "markdown",
      "source": [
        "### Query 10: Retrieve and inspect a `hto:LocationRecord`\n",
        "\n",
        "This two-part query focuses on exploring a `hto:LocationRecord`, which represents a semantically enriched article entry linked to a specific place.\n",
        "\n"
      ],
      "metadata": {
        "id": "dNvj2DOd8Nk7"
      },
      "id": "dNvj2DOd8Nk7"
    },
    {
      "cell_type": "markdown",
      "source": [
        "#### 🔹 Query 10.1: Retrieve a sample `LocationRecord` URI\n",
        "\n",
        "This query selects a single resource of type `hto:LocationRecord`. This record aggregates structured metadata about an article that refers to a geographic location.\n"
      ],
      "metadata": {
        "id": "pHte027wIcoK"
      },
      "id": "pHte027wIcoK"
    },
    {
      "cell_type": "code",
      "source": [
        "sparql.setQuery(\"\"\"\n",
        "PREFIX hto: <https://w3id.org/hto#>\n",
        "\n",
        "SELECT ?record WHERE {\n",
        "  ?record a hto:LocationRecord .\n",
        "}\n",
        "LIMIT 1\n",
        "\"\"\")\n",
        "\n",
        "try:\n",
        "    ret = sparql.queryAndConvert()\n",
        "    record_uri = ret[\"results\"][\"bindings\"][0][\"record\"][\"value\"]\n",
        "    print(f\"Using LocationRecord URI: {record_uri}\")\n",
        "except Exception as e:\n",
        "    print(\"Could not retrieve a LocationRecord:\", e)\n",
        "\n",
        "\n"
      ],
      "metadata": {
        "colab": {
          "base_uri": "https://localhost:8080/"
        },
        "id": "M2mEgiuY6bCT",
        "outputId": "2d990ef0-7017-4a7d-8428-788ce8f92465"
      },
      "id": "M2mEgiuY6bCT",
      "execution_count": 42,
      "outputs": [
        {
          "output_type": "stream",
          "name": "stdout",
          "text": [
            "Using LocationRecord URI: https://w3id.org/hto/LocationRecord/9910440713804340_97424370_1007501475_0\n"
          ]
        }
      ]
    },
    {
      "cell_type": "markdown",
      "source": [
        "#### 🔹 Query 10.2: List all RDF properties of that `LocationRecord`\n",
        "\n",
        "Once the URI is obtained, this query lists all RDF properties associated with the record. These typically include:\n",
        "\n",
        "- `hto:name` — the article heading (e.g., \"FIRTH AND STENNIS\")\n",
        "- `hto:hasOriginalDescription` — link to the full textual description\n",
        "- `hto:startsAtPage` / `hto:endsAtPage` — page-level provenance\n",
        "- `hto:refersToLocation` — the linked `hto:Location` resource\n",
        "\n",
        "This structure allows rich querying of articles by location, supports place-based exploration, and connects textual content with bibliographic context."
      ],
      "metadata": {
        "id": "58sUj9QiIe71"
      },
      "id": "58sUj9QiIe71"
    },
    {
      "cell_type": "code",
      "source": [
        "sparql.setQuery(\"\"\"\n",
        "SELECT ?p ?o WHERE {\n",
        "  <https://w3id.org/hto/LocationRecord/9910440713804340_97424370_1007501475_0> ?p ?o .\n",
        "}\n",
        "\"\"\")\n",
        "\n",
        "try:\n",
        "    ret = sparql.queryAndConvert()\n",
        "    print(\"All properties for the LocationRecord:\\n\")\n",
        "    for r in ret[\"results\"][\"bindings\"]:\n",
        "        print(f\"{r['p']['value']} → {r['o']['value']}\")\n",
        "except Exception as e:\n",
        "    print(e)\n"
      ],
      "metadata": {
        "colab": {
          "base_uri": "https://localhost:8080/"
        },
        "id": "W_fvOMhhCFRf",
        "outputId": "1a164c44-fe30-45b4-9b07-87ac4a617849"
      },
      "id": "W_fvOMhhCFRf",
      "execution_count": 43,
      "outputs": [
        {
          "output_type": "stream",
          "name": "stdout",
          "text": [
            "All properties for the LocationRecord:\n",
            "\n",
            "http://www.w3.org/1999/02/22-rdf-syntax-ns#type → https://w3id.org/hto#LocationRecord\n",
            "https://w3id.org/hto#hasOriginalDescription → https://w3id.org/hto/OriginalDescription/9910440713804340_97424370_1007501475_0NLS\n",
            "https://w3id.org/hto#name → FIRTH AND STENNIS\n",
            "https://w3id.org/hto#endsAtPage → https://w3id.org/hto/Page/9910440713804340_97424370_470\n",
            "https://w3id.org/hto#startsAtPage → https://w3id.org/hto/Page/9910440713804340_97424370_470\n"
          ]
        }
      ]
    },
    {
      "cell_type": "markdown",
      "source": [
        "### Query 11: Retrieve title, start-end page, ext of a article place\n",
        "\n",
        "\n",
        "### Query 11: Retrieve article metadata including title, text, and page range\n",
        "\n",
        "This query aggregates key metadata about Gazetteer articles modeled as `hto:LocationRecord` resources.\n",
        "\n",
        "Each result includes:\n",
        "- `hto:name` — the article title or heading (e.g., “FIRTH AND STENNIS”)\n",
        "- `hto:text` — the full textual content of the article (from `hto:OriginalDescription`)\n",
        "- `hto:startsAtPage` and `hto:endsAtPage` — the page span in the digitized volume\n",
        "\n",
        "The query joins the `hto:LocationRecord` with its corresponding `hto:OriginalDescription`, providing a compact view of what each article covers, how long it is, and where it appears in the source volume.\n",
        "\n",
        "This is useful for content previews, document navigation interfaces, or comparative analysis across editions.\n"
      ],
      "metadata": {
        "id": "dUsosI-5FPvt"
      },
      "id": "dUsosI-5FPvt"
    },
    {
      "cell_type": "code",
      "source": [
        "sparql.setQuery(\"\"\"\n",
        "PREFIX hto: <https://w3id.org/hto#>\n",
        "\n",
        "SELECT ?record ?name ?text ?startPage ?endPage WHERE {\n",
        "  ?record a hto:LocationRecord ;\n",
        "          hto:name ?name ;\n",
        "          hto:hasOriginalDescription ?desc ;\n",
        "          hto:startsAtPage ?startPage ;\n",
        "          hto:endsAtPage ?endPage .\n",
        "  ?desc hto:text ?text .\n",
        "}\n",
        "LIMIT 20\n",
        "\"\"\")\n",
        "\n",
        "try:\n",
        "    ret = sparql.queryAndConvert()\n",
        "    for r in ret[\"results\"][\"bindings\"]:\n",
        "        print(f\"Article title: {r['name']['value']}\")\n",
        "        print(f\"Start page: {r['startPage']['value']}\")\n",
        "        print(f\"End page:   {r['endPage']['value']}\")\n",
        "        print(f\"Text: {r['text']['value'][:200]}...\\n\")\n",
        "except Exception as e:\n",
        "    print(e)\n",
        "\n"
      ],
      "metadata": {
        "colab": {
          "base_uri": "https://localhost:8080/"
        },
        "id": "9NNpLd1ECTa5",
        "outputId": "1effb96f-322e-43d6-8b3e-b33162a58059"
      },
      "id": "9NNpLd1ECTa5",
      "execution_count": 45,
      "outputs": [
        {
          "output_type": "stream",
          "name": "stdout",
          "text": [
            "Article title: FIRTH AND STENNIS\n",
            "Start page: https://w3id.org/hto/Page/9910440713804340_97424370_470\n",
            "End page:   https://w3id.org/hto/Page/9910440713804340_97424370_470\n",
            "Text: a united parish on the mainland of Orkney, of nine miles in length, with a varying breadth, lying west of Kirkwall. In its centre is the lake of S tennis or Stenhouse, which is nearly divided in two b...\n",
            "\n",
            "Article title: FLEET LOCH\n",
            "Start page: https://w3id.org/hto/Page/9910440713804340_97424370_471\n",
            "End page:   https://w3id.org/hto/Page/9910440713804340_97424370_471\n",
            "Text: an inlet of the sea on the south-east coast of Sutherlandshire, across the narrow neck of which there is a ferry, on the thoroughfare along the coast northwards from Dornoch....\n",
            "\n",
            "Article title: FRODA\n",
            "Start page: https://w3id.org/hto/Page/9910440713804340_97424370_486\n",
            "End page:   https://w3id.org/hto/Page/9910440713804340_97424370_486\n",
            "Text: FRODA, an islet on the west coast of Skye....\n",
            "\n",
            "Article title: CLYNE\n",
            "Start page: https://w3id.org/hto/Page/9910440713804340_97424370_179\n",
            "End page:   https://w3id.org/hto/Page/9910440713804340_97424370_179\n",
            "Text: a parish in Sutherlandshire, lying on the shore of the Moray Firth, and on the north bank of Brora Water, having the parish of Loth on its north-eastern quarter. In consists of braes declining sea-war...\n",
            "\n",
            "Article title: AVEN OR AVON\n",
            "Start page: https://w3id.org/hto/Page/9910440713804340_97424370_88\n",
            "End page:   https://w3id.org/hto/Page/9910440713804340_97424370_88\n",
            "Text: a tributary streamlet of the Spey, drawing its source from a small loch in the extreme south-westerly point of Banffshire, in Glen Aven, and the Forest of Glen Aven which are named from it, and increa...\n",
            "\n",
            "Article title: AVEN OR AVON\n",
            "Start page: https://w3id.org/hto/Page/9910440713804340_97424370_89\n",
            "End page:   https://w3id.org/hto/Page/9910440713804340_97424370_89\n",
            "Text: a river which, throughout nearly its whole course, divides Stirlingshire from Linfithgowshire, and is crossed by the road from Edinburgh to Stirling at the village of Linlithgowbridge. About a mile up...\n",
            "\n",
            "Article title: BALERNO\n",
            "Start page: https://w3id.org/hto/Page/9910440713804340_97424370_102\n",
            "End page:   https://w3id.org/hto/Page/9910440713804340_97424370_102\n",
            "Text: BALERNO, a village in the parish of Currie, county of Mid-Lothian, on the water of Leith, about six miles west from Edinburgh ; at which there are some mills for the manufacture of coarse paper, and a...\n",
            "\n",
            "Article title: DUNBEATH\n",
            "Start page: https://w3id.org/hto/Page/9910440713804340_97424370_257\n",
            "End page:   https://w3id.org/hto/Page/9910440713804340_97424370_257\n",
            "Text: DUNBEATH, a thriving fishing village on the east coast of Caithness, at the mouth of the DUNBEATH, (WATER OF) a river in Caithness, parish of Latheron, which, after flowing in an easterly direction, f...\n",
            "\n",
            "Article title: ARROCHAR\n",
            "Start page: https://w3id.org/hto/Page/9910440713804340_97424370_84\n",
            "End page:   https://w3id.org/hto/Page/9910440713804340_97424370_84\n",
            "Text: a parish in Dumbartonshire, lying between Loch Lomond and Loch Long, bounded on the south by Luss, extending nearly sixteen miles in length by three in breadth. The land is hilly and pastoral. At the ...\n",
            "\n",
            "Article title: COLL\n",
            "Start page: https://w3id.org/hto/Page/9910440713804340_97424370_183\n",
            "End page:   https://w3id.org/hto/Page/9910440713804340_97424370_183\n",
            "Text: COLL, an island, lying off the west coast of Midi, Argyleshire, from which it is distant about seven miles, and forming part of the parish of Tiree, from which it is divided by a narrow rocky sound. I...\n",
            "\n",
            "Article title: BEITH\n",
            "Start page: https://w3id.org/hto/Page/9910440713804340_97424370_113\n",
            "End page:   https://w3id.org/hto/Page/9910440713804340_97424370_113\n",
            "Text: B E I T H. 85 a leap in a wrong direction, (from the frothiness of the water), tumbled into the pot, where it was soon boiled and eaten by his Lordship and attendants. This was done, that he might boa...\n",
            "\n",
            "Article title: ANNAN\n",
            "Start page: https://w3id.org/hto/Page/9910440713804340_97424370_69\n",
            "End page:   https://w3id.org/hto/Page/9910440713804340_97424370_69\n",
            "Text: ANNAN, a second rate river, which rises in the hollow of a huge hill dividing Dumfries-shire from Peebles-shire, known by the strange name of the Devil's Beef Statiti, and flows altogether about thirt...\n",
            "\n",
            "Article title: GLAMMIS\n",
            "Start page: https://w3id.org/hto/Page/9910440713804340_97424370_495\n",
            "End page:   https://w3id.org/hto/Page/9910440713804340_97424370_495\n",
            "Text: GLAMMIS, a rich fertile parish in Forfarshire, lying in the bottom of the vale of Strathmore, south-west of Forfar, and extending twelve miles in length, by from one to five in breadth. The only objec...\n",
            "\n",
            "Article title: CARSE\n",
            "Start page: https://w3id.org/hto/Page/9910440713804340_97424370_167\n",
            "End page:   https://w3id.org/hto/Page/9910440713804340_97424370_167\n",
            "Text: CARSE, a word signifying \" a flat piece of ground,\" and which has been popularly and specially applied to three several tracts of country in Scotland, namely, the Carse of Falkirk, the Carse of Stirli...\n",
            "\n",
            "Article title: CRAIGLOCKHART\n",
            "Start page: https://w3id.org/hto/Page/9910440713804340_97424370_189\n",
            "End page:   https://w3id.org/hto/Page/9910440713804340_97424370_189\n",
            "Text: CRAIG-LOCKHART, a beautifully wooded eminence a short way west of Morningside, in a south-westerly direction from Edinburgh, which slopes gently to the east, and is precipitous on its western side. On...\n",
            "\n",
            "Article title: COCKPEN\n",
            "Start page: https://w3id.org/hto/Page/9910440713804340_97424370_180\n",
            "End page:   https://w3id.org/hto/Page/9910440713804340_97424370_180\n",
            "Text: COCKPEN, a parish in the county of Edinburgh, lying in a southerly direction from the metropolis, between the parishes of Carrington and Lasswade, and chiefly on the left bank of the South Esk. The su...\n",
            "\n",
            "Article title: ABERARGIE\n",
            "Start page: https://w3id.org/hto/Page/9910440713804340_97424370_29\n",
            "End page:   https://w3id.org/hto/Page/9910440713804340_97424370_29\n",
            "Text: ABERARGIE, a village in the parish of Abernethy, Perthshire, a mile west of Abernethy....\n",
            "\n",
            "Article title: FORGANDENNY\n",
            "Start page: https://w3id.org/hto/Page/9910440713804340_97424370_481\n",
            "End page:   https://w3id.org/hto/Page/9910440713804340_97424370_481\n",
            "Text: FORGANDENNY, a parish in the district of Strathearn, Perthshire, extending from the hilly boundary of Kinross-shire (to which a small part of it belongs) to the south bank of the Earn, a length of at ...\n",
            "\n",
            "Article title: CLOGH LIGHTHOUSE THE\n",
            "Start page: https://w3id.org/hto/Page/9910440713804340_97424370_177\n",
            "End page:   https://w3id.org/hto/Page/9910440713804340_97424370_177\n",
            "Text: is erected on a point of land on the south shore of the firth of Clyde in the county of Renfrew, about five miles below the port of Greenock. The ligkt exhibited is stationary, and appears like a star...\n",
            "\n",
            "Article title: GAIRNEY\n",
            "Start page: https://w3id.org/hto/Page/9910440713804340_97424370_487\n",
            "End page:   https://w3id.org/hto/Page/9910440713804340_97424370_487\n",
            "Text: GAIRNEY, a small stream in Kinrossshire, rising from the small mountain lochs, on the top of the King's-seat Hills, in the parish of Cleish, and flowing through the vale of Kinross, falls into Loch Le...\n",
            "\n"
          ]
        }
      ]
    },
    {
      "cell_type": "markdown",
      "source": [
        "### Query 12: Retrieve all Gazetteer entries titled \"DUNDEE\" with article text, volume, series, and year\n",
        "\n",
        "This query returns all Gazetteer entries with the title `\"DUNDEE\"` from the knowledge graph, using the `hto:name` property on `hto:LocationRecord`.\n",
        "\n",
        "For each entry, the query retrieves:\n",
        "- The full article text (`hto:text`)\n",
        "- Start and end pages in the source volume (`hto:startsAtPage`, `hto:endsAtPage`)\n",
        "- The volume (`hto:Volume`) it belongs to, with title\n",
        "- The series (`hto:Series`) the volume is part of, with title\n",
        "- The year of publication, resolved from either the volume or the series (`hto:yearPublished`)\n",
        "\n",
        "By using `COALESCE`, the query returns the earliest available year value, whether it's declared on the volume or the series — accommodating incomplete metadata.\n",
        "\n",
        "This query is ideal for comparing how a single place, such as Dundee, has been described across different editions and series in the Gazetteers collection.\n"
      ],
      "metadata": {
        "id": "mQeKRy62J5WI"
      },
      "id": "mQeKRy62J5WI"
    },
    {
      "cell_type": "code",
      "source": [
        "sparql.setQuery(\"\"\"\n",
        "PREFIX hto: <https://w3id.org/hto#>\n",
        "\n",
        "SELECT DISTINCT ?record ?desc ?text ?startPage ?endPage ?volume ?volumeTitle ?series ?seriesTitle ?year WHERE {\n",
        "  ?record a hto:LocationRecord ;\n",
        "          hto:name \"DUNDEE\" ;\n",
        "          hto:hasOriginalDescription ?desc ;\n",
        "          hto:startsAtPage ?startPage ;\n",
        "          hto:endsAtPage ?endPage .\n",
        "\n",
        "  ?desc hto:text ?text .\n",
        "\n",
        "  # Get the volume from the page\n",
        "  ?volume hto:hadMember ?page .\n",
        "  FILTER (?page = ?startPage || ?page = ?endPage)\n",
        "\n",
        "  OPTIONAL { ?volume hto:title ?volumeTitle . }\n",
        "  OPTIONAL { ?volume hto:wasMemberOf ?series . }\n",
        "  OPTIONAL { ?series hto:title ?seriesTitle . }\n",
        "  OPTIONAL { ?volume hto:yearPublished ?volumeYear . }\n",
        "  OPTIONAL { ?series hto:yearPublished ?seriesYear . }\n",
        "\n",
        "  # Coalesce year from volume or series\n",
        "  BIND(COALESCE(?volumeYear, ?seriesYear) AS ?year)\n",
        "}\n",
        "LIMIT 20\n",
        "\"\"\")\n",
        "\n",
        "try:\n",
        "    ret = sparql.queryAndConvert()\n",
        "    for r in ret[\"results\"][\"bindings\"]:\n",
        "        print(f\"📘 Record: {r['record']['value']}\")\n",
        "        print(f\"📄 Start Page: {r['startPage']['value']} → End Page: {r['endPage']['value']}\")\n",
        "        print(f\"📚 Volume: {r.get('volumeTitle', {}).get('value', 'N/A')}\")\n",
        "        print(f\"📦 Series: {r.get('seriesTitle', {}).get('value', 'N/A')}\")\n",
        "        print(f\"📅 Year: {r.get('year', {}).get('value', 'N/A')}\")\n",
        "        print(f\"📝 Text: {r['text']['value'][:300]}...\\n\")\n",
        "except Exception as e:\n",
        "    print(e)\n",
        "\n"
      ],
      "metadata": {
        "colab": {
          "base_uri": "https://localhost:8080/"
        },
        "id": "wg_kAMynI__v",
        "outputId": "1dd2b4f1-561a-4ac9-bb42-c7ba61e95f3f"
      },
      "id": "wg_kAMynI__v",
      "execution_count": 51,
      "outputs": [
        {
          "output_type": "stream",
          "name": "stdout",
          "text": [
            "📘 Record: https://w3id.org/hto/LocationRecord/9910440713804340_97424370_769119998_0\n",
            "📄 Start Page: https://w3id.org/hto/Page/9910440713804340_97424370_258 → End Page: https://w3id.org/hto/Page/9910440713804340_97424370_268\n",
            "📚 Volume: gazetteer of Scotland. [With plates and maps.] 1838, Volume 1\n",
            "📦 Series: gazetteer of Scotland. [With plates and maps.]\n",
            "📅 Year: 1838\n",
            "📝 Text: DUNDEE. 229 of some high rocks close to the river, and about a quarter of a mile from the church, was erected, in early times, a tolerably secure fortress, similar to that still nearly entire, at Broughty, a few miles farther down the Tay. Little is satisfactorily known of the castle of Dundee. Afte...\n",
            "\n",
            "📘 Record: https://w3id.org/hto/LocationRecord/9928112733804340_97459138_769119998_0\n",
            "📄 Start Page: https://w3id.org/hto/Page/9928112733804340_97459138_562 → End Page: https://w3id.org/hto/Page/9928112733804340_97459138_572\n",
            "📚 Volume: imperial gazetteer of Scotland; or, Dictionary of Scottish topography, compiled from the most recent authorities, and forming a complete body of Scottish geography, physical, statistical, and historical 1868, Volume 1\n",
            "📦 Series: imperial gazetteer of Scotland; or, Dictionary of Scottish topography, compiled from the most recent authorities, and forming a complete body of Scottish geography, physical, statistical, and historical\n",
            "📅 Year: 1868\n",
            "📝 Text: DUNDEE. 44'l DUNDEE. was superseded by a clean area, well supplied with water, and placed under suitable regulations, between the end of Castle-street and the Green-market; and that Kish-market also was proposed, about the end of 1865, to be suporseded by a new one on some other site. A conspicuous ...\n",
            "\n",
            "📘 Record: https://w3id.org/hto/LocationRecord/9928228793804340_97372786_769119998_0\n",
            "📄 Start Page: https://w3id.org/hto/Page/9928228793804340_97372786_163 → End Page: https://w3id.org/hto/Page/9928228793804340_97372786_173\n",
            "📚 Volume: Ordnance gazetteer of Scotland 1884-1885, Volume 2\n",
            "📦 Series: Ordnance gazetteer of Scotland\n",
            "📅 Year: 1883\n",
            "📝 Text: 8£ feet wide and 11 high ; but must have been higher originally, as the ground has been raised in the course of years ; has been frequently ' improved, ' the most recent having been in 1877, when a plate was fixed on the outer or E side, with the following inscription : — ' During the plague of 1544...\n",
            "\n",
            "📘 Record: https://w3id.org/hto/LocationRecord/9928228793804340_97376462_769119998_0\n",
            "📄 Start Page: https://w3id.org/hto/Page/9928228793804340_97376462_109 → End Page: https://w3id.org/hto/Page/9928228793804340_97376462_109\n",
            "📚 Volume: Ordnance gazetteer of Scotland 1884-1885, Volume 3\n",
            "📦 Series: Ordnance gazetteer of Scotland\n",
            "📅 Year: 1883\n",
            "📝 Text: Dundee, 18 in Arbroath and its neighbourhood, 6 in Montrose and its neighbourhood, 6 in Forfar, 4 in Brechin, and 2 in Carnoustie —altogether 108 ; and they had 278,564 spindles, 11,329 power-looms, and 7715 of nominal horse-power, and employed 46,571 persons. The spinning, weaving, and bleaching of...\n",
            "\n",
            "📘 Record: https://w3id.org/hto/LocationRecord/9930626093804340_97393254_769119998_0\n",
            "📄 Start Page: https://w3id.org/hto/Page/9930626093804340_97393254_420 → End Page: https://w3id.org/hto/Page/9930626093804340_97393254_433\n",
            "📚 Volume: Ordnance gazetteer of Scotland 1901\n",
            "📦 Series: Ordnance gazetteer of Scotland\n",
            "📅 Year: 1901\n",
            "📝 Text: of Cowgate, nearly parallel to Seagate, extends about 1J mile. But while thus covering an extensive area, the town possesses little regularity of plan. Excepting numerous new streets, generally short ones, on the N, and a number of brief communications between the two tp-eat lines along the low grou...\n",
            "\n",
            "📘 Record: https://w3id.org/hto/LocationRecord/9930626093804340_97393254_769119998_1\n",
            "📄 Start Page: https://w3id.org/hto/Page/9930626093804340_97393254_1257 → End Page: https://w3id.org/hto/Page/9930626093804340_97393254_1257\n",
            "📚 Volume: Ordnance gazetteer of Scotland 1901\n",
            "📦 Series: Ordnance gazetteer of Scotland\n",
            "📅 Year: 1901\n",
            "📝 Text: The system of wrought-iron lattice girders was adopted throughout, Mr Bouch adhering to the form of construction which had been successfully employed in other works designed by him. The piers were originally intended to be of brickwork, but after the fourteen nearest the south shore had been thus er...\n",
            "\n",
            "📘 Record: https://w3id.org/hto/LocationRecord/9931003343804340_97343436_769119998_0\n",
            "📄 Start Page: https://w3id.org/hto/Page/9931003343804340_97343436_169 → End Page: https://w3id.org/hto/Page/9931003343804340_97343436_169\n",
            "📚 Volume: gazetteer of Scotland 1803\n",
            "📦 Series: gazetteer of Scotland\n",
            "📅 Year: 1803\n",
            "📝 Text: a royal borough in the county of Angus or Forfar, seated on the N. bank of the river Tay, about 12 miles from its mouth, in 5627' 23'' N. latitude, and 32' W. longitude from Greenwich. It is a large and well built town, consisting of several streets, diverging in every direction from the market-plac...\n",
            "\n",
            "📘 Record: https://w3id.org/hto/LocationRecord/9931344933804340_97437554_769119998_0\n",
            "📄 Start Page: https://w3id.org/hto/Page/9931344933804340_97437554_455 → End Page: https://w3id.org/hto/Page/9931344933804340_97437554_468\n",
            "📚 Volume: topographical, statistical, and historical gazetteer of Scotland 1842, Volume 1\n",
            "📦 Series: topographical, statistical, and historical gazetteer of Scotland\n",
            "📅 Year: 1842\n",
            "📝 Text: noucment, what it wants in the neat forms and elegant attractions of simple beauty. Its exterior, also, and its general grouping, and its richness of situation in the core of a brilliant landscape, eminently render it, as seen from the Fife side of the Tay, or from Broughty ferry-road, the justly la...\n",
            "\n",
            "📘 Record: https://w3id.org/hto/LocationRecord/9933057493804340_97355229_769119998_0\n",
            "📄 Start Page: https://w3id.org/hto/Page/9933057493804340_97355229_151 → End Page: https://w3id.org/hto/Page/9933057493804340_97355229_152\n",
            "📚 Volume: Gazetteer of Scotland 1882\n",
            "📦 Series: Gazetteer of Scotland\n",
            "📅 Year: 1882\n",
            "📝 Text: DUNDEE, town and parish on south border of Forfarshire. The town stands on Firth of Tay, 9J mdes west of Buddonness, and 2H east-north-east of Perth ; dates from ancient times, but never till quite a modern period became large, and now, as to both population and aggregate importance, is the third to...\n",
            "\n",
            "📘 Record: https://w3id.org/hto/LocationRecord/9931344573804340_97414570_769119998_0\n",
            "📄 Start Page: https://w3id.org/hto/Page/9931344573804340_97414570_196 → End Page: https://w3id.org/hto/Page/9931344573804340_97414570_197\n",
            "📚 Volume: gazetteer of Scotland: containing a particular and concise description of the counties, parishes, islands, cities ... With ... map 1806\n",
            "📦 Series: gazetteer of Scotland: containing a particular and concise description of the counties, parishes, islands, cities ... With ... map\n",
            "📅 Year: 1806\n",
            "📝 Text: a royal borough in the county of Angus or Forfar, seated on the N. bank of the river Tay, about 12miles from its mouth, in 56°27' 23\" N. latitude, and s°2 ' 55\" W. longitude from Greenwich. It is # a large and well built town, consisting of several streets, diverging in every direction from the mark...\n",
            "\n",
            "📘 Record: https://w3id.org/hto/LocationRecord/9931344583804340_97421702_769119998_0\n",
            "📄 Start Page: https://w3id.org/hto/Page/9931344583804340_97421702_88 → End Page: https://w3id.org/hto/Page/9931344583804340_97421702_89\n",
            "📚 Volume: Gazetteer of Scotland; arranged under the various descriptions of counties, parishes, islands 1825?\n",
            "📦 Series: Gazetteer of Scotland; arranged under the various descriptions of counties, parishes, islands\n",
            "📅 Year: 1825\n",
            "📝 Text: a parish. in the county of Angus, 6 miles in length from E. V. along the banks.of the Tay, jts breadth varying from 1 to 4. It is bounded on the S. by the Tay. The soil is in general uneven, but many places are abundantly fertile. The Law, or hill of Dundee, is situated on the N. side of the town, r...\n",
            "\n"
          ]
        }
      ]
    },
    {
      "cell_type": "markdown",
      "source": [
        "### Query 13: List the longest Gazetteer articles by text length\n",
        "\n",
        "This query retrieves the top 10 `hto:LocationRecord` entries in the Gazetteers knowledge graph, ranked by the length of their textual content (`hto:text`).\n",
        "\n",
        "Each result includes:\n",
        "- The article title (`hto:name`)\n",
        "- The URI of the location record\n",
        "- A sample of the full text\n",
        "- Volume title\n",
        "\n",
        "Sorting articles by character length is a useful heuristic for identifying substantial entries — such as major cities, counties, or complex place groupings — which often span multiple paragraphs or pages. These long entries are ideal candidates for in-depth analysis, LLM summarization,\n"
      ],
      "metadata": {
        "id": "1pAE2cpIKrON"
      },
      "id": "1pAE2cpIKrON"
    },
    {
      "cell_type": "code",
      "source": [
        "sparql.setQuery(\"\"\"\n",
        "PREFIX hto: <https://w3id.org/hto#>\n",
        "\n",
        "SELECT ?record ?name ?text ?volumeTitle ?year WHERE {\n",
        "  ?record a hto:LocationRecord ;\n",
        "          hto:name ?name ;\n",
        "          hto:hasOriginalDescription ?desc ;\n",
        "          hto:startsAtPage ?page .\n",
        "\n",
        "  ?desc hto:text ?text .\n",
        "\n",
        "  ?volume hto:hadMember ?page .\n",
        "  OPTIONAL { ?volume hto:title ?volumeTitle . }\n",
        "  OPTIONAL { ?volume hto:yearPublished ?year . }\n",
        "}\n",
        "ORDER BY DESC(STRLEN(?text))\n",
        "LIMIT 10\n",
        "\"\"\")\n",
        "\n",
        "try:\n",
        "    ret = sparql.queryAndConvert()\n",
        "    for r in ret[\"results\"][\"bindings\"]:\n",
        "        print(f\"📍 Title: {r['name']['value']}\")\n",
        "        print(f\"📝 Record: {r['record']['value']}\")\n",
        "        print(f\"📚 Volume: {r.get('volumeTitle', {}).get('value', 'N/A')} ({r.get('year', {}).get('value', 'N/A')})\")\n",
        "        print(f\"📏 Length: {len(r['text']['value'])} characters\")\n",
        "        print(f\"🔍 Excerpt: {r['text']['value'][:300]}...\\n\")\n",
        "except Exception as e:\n",
        "    print(e)\n",
        "\n",
        "\n",
        "\n"
      ],
      "metadata": {
        "colab": {
          "base_uri": "https://localhost:8080/"
        },
        "id": "WuCV_1EcKr9Z",
        "outputId": "79fb820d-e093-4352-8e63-0f3a61e913c2"
      },
      "id": "WuCV_1EcKr9Z",
      "execution_count": 61,
      "outputs": [
        {
          "output_type": "stream",
          "name": "stdout",
          "text": [
            "📍 Title: EDINBURGH\n",
            "📝 Record: https://w3id.org/hto/LocationRecord/9910440713804340_97424370_5424703086_0\n",
            "📚 Volume: gazetteer of Scotland. [With plates and maps.] 1838, Volume 1 (N/A)\n",
            "📏 Length: 800374 characters\n",
            "🔍 Excerpt: EDINBURGH. 285 monarch, held his first parliament in Edinburgh, in the year 1214, and this event served to give it still more the air of a capital and seat of supreme justice. When Alexander, in 1221, married Joan, the princess of England, he made Edinburgh the place of his residence for some time. ...\n",
            "\n",
            "📍 Title: EDINBURGH\n",
            "📝 Record: https://w3id.org/hto/LocationRecord/9928112733804340_97459138_5424703086_0\n",
            "📚 Volume: imperial gazetteer of Scotland; or, Dictionary of Scottish topography, compiled from the most recent authorities, and forming a complete body of Scottish geography, physical, statistical, and historical 1868, Volume 1 (N/A)\n",
            "📏 Length: 678908 characters\n",
            "🔍 Excerpt: EDINBURGH. -,:;:; EDINBURGH. burgh and Glasgow railway and the terminus ol' the Nortli British railway ara conjoint, at the east side of Waverloy-bridge, in the centre of the North loch valley, midway between the North bridge and the Mound. The front has only a one-story elevation above the level of...\n",
            "\n",
            "📍 Title: GLASGOW\n",
            "📝 Record: https://w3id.org/hto/LocationRecord/9928112733804340_97459138_4307577365_0\n",
            "📚 Volume: imperial gazetteer of Scotland; or, Dictionary of Scottish topography, compiled from the most recent authorities, and forming a complete body of Scottish geography, physical, statistical, and historical 1868, Volume 1 (N/A)\n",
            "📏 Length: 584870 characters\n",
            "🔍 Excerpt: The undoubted light of history again breaks in in the early part of the twelfth century, when in 1116, 1 lavid, Prince of Cumbria, and brother of Alexander I. of Scotland, re-founded the see, and promoted his preceptor and Chancellor John (commonly called Achaius), to the bishopric. This prelate was...\n",
            "\n",
            "📍 Title: GLASGOW\n",
            "📝 Record: https://w3id.org/hto/LocationRecord/9930626093804340_97393254_4307577365_0\n",
            "📚 Volume: Ordnance gazetteer of Scotland 1901 (N/A)\n",
            "📏 Length: 435126 characters\n",
            "🔍 Excerpt: thorn (3752 acres), so that the area of what may be termed 'Greater Glasgow' now covers 11,861 acres. The burghs of Kinning Park, Govan, and Partick resisted annexation and still remain independent; but were these and the landward part of the parish of Govan to be added to the city, to which they na...\n",
            "\n",
            "📍 Title: GLASGOW\n",
            "📝 Record: https://w3id.org/hto/LocationRecord/9928228793804340_97376462_4307577365_0\n",
            "📚 Volume: Ordnance gazetteer of Scotland 1884-1885, Volume 3 (N/A)\n",
            "📏 Length: 364111 characters\n",
            "🔍 Excerpt: cipal burgh, and, crossing the Kelvin, takes in the lands of Gilmoro Hill with the new University buildings. Starting from a point on the Monkland Canal at the NE corner of Alexandra Park, the parliamentary and municipal boundary line skirts the E side of the park till near the SE corner, and then t...\n",
            "\n",
            "📍 Title: EDINBURGH\n",
            "📝 Record: https://w3id.org/hto/LocationRecord/9928228793804340_97372786_5424703086_0\n",
            "📚 Volume: Ordnance gazetteer of Scotland 1884-1885, Volume 2 (N/A)\n",
            "📏 Length: 266197 characters\n",
            "🔍 Excerpt: Not to mention the more artificial adornments, architectural and other, with their grouping and array, there are the imposing natural features, with beetling cliffs and hollow or open dells, and rich interspaces of wooded lawn, tended by the art of the gardener, and interspersed or bordered here and...\n",
            "\n",
            "📍 Title: EDINBURGH\n",
            "📝 Record: https://w3id.org/hto/LocationRecord/9930626093804340_97393254_5424703086_0\n",
            "📚 Volume: Ordnance gazetteer of Scotland 1901 (N/A)\n",
            "📏 Length: 261664 characters\n",
            "🔍 Excerpt: Seat is much the same, only more sweeping. Of the views from the S, which are all alike excellent, probably those from Liberton and the Braids are the best; though the nearer one from Blackford has, by Scott's description, been rendered much more famous. ' Fairer scene ' Lord Marmion 'ne'er surveyed...\n",
            "\n",
            "📍 Title: GLASGOW\n",
            "📝 Record: https://w3id.org/hto/LocationRecord/9910440713804340_97424370_4307577365_0\n",
            "📚 Volume: gazetteer of Scotland. [With plates and maps.] 1838, Volume 1 (N/A)\n",
            "📏 Length: 214226 characters\n",
            "🔍 Excerpt: 40.) While these dismal events occurred, Glasgow was subjected to the domestic and complicated ravages of plague, famine, and fire. A dreadful conflagration, the greatest that ever occurred in the city, happened in July 1652. It broke out in a narrow lane in the High Street, part of which it destroy...\n",
            "\n",
            "📍 Title: EDINBURGH\n",
            "📝 Record: https://w3id.org/hto/LocationRecord/9928151783804340_97482042_5424703086_0\n",
            "📚 Volume: topographical dictionary of Scotland 1846, Volume 1 (N/A)\n",
            "📏 Length: 202136 characters\n",
            "🔍 Excerpt: E D I N EDI N to what severities the queen was subjected, embraced her cause, and the city, alternately held by both parties, became for some time the scene of confusion and civil war. The lords of the regency applied for assistance to Elizabeth of England, and that queen sent to their assistance 10...\n",
            "\n",
            "📍 Title: EDINBURGH\n",
            "📝 Record: https://w3id.org/hto/LocationRecord/9931344933804340_97437554_5424703086_0\n",
            "📚 Volume: topographical, statistical, and historical gazetteer of Scotland 1842, Volume 1 (N/A)\n",
            "📏 Length: 172176 characters\n",
            "🔍 Excerpt: to Edinburgh by general consent. Mr. Williams says: \" The distant view of Athens from the i Egean sea is extremely like that of Edinburgh from the frith of Forth ; though certainly the latter is considerably superior.\" \" There are,\" he adds, \" several points of view on the elevated grounds near Edin...\n",
            "\n"
          ]
        }
      ]
    },
    {
      "cell_type": "markdown",
      "source": [
        "### Query 14: Show article-to-article references (`refersTo`) by name\n",
        "\n",
        "This query identifies and displays semantic links between Gazetteer entries that refer to one another using the `hto:refersTo` property.\n",
        "\n",
        "Each result shows:\n",
        "- The source article title (`hto:name`) and URI (`hto:LocationRecord`)\n",
        "- The referred-to article’s title and URI\n",
        "\n",
        "By joining the `refersTo` target with its own `hto:name`, the query outputs human-readable relations such as:\n",
        "\n",
        "> `CRAWFURDSDIKES refers to GREENOCK`\n",
        "\n",
        "This is useful for:\n",
        "- Mapping internal cross-references within the Gazetteers corpus\n",
        "- Detecting redirects, summaries, or composite place descriptions\n",
        "- Building link graphs or knowledge navigation tools\n"
      ],
      "metadata": {
        "id": "F2cgDXPyNLCv"
      },
      "id": "F2cgDXPyNLCv"
    },
    {
      "cell_type": "code",
      "source": [
        "sparql.setQuery(\"\"\"\n",
        "PREFIX hto: <https://w3id.org/hto#>\n",
        "\n",
        "SELECT ?record ?name ?altName WHERE {\n",
        "  ?record a hto:LocationRecord ;\n",
        "          hto:name ?name ;\n",
        "          hto:alternateName ?altName .\n",
        "}\n",
        "LIMIT 20\n",
        "\"\"\")\n",
        "\n",
        "try:\n",
        "    ret = sparql.queryAndConvert()\n",
        "    for r in ret[\"results\"][\"bindings\"]:\n",
        "        print(f\"📝 {r['name']['value']} — also known as: {r['altName']['value']}\")\n",
        "        print(f\"   ↳ URI: {r['record']['value']}\\n\")\n",
        "except Exception as e:\n",
        "    print(e)\n",
        "\n",
        "\n"
      ],
      "metadata": {
        "id": "SEvVCkCSOIrP"
      },
      "id": "SEvVCkCSOIrP",
      "execution_count": 67,
      "outputs": []
    },
    {
      "cell_type": "markdown",
      "source": [
        "### Query 15: Identify Gazetteer article titles reused across multiple records\n",
        "\n",
        "This query counts how many times each `hto:name` (place or article title) appears across the corpus of `hto:LocationRecord` entries.\n",
        "\n",
        "It groups records by name and returns those names that are used more than once, showing how many distinct records share the same title.\n",
        "\n",
        "Each result includes:\n",
        "- The name/title (`hto:name`)\n",
        "- The number of associated records (e.g., entries across different volumes or years)\n",
        "\n",
        "This is essential for:\n",
        "- Detecting reused or ambiguous names (e.g., \"LOGIE\", \"KIRKHILL\")\n",
        "- Understanding how a place was described differently across sources\n",
        "- Supporting disambiguation, temporal analysis, or cross-edition alignment\n"
      ],
      "metadata": {
        "id": "ggTLzQEhQzEf"
      },
      "id": "ggTLzQEhQzEf"
    },
    {
      "cell_type": "code",
      "source": [
        "sparql.setQuery(\"\"\"\n",
        "PREFIX hto: <https://w3id.org/hto#>\n",
        "\n",
        "SELECT ?name (COUNT(?record) AS ?count) WHERE {\n",
        "  ?record a hto:LocationRecord ;\n",
        "          hto:name ?name .\n",
        "}\n",
        "GROUP BY ?name\n",
        "HAVING (COUNT(?record) > 1)\n",
        "ORDER BY DESC(?count)\n",
        "LIMIT 20\n",
        "\"\"\")\n",
        "\n",
        "try:\n",
        "    ret = sparql.queryAndConvert()\n",
        "    print(\"🧭 Repeated article names across records:\\n\")\n",
        "    for r in ret[\"results\"][\"bindings\"]:\n",
        "        print(f\"{r['name']['value']} — {r['count']['value']} records\")\n",
        "except Exception as e:\n",
        "    print(e)\n",
        "\n",
        "\n"
      ],
      "metadata": {
        "colab": {
          "base_uri": "https://localhost:8080/"
        },
        "id": "g2THKBy3P4Mf",
        "outputId": "9bc9112b-2a9c-485c-a5c7-a90fe070a01d"
      },
      "id": "g2THKBy3P4Mf",
      "execution_count": 70,
      "outputs": [
        {
          "output_type": "stream",
          "name": "stdout",
          "text": [
            "🧭 Repeated article names across records:\n",
            "\n",
            "KIRKHILL — 36 records\n",
            "GRANGE — 34 records\n",
            "LOGIE — 34 records\n",
            "KINCARDINE — 32 records\n",
            "KIRKMICHAEL — 31 records\n",
            "MILTON — 31 records\n",
            "ABBEY — 30 records\n",
            "CARRON — 29 records\n",
            "BANKHEAD — 26 records\n",
            "NEWTON — 26 records\n",
            "BENMORE — 25 records\n",
            "BRIDGEND — 24 records\n",
            "FLADDA — 23 records\n",
            "GREENLAW — 22 records\n",
            "KIRKLAND — 22 records\n",
            "LADYKIRK — 22 records\n",
            "NEWBIGGING — 22 records\n",
            "KILBRIDE — 21 records\n",
            "ABERDOUR — 20 records\n",
            "KIRKTON — 20 records\n"
          ]
        }
      ]
    },
    {
      "cell_type": "markdown",
      "source": [
        "### Query 16: Retrieve Gazetteer articles with alternate names\n",
        "\n",
        "This query identifies `hto:LocationRecord` entries that include both a primary name (`hto:name`) and one or more alternate or variant names stored using the `rdfs:label` property.\n",
        "\n",
        "Each result includes:\n",
        "- The main article title (`hto:name`)\n",
        "- An alternate name (`rdfs:label`) such as a historical spelling, synonym, or variant\n",
        "- The URI of the Gazetteer record\n",
        "\n",
        "These alternate names are typically extracted from metadata fields like “Alternative names” in the original digitized sources. Including them is important for:\n",
        "- Enhancing place name disambiguation\n",
        "- Supporting fuzzy search and variant recognition\n",
        "- Preserving historical name usage and orthographic shifts across editions\n"
      ],
      "metadata": {
        "id": "A7-oWjQHRpjc"
      },
      "id": "A7-oWjQHRpjc"
    },
    {
      "cell_type": "code",
      "source": [
        "sparql.setQuery(\"\"\"\n",
        "PREFIX hto: <https://w3id.org/hto#>\n",
        "PREFIX rdfs: <http://www.w3.org/2000/01/rdf-schema#>\n",
        "\n",
        "SELECT DISTINCT ?record ?name ?altName WHERE {\n",
        "  ?record a hto:LocationRecord ;\n",
        "          hto:name ?name ;\n",
        "          rdfs:label ?altName .\n",
        "}\n",
        "LIMIT 20\n",
        "\"\"\")\n",
        "\n",
        "try:\n",
        "    ret = sparql.queryAndConvert()\n",
        "    for r in ret[\"results\"][\"bindings\"]:\n",
        "        print(f\"📝 {r['name']['value']} — also known as: {r['altName']['value']}\")\n",
        "        print(f\"   ↳ URI: {r['record']['value']}\\n\")\n",
        "except Exception as e:\n",
        "    print(e)\n",
        "\n"
      ],
      "metadata": {
        "colab": {
          "base_uri": "https://localhost:8080/"
        },
        "id": "iasS-9_ARDD5",
        "outputId": "b8b1c9c8-0138-4ed0-bab9-5992aea63254"
      },
      "id": "iasS-9_ARDD5",
      "execution_count": 72,
      "outputs": [
        {
          "output_type": "stream",
          "name": "stdout",
          "text": [
            "📝 AVEN OR AVON — also known as: AVON\n",
            "   ↳ URI: https://w3id.org/hto/LocationRecord/9910440713804340_97424370_1052967722_0\n",
            "\n",
            "📝 AVEN OR AVON — also known as: AVON\n",
            "   ↳ URI: https://w3id.org/hto/LocationRecord/9910440713804340_97424370_1052967722_2\n",
            "\n",
            "📝 BURGHHEAD OR BURROWHEAD — also known as: BURROWHEAD\n",
            "   ↳ URI: https://w3id.org/hto/LocationRecord/9910440713804340_97424370_1360851783_0\n",
            "\n",
            "📝 BONKLE OR BUNKLE AND PRESTON — also known as: BUNKLE AND PRESTON\n",
            "   ↳ URI: https://w3id.org/hto/LocationRecord/9910440713804340_97424370_1385500993_0\n",
            "\n",
            "📝 CONAN OR CONON — also known as: CONON\n",
            "   ↳ URI: https://w3id.org/hto/LocationRecord/9910440713804340_97424370_1838535875_0\n",
            "\n",
            "📝 BALLERNO OR BALLEDGARNO — also known as: BALLEDGARNO\n",
            "   ↳ URI: https://w3id.org/hto/LocationRecord/9910440713804340_97424370_2107624191_0\n",
            "\n",
            "📝 COLLINGTON OR COLINTON — also known as: COLINTON\n",
            "   ↳ URI: https://w3id.org/hto/LocationRecord/9910440713804340_97424370_2174040574_0\n",
            "\n",
            "📝 AUCHTERGAVEN OR AUCHTERGOVAN — also known as: AUCHTERGOVAN\n",
            "   ↳ URI: https://w3id.org/hto/LocationRecord/9910440713804340_97424370_2445057303_0\n",
            "\n",
            "📝 ATHOL OR ATHOLE — also known as: ATHOLE\n",
            "   ↳ URI: https://w3id.org/hto/LocationRecord/9910440713804340_97424370_2565902402_0\n",
            "\n",
            "📝 ARCHAIG OR ARKEG LOCH — also known as: ARKEG LOCH\n",
            "   ↳ URI: https://w3id.org/hto/LocationRecord/9910440713804340_97424370_2686366072_0\n",
            "\n",
            "📝 BALLGRAY OR BALLINGRY — also known as: BALLINGRY\n",
            "   ↳ URI: https://w3id.org/hto/LocationRecord/9910440713804340_97424370_2743547794_0\n",
            "\n",
            "📝 ELY OR ELIE — also known as: ELIE\n",
            "   ↳ URI: https://w3id.org/hto/LocationRecord/9910440713804340_97424370_2787355222_0\n",
            "\n",
            "📝 CAPE WRATH OR RATH — also known as: RATH\n",
            "   ↳ URI: https://w3id.org/hto/LocationRecord/9910440713804340_97424370_2901670121_0\n",
            "\n",
            "📝 BALMERINO OR BALMERINOCH — also known as: BALMERINOCH\n",
            "   ↳ URI: https://w3id.org/hto/LocationRecord/9910440713804340_97424370_3923775748_0\n",
            "\n",
            "📝 FANNICH OR FAUNISH LOCH — also known as: FAUNISH LOCH\n",
            "   ↳ URI: https://w3id.org/hto/LocationRecord/9910440713804340_97424370_4160504608_0\n",
            "\n",
            "📝 FAR OR FARR — also known as: FARR\n",
            "   ↳ URI: https://w3id.org/hto/LocationRecord/9910440713804340_97424370_4287032763_0\n",
            "\n",
            "📝 GLASS ARY OR KILMICHAEL — also known as: KILMICHAEL\n",
            "   ↳ URI: https://w3id.org/hto/LocationRecord/9910440713804340_97424370_4379639677_0\n",
            "\n",
            "📝 EORAPIE POINT OR THE BUTT OF LEWIS — also known as: THE BUTT OF LEWIS\n",
            "   ↳ URI: https://w3id.org/hto/LocationRecord/9910440713804340_97424370_4717047912_0\n",
            "\n",
            "📝 ENHALLOW OR INHALLOW — also known as: INHALLOW\n",
            "   ↳ URI: https://w3id.org/hto/LocationRecord/9910440713804340_97424370_4717082956_0\n",
            "\n",
            "📝 BRUNSWARK BURNSWARK OR BIRRENS WARK — also known as: BIRRENS WARK\n",
            "   ↳ URI: https://w3id.org/hto/LocationRecord/9910440713804340_97424370_4743294568_0\n",
            "\n"
          ]
        }
      ]
    }
  ],
  "metadata": {
    "kernelspec": {
      "display_name": "Python 3",
      "language": "python",
      "name": "python3"
    },
    "language_info": {
      "codemirror_mode": {
        "name": "ipython",
        "version": 2
      },
      "file_extension": ".py",
      "mimetype": "text/x-python",
      "name": "python",
      "nbconvert_exporter": "python",
      "pygments_lexer": "ipython2",
      "version": "2.7.6"
    },
    "colab": {
      "provenance": []
    }
  },
  "nbformat": 4,
  "nbformat_minor": 5
}