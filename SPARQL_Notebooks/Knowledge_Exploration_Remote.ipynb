{
 "cells": [
  {
   "metadata": {},
   "cell_type": "markdown",
   "source": [
    "# Knowledge Exploration With SPARQL queries\n",
    "This notebook explores the knowledge in knowledge graphs generated in this repository using sparql queries.\n",
    "Overall, we will query the graph from a remote SPARQL Query Server.\n",
    "\n",
    "Questions this knowledge graph should answer:\n",
    "1. List all the volumes in the Gazetteers collection\n",
    "2. Where was an edition _E_, published or printed?\n",
    "3. What articles are included in a volume _V_?\n",
    "4. What is the text content of an article _A_?\n",
    "5. What are the references articles of an article _A_?\n",
    "6. What sources the text descriptions of article _A_ are extracted from?\n",
    "7. Given an article about a place, how this place has been described across years.\n"
   ],
   "id": "52d57b48aff588d"
  },
  {
   "metadata": {},
   "cell_type": "markdown",
   "source": [
    "## Setup\n",
    "\n",
    "Make sure **SPARQLWrapper** is installed in your python environment."
   ],
   "id": "35677ae13e7ab794"
  },
  {
   "metadata": {
    "ExecuteTime": {
     "end_time": "2025-05-08T16:09:28.536442Z",
     "start_time": "2025-05-08T16:09:28.448340Z"
    }
   },
   "cell_type": "code",
   "source": [
    "from SPARQLWrapper import SPARQLWrapper, JSON\n",
    "sparql = SPARQLWrapper(\n",
    "    \"http://query.frances-ai.com/hto_gazetteers\"\n",
    ")\n",
    "sparql.setReturnFormat(JSON)"
   ],
   "id": "16e65564690b8733",
   "outputs": [],
   "execution_count": 1
  },
  {
   "metadata": {},
   "cell_type": "markdown",
   "source": [
    "## Query the graph\n",
    "\n",
    "### Question 1: List all the volumes in the Gazetteers collection"
   ],
   "id": "621e563cda02b043"
  },
  {
   "metadata": {
    "ExecuteTime": {
     "end_time": "2025-05-08T16:20:39.003130Z",
     "start_time": "2025-05-08T16:20:38.741340Z"
    }
   },
   "cell_type": "code",
   "source": [
    "sparql.setQuery(\"\"\"\n",
    "    PREFIX hto: <https://w3id.org/hto#>\n",
    "    SELECT * WHERE {\n",
    "        ?volume a hto:Volume;\n",
    "            hto:title ?vol_title.\n",
    "        ?series a hto:Series;\n",
    "            hto:title ?series_title;\n",
    "            hto:hadMember ?volume.\n",
    "        ?collection a hto:WorkCollection;\n",
    "            hto:name \"Gazetteers of Scotland Collection\";\n",
    "            hto:hadMember ?series.\n",
    "        }\n",
    "    \"\"\"\n",
    ")\n",
    "\n",
    "try:\n",
    "    ret = sparql.queryAndConvert()\n",
    "\n",
    "    for r in ret[\"results\"][\"bindings\"]:\n",
    "        print(f\"Volume title: {r['vol_title']['value']}, in series: {r['series_title']['value']}\")\n",
    "except Exception as e:\n",
    "    print(e)"
   ],
   "id": "7645a2f87fedee32",
   "outputs": [
    {
     "name": "stdout",
     "output_type": "stream",
     "text": [
      "Volume title: gazetteer of Scotland. [With plates and maps.] 1838, Volume 1, in series: gazetteer of Scotland. [With plates and maps.]\n",
      "Volume title: gazetteer of Scotland. [With plates and maps.] 1838, Volume 2, in series: gazetteer of Scotland. [With plates and maps.]\n",
      "Volume title: imperial gazetteer of Scotland; or, Dictionary of Scottish topography, compiled from the most recent authorities, and forming a complete body of Scottish geography, physical, statistical, and historical 1868, Volume 1, in series: imperial gazetteer of Scotland; or, Dictionary of Scottish topography, compiled from the most recent authorities, and forming a complete body of Scottish geography, physical, statistical, and historical\n",
      "Volume title: imperial gazetteer of Scotland; or, Dictionary of Scottish topography, compiled from the most recent authorities, and forming a complete body of Scottish geography, physical, statistical, and historical 1868, Volume 2, in series: imperial gazetteer of Scotland; or, Dictionary of Scottish topography, compiled from the most recent authorities, and forming a complete body of Scottish geography, physical, statistical, and historical\n",
      "Volume title: topographical dictionary of Scotland 1846, Volume 2, in series: topographical dictionary of Scotland\n",
      "Volume title: topographical dictionary of Scotland 1846, Volume 1, in series: topographical dictionary of Scotland\n",
      "Volume title: Ordnance gazetteer of Scotland 1884-1885, Volume 1, in series: Ordnance gazetteer of Scotland\n",
      "Volume title: Ordnance gazetteer of Scotland 1884-1885, Volume 2, in series: Ordnance gazetteer of Scotland\n",
      "Volume title: Ordnance gazetteer of Scotland 1884-1885, Volume 3, in series: Ordnance gazetteer of Scotland\n",
      "Volume title: Ordnance gazetteer of Scotland 1884-1885, Volume 4, in series: Ordnance gazetteer of Scotland\n",
      "Volume title: Ordnance gazetteer of Scotland 1884-1885, Volume 5, in series: Ordnance gazetteer of Scotland\n",
      "Volume title: Ordnance gazetteer of Scotland 1884-1885, Volume 6, in series: Ordnance gazetteer of Scotland\n",
      "Volume title: Ordnance gazetteer of Scotland 1901, in series: Ordnance gazetteer of Scotland\n",
      "Volume title: gazetteer of Scotland 1803, in series: gazetteer of Scotland\n",
      "Volume title: gazetteer of Scotland: containing a particular and concise description of the counties, parishes, islands, cities ... With ... map 1806, in series: gazetteer of Scotland: containing a particular and concise description of the counties, parishes, islands, cities ... With ... map\n",
      "Volume title: Gazetteer of Scotland; arranged under the various descriptions of counties, parishes, islands 1825?, in series: Gazetteer of Scotland; arranged under the various descriptions of counties, parishes, islands\n",
      "Volume title: topographical, statistical, and historical gazetteer of Scotland 1842, Volume 1, in series: topographical, statistical, and historical gazetteer of Scotland\n",
      "Volume title: topographical, statistical, and historical gazetteer of Scotland 1842, Volume 2, in series: topographical, statistical, and historical gazetteer of Scotland\n",
      "Volume title: Gazetteer of Scotland 1882, in series: Gazetteer of Scotland\n"
     ]
    }
   ],
   "execution_count": 7
  }
 ],
 "metadata": {
  "kernelspec": {
   "display_name": "Python 3",
   "language": "python",
   "name": "python3"
  },
  "language_info": {
   "codemirror_mode": {
    "name": "ipython",
    "version": 2
   },
   "file_extension": ".py",
   "mimetype": "text/x-python",
   "name": "python",
   "nbconvert_exporter": "python",
   "pygments_lexer": "ipython2",
   "version": "2.7.6"
  }
 },
 "nbformat": 4,
 "nbformat_minor": 5
}
