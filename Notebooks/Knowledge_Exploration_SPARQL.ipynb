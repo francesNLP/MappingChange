{
 "cells": [
  {
   "metadata": {
    "id": "52d57b48aff588d"
   },
   "cell_type": "markdown",
   "source": [
    "# Knowledge Exploration With SPARQL queries\n",
    "\n",
    "This notebook demonstrates how to explore, navigate, and analyze the *Gazetteers of Scotland Knowledge Graph* (1803–1901) using SPARQL queries over a remote Fuseki endpoint. The data is modeled using the [Heritage Textual Ontology (HTO)](https://w3id.org/hto), and includes semantically enriched descriptions of places, texts, volumes, and their provenance.\n",
    "\n",
    "\n",
    "We have divided the questions to answer in two main blocks.\n",
    "\n",
    "a) The first block of queries aim to familiarise a user with the knowledge graph.\n",
    "\n",
    "b) The second block of queries are the key question that we wanted to address when we designed the HTO ontology.\n",
    "\n"
   ],
   "id": "52d57b48aff588d"
  },
  {
   "metadata": {
    "id": "35677ae13e7ab794"
   },
   "cell_type": "markdown",
   "source": [
    "## Setup\n",
    "\n",
    "Make sure **SPARQLWrapper** is installed in your python environment."
   ],
   "id": "35677ae13e7ab794"
  },
  {
   "cell_type": "code",
   "source": [],
   "metadata": {
    "id": "mkIuf4jVNC8g"
   },
   "id": "mkIuf4jVNC8g",
   "execution_count": 8,
   "outputs": []
  },
  {
   "cell_type": "code",
   "source": [
    "!pip install SPARQLWrapper"
   ],
   "metadata": {
    "colab": {
     "base_uri": "https://localhost:8080/"
    },
    "id": "c21nC_qq01RW",
    "outputId": "8fcb7bd0-596c-4f57-aed3-a7ae17bf7528"
   },
   "id": "c21nC_qq01RW",
   "execution_count": 9,
   "outputs": [
    {
     "output_type": "stream",
     "name": "stdout",
     "text": [
      "Requirement already satisfied: SPARQLWrapper in /usr/local/lib/python3.11/dist-packages (2.0.0)\n",
      "Requirement already satisfied: rdflib>=6.1.1 in /usr/local/lib/python3.11/dist-packages (from SPARQLWrapper) (7.1.4)\n",
      "Requirement already satisfied: pyparsing<4,>=2.1.0 in /usr/local/lib/python3.11/dist-packages (from rdflib>=6.1.1->SPARQLWrapper) (3.2.3)\n"
     ]
    }
   ]
  },
  {
   "cell_type": "markdown",
   "source": [
    "## Connection\n",
    "\n",
    "Chose one of the two connection options - recommended, the remote one :)"
   ],
   "metadata": {
    "id": "X1l7-A61DEVl"
   },
   "id": "X1l7-A61DEVl"
  },
  {
   "cell_type": "markdown",
   "source": [
    "### Remote Fuseki Connection\n",
    "\n",
    "\n",
    "We connect to the remote SPARQL server hosting the Gazetteers knowledge graph. The data is served via a [Fuseki SPARQL endpoint](http://query.frances-ai.com/hto_gazetteers), and includes RDF resources describing volumes, series, articles, locations, pages, and provenance information."
   ],
   "metadata": {
    "id": "rfFVCm83C5x-"
   },
   "id": "rfFVCm83C5x-"
  },
  {
   "metadata": {
    "id": "16e65564690b8733",
    "ExecuteTime": {
     "end_time": "2025-05-12T15:56:05.515192Z",
     "start_time": "2025-05-12T15:56:05.387240Z"
    }
   },
   "cell_type": "code",
   "source": [
    "from SPARQLWrapper import SPARQLWrapper, JSON\n",
    "sparql = SPARQLWrapper(\n",
    "    \"http://query.frances-ai.com/hto_gazetteers\"\n",
    ")\n",
    "sparql.setReturnFormat(JSON)"
   ],
   "id": "16e65564690b8733",
   "outputs": [],
   "execution_count": 2
  },
  {
   "cell_type": "markdown",
   "source": [
    "### Local Fuseki Connection\n",
    "\n",
    "Use this option if you want to query a locally hosted version of the Gazetteer RDF graph (e.g., using `gaz.ttl`).it.  "
   ],
   "metadata": {
    "id": "dtPqnz7AC_fe"
   },
   "id": "dtPqnz7AC_fe"
  },
  {
   "cell_type": "code",
   "source": [
    "from rdflib import Graph, URIRef, Namespace\n",
    "from rdflib.plugins.sparql import prepareQuery\n",
    "\n",
    "# Create a new RDFLib Graph\n",
    "basic_graph = Graph()\n",
    "\n",
    "# Load the rdf file into the graph\n",
    "basic_graph_file = \"./gaz.ttl\"\n",
    "basic_graph.parse(basic_graph_file, format=\"turtle\")\n",
    "\n",
    "\n",
    "hto = Namespace(\"https://w3id.org/hto#\")\n",
    "# Print the number of \"triples\" in the Graph\n",
    "print(f\"Basic Graph has {len(basic_graph)} statements.\")"
   ],
   "metadata": {
    "id": "40hlgG3HC3Tp"
   },
   "id": "40hlgG3HC3Tp",
   "execution_count": 10,
   "outputs": []
  },
  {
   "cell_type": "markdown",
   "source": [
    "## Block A - Basic Queries\n",
    "\n",
    "The following questions are addressed using 16 targeted SPARQL queries:\n",
    "\n",
    "1. **What RDF classes are defined in the dataset?**  \n",
    "   → Query 1 lists all `rdf:type` instances used from the HTO namespace.\n",
    "\n",
    "2. **What properties are used across the knowledge graph?**  \n",
    "   → Query 2 enumerates all `hto:` properties in use.\n",
    "\n",
    "3. **What Gazetteer series are present?**  \n",
    "   → Query 3 retrieves all `hto:Series` instances and their titles.\n",
    "\n",
    "4. **Who are the editors associated with volumes or series?**  \n",
    "   → Query 4 explores the `hto:editor` property, retrieves linked `hto:Person` entities, and their names via `foaf:name`.\n",
    "\n",
    "5. **What volumes are included, and how are they organized into series and collections?**  \n",
    "   → Query 5 lists all `hto:Volume` entities with their series and parent `hto:WorkCollection`.\n",
    "\n",
    "6. **What metadata properties describe a given volume?**  \n",
    "   → Query 6 selects a sample volume and lists all associated RDF triples.\n",
    "\n",
    "7. **How are `hto:OriginalDescription` entries structured?**  \n",
    "   → Query 7 lists all properties used to describe article-level entries.\n",
    "\n",
    "8. **What is the text and source of each article?**  \n",
    "   → Query 8 retrieves full text and source documents for descriptions.\n",
    "\n",
    "9. **What are all RDF triples for a specific article?**  \n",
    "   → Query 9 drills into a selected `hto:OriginalDescription` and inspects its metadata.\n",
    "\n",
    "10. **How is a `LocationRecord` structured?**  \n",
    "    → Query 10 retrieves a sample `hto:LocationRecord` and lists all associated properties including name, description, and pages.\n",
    "\n",
    "11. **What is the article title, text, and page range for each location record?**  \n",
    "    → Query 11 aggregates key fields (name, full text, start/end pages) from each `hto:LocationRecord`.\n",
    "\n",
    "12. **How has a specific place (e.g., \"DUNDEE\") been described across the corpus?**  \n",
    "    → Query 12 retrieves all articles titled \"DUNDEE\", including their text, source volume, parent series, and publication year.\n",
    "\n",
    "13. **What are the longest Gazetteer articles, and where do they appear?**  \n",
    "    → Query 13 lists the 10 longest `hto:LocationRecord` entries by text length, showing the article title, a text excerpt, the volume and series in which the article was published, and the year of publication. This helps surface dense or historically significant entries for further analysis.\n",
    "\n",
    "14. **Which Gazetteer articles refer to other entries, and what do they reference?**  \n",
    "    → Query 14 explores internal semantic links using the `hto:refersTo` property. It returns `hto:LocationRecord` entries that refer to other records, displaying both the source and target names. This enables tracing redirects, summaries, and cross-references within the Gazetteers knowledge graph.\n",
    "\n",
    "15. **Which article titles are reused across multiple Gazetteer entries?**  \n",
    "    → Query 15 groups `hto:LocationRecord` entries by their `hto:name` and lists those names that appear in multiple records. These cases reveal reused or ambiguous place names across volumes or editions (e.g., “LOGIE”, “KIRKHILL”), useful for disambiguation or tracking editorial duplication over time.\n",
    "\n",
    "16. **Which Gazetteer articles include alternate or variant names?**  \n",
    "    → Query 16 identifies articles that contain both a primary name (`hto:name`) and one or more alternate names (`rdfs:label`), typically derived from metadata fields such as “Alternative names.” This supports fuzzy search, historical variant matching, and linguistic normalization.\n",
    "\n",
    "\n",
    "\n",
    "Each question is addressed using targeted SPARQL queries, executed through `SPARQLWrapper` against the remote Fuseki endpoint (or local one)\n",
    "\n"
   ],
   "metadata": {
    "id": "tWpWQ8kljcBq"
   },
   "id": "tWpWQ8kljcBq"
  },
  {
   "cell_type": "markdown",
   "source": [
    "### Query 1: Explore all RDF classes (types) defined in the HTO namespace\n",
    "\n",
    "This query retrieves all distinct RDF types (`rdf:type`) that are used in the dataset and belong to the Heritage Textual Ontology (HTO).\n",
    "\n",
    "In RDF, the `rdf:type` predicate is used to declare the class of a resource (e.g., `hto:Volume`, `hto:Location`, `hto:OriginalDescription`). Listing these types gives us a high-level overview of the entity types that populate the knowledge graph.\n",
    "\n",
    "This is particularly useful at the beginning of an exploration session to understand the shape and semantics of the dataset.\n"
   ],
   "metadata": {
    "id": "FTuF_8FF3Bbi"
   },
   "id": "FTuF_8FF3Bbi"
  },
  {
   "cell_type": "code",
   "source": [
    "sparql.setQuery(\"\"\"\n",
    "PREFIX hto: <https://w3id.org/hto#>\n",
    "\n",
    "SELECT DISTINCT ?type WHERE {\n",
    "  ?s a ?type .\n",
    "  FILTER(STRSTARTS(STR(?type), \"https://w3id.org/hto#\"))\n",
    "}\n",
    "\"\"\")\n",
    "\n",
    "try:\n",
    "    ret = sparql.queryAndConvert()\n",
    "    for r in ret[\"results\"][\"bindings\"]:\n",
    "        print(f\"Type: {r['type']['value']}\")\n",
    "except Exception as e:\n",
    "    print(e)\n",
    "\n"
   ],
   "metadata": {
    "colab": {
     "base_uri": "https://localhost:8080/"
    },
    "id": "X-GpZb231vvq",
    "outputId": "b20ccb66-e248-4433-f7e0-7afcd95a90c8"
   },
   "id": "X-GpZb231vvq",
   "execution_count": 11,
   "outputs": [
    {
     "output_type": "stream",
     "name": "stdout",
     "text": [
      "Type: https://w3id.org/hto#Location\n",
      "Type: https://w3id.org/hto#Concept\n",
      "Type: https://w3id.org/hto#Organization\n",
      "Type: https://w3id.org/hto#SoftwareAgent\n",
      "Type: https://w3id.org/hto#Series\n",
      "Type: https://w3id.org/hto#Volume\n",
      "Type: https://w3id.org/hto#LocationType\n",
      "Type: https://w3id.org/hto#Type\n",
      "Type: https://w3id.org/hto#TextQuality\n",
      "Type: https://w3id.org/hto#ResourceType\n",
      "Type: https://w3id.org/hto#ExternalRecord\n",
      "Type: https://w3id.org/hto#WorkCollection\n",
      "Type: https://w3id.org/hto#InformationResource\n",
      "Type: https://w3id.org/hto#Activity\n",
      "Type: https://w3id.org/hto#Person\n",
      "Type: https://w3id.org/hto#LocationRecord\n",
      "Type: https://w3id.org/hto#OriginalDescription\n",
      "Type: https://w3id.org/hto#Page\n"
     ]
    }
   ]
  },
  {
   "cell_type": "markdown",
   "source": [
    "### Query 2: Explore all properties defined in the HTO namespace\n",
    "\n",
    "This query returns all distinct RDF properties (predicates) in the dataset that belong to the Heritage Textual Ontology (HTO).\n",
    "\n",
    "In RDF, predicates express the relationships between resources or between a resource and a literal (e.g., `hto:title`, `hto:editor`, `hto:startsAtPage`). By listing all used properties, we gain insight into the kinds of metadata and semantic links available in the graph.\n",
    "\n",
    "This is useful for discovering which attributes are used to describe volumes, pages, descriptions, places, people, and other entities.\n"
   ],
   "metadata": {
    "id": "lxvqjw_K97gb"
   },
   "id": "lxvqjw_K97gb"
  },
  {
   "cell_type": "code",
   "source": [
    "sparql.setQuery(\"\"\"\n",
    "PREFIX hto: <https://w3id.org/hto#>\n",
    "\n",
    "SELECT DISTINCT ?p WHERE {\n",
    "  ?s ?p ?o .\n",
    "  FILTER(STRSTARTS(STR(?p), \"https://w3id.org/hto#\"))\n",
    "}\n",
    "\"\"\")\n",
    "\n",
    "try:\n",
    "    ret = sparql.queryAndConvert()\n",
    "    print(\"All hto: properties in use:\")\n",
    "    for r in ret[\"results\"][\"bindings\"]:\n",
    "        print(f\"{r['p']['value']}\")\n",
    "except Exception as e:\n",
    "    print(e)\n"
   ],
   "metadata": {
    "colab": {
     "base_uri": "https://localhost:8080/"
    },
    "id": "e7vu3Grx-E5C",
    "outputId": "a2e3b561-54b4-4e24-da7e-6aeb6b15de09"
   },
   "id": "e7vu3Grx-E5C",
   "execution_count": 12,
   "outputs": [
    {
     "output_type": "stream",
     "name": "stdout",
     "text": [
      "All hto: properties in use:\n",
      "https://w3id.org/hto#hadMember\n",
      "https://w3id.org/hto#name\n",
      "https://w3id.org/hto#editor\n",
      "https://w3id.org/hto#genre\n",
      "https://w3id.org/hto#language\n",
      "https://w3id.org/hto#mmsid\n",
      "https://w3id.org/hto#number\n",
      "https://w3id.org/hto#printedAt\n",
      "https://w3id.org/hto#shelfLocator\n",
      "https://w3id.org/hto#yearPublished\n",
      "https://w3id.org/hto#title\n",
      "https://w3id.org/hto#physicalDescription\n",
      "https://w3id.org/hto#subtitle\n",
      "https://w3id.org/hto#publisher\n",
      "https://w3id.org/hto#hasOriginalDescription\n",
      "https://w3id.org/hto#endsAtPage\n",
      "https://w3id.org/hto#startsAtPage\n",
      "https://w3id.org/hto#hasTextQuality\n",
      "https://w3id.org/hto#text\n",
      "https://w3id.org/hto#wasExtractedFrom\n",
      "https://w3id.org/hto#refersTo\n",
      "https://w3id.org/hto#birthYear\n",
      "https://w3id.org/hto#deathYear\n",
      "https://w3id.org/hto#wasMemberOf\n",
      "https://w3id.org/hto#permanentURL\n",
      "https://w3id.org/hto#volumeId\n",
      "https://w3id.org/hto#numberOfPages\n",
      "https://w3id.org/hto#hadConceptRecord\n",
      "https://w3id.org/hto#hasResourceType\n"
     ]
    }
   ]
  },
  {
   "cell_type": "markdown",
   "source": [
    "### Query 3: Retrieve all Gazetteer series and their titles\n",
    "\n",
    "This query retrieves all resources of type `hto:Series` and their corresponding titles using the `hto:title` property.\n",
    "\n",
    "A `Series` in the HTO knowledge graph represents a multi-volume work (e.g., the *Imperial Gazetteer of Scotland* or the *Ordnance Gazetteer of Scotland*). Each series may consist of multiple volumes published across different years or editions.\n",
    "\n",
    "This query helps establish the top-level bibliographic structure of the Gazetteers collection.\n"
   ],
   "metadata": {
    "id": "oHdrot_v9kfM"
   },
   "id": "oHdrot_v9kfM"
  },
  {
   "cell_type": "code",
   "source": [
    "sparql.setQuery(\"\"\"\n",
    "PREFIX hto: <https://w3id.org/hto#>\n",
    "\n",
    "SELECT ?series ?title WHERE {\n",
    "  ?series a hto:Series ;\n",
    "          hto:title ?title .\n",
    "}\n",
    "LIMIT 20\n",
    "\"\"\")\n",
    "\n",
    "try:\n",
    "    ret = sparql.queryAndConvert()\n",
    "    for r in ret[\"results\"][\"bindings\"]:\n",
    "        print(f\"Series URI: {r['series']['value']} — Title: {r['title']['value']}\")\n",
    "except Exception as e:\n",
    "    print(e)\n"
   ],
   "metadata": {
    "colab": {
     "base_uri": "https://localhost:8080/"
    },
    "id": "6ZiOxMhm9hxY",
    "outputId": "e77c7a63-19c9-4bd7-e3c9-ed3b3502a62d"
   },
   "id": "6ZiOxMhm9hxY",
   "execution_count": 13,
   "outputs": [
    {
     "output_type": "stream",
     "name": "stdout",
     "text": [
      "Series URI: https://w3id.org/hto/Series/9910440713804340 — Title: gazetteer of Scotland. [With plates and maps.]\n",
      "Series URI: https://w3id.org/hto/Series/9928112733804340 — Title: imperial gazetteer of Scotland; or, Dictionary of Scottish topography, compiled from the most recent authorities, and forming a complete body of Scottish geography, physical, statistical, and historical\n",
      "Series URI: https://w3id.org/hto/Series/9928151783804340 — Title: topographical dictionary of Scotland\n",
      "Series URI: https://w3id.org/hto/Series/9928228793804340 — Title: Ordnance gazetteer of Scotland\n",
      "Series URI: https://w3id.org/hto/Series/9930626093804340 — Title: Ordnance gazetteer of Scotland\n",
      "Series URI: https://w3id.org/hto/Series/9931003343804340 — Title: gazetteer of Scotland\n",
      "Series URI: https://w3id.org/hto/Series/9931344573804340 — Title: gazetteer of Scotland: containing a particular and concise description of the counties, parishes, islands, cities ... With ... map\n",
      "Series URI: https://w3id.org/hto/Series/9931344583804340 — Title: Gazetteer of Scotland; arranged under the various descriptions of counties, parishes, islands\n",
      "Series URI: https://w3id.org/hto/Series/9931344933804340 — Title: topographical, statistical, and historical gazetteer of Scotland\n",
      "Series URI: https://w3id.org/hto/Series/9933057493804340 — Title: Gazetteer of Scotland\n"
     ]
    }
   ]
  },
  {
   "cell_type": "markdown",
   "source": [
    "### Query 4: Explore editorial metadata in the Gazetteers knowledge graph\n",
    "\n",
    "This set of queries investigates how editorial contributions are modeled in the dataset using the `hto:editor` property and linked `hto:Person` entities. Editors are critical figures in shaping the content and structure of the Gazetteers.\n",
    "\n",
    "\n"
   ],
   "metadata": {
    "id": "dWPov1PV-yO_"
   },
   "id": "dWPov1PV-yO_"
  },
  {
   "cell_type": "markdown",
   "source": [
    "#### 🔹 Query 4.1: Find all resources with an associated editor\n",
    "\n",
    "This query retrieves all resources that declare an `hto:editor`, along with the URI of the editor (typically an `hto:Person`).\n",
    "\n",
    "This helps identify which series or volumes are explicitly linked to known editors.\n",
    "\n"
   ],
   "metadata": {
    "id": "OqSoVDZP_FUg"
   },
   "id": "OqSoVDZP_FUg"
  },
  {
   "cell_type": "code",
   "source": [
    "sparql.setQuery(\"\"\"\n",
    "PREFIX hto: <https://w3id.org/hto#>\n",
    "\n",
    "SELECT ?subject ?editor WHERE {\n",
    "  ?subject hto:editor ?editor .\n",
    "}\n",
    "LIMIT 20\n",
    "\"\"\")\n",
    "\n",
    "try:\n",
    "    ret = sparql.queryAndConvert()\n",
    "    for r in ret[\"results\"][\"bindings\"]:\n",
    "        print(f\"{r['subject']['value']} → {r['editor']['value']}\")\n",
    "except Exception as e:\n",
    "    print(e)\n"
   ],
   "metadata": {
    "colab": {
     "base_uri": "https://localhost:8080/"
    },
    "id": "tMZd2KN_-S_o",
    "outputId": "2f3f002e-f0d6-427d-9131-940f39737709"
   },
   "id": "tMZd2KN_-S_o",
   "execution_count": 14,
   "outputs": [
    {
     "output_type": "stream",
     "name": "stdout",
     "text": [
      "https://w3id.org/hto/Series/9931344583804340 → https://w3id.org/hto/Person/4607874226\n",
      "https://w3id.org/hto/Series/9910440713804340 → https://w3id.org/hto/Person/5247046190\n",
      "https://w3id.org/hto/Series/9928151783804340 → https://w3id.org/hto/Person/7593396701\n",
      "https://w3id.org/hto/Series/9928112733804340 → https://w3id.org/hto/Person/4251664498\n",
      "https://w3id.org/hto/Series/9933057493804340 → https://w3id.org/hto/Person/4251664498\n",
      "https://w3id.org/hto/Series/9928228793804340 → https://w3id.org/hto/Person/9594167312\n",
      "https://w3id.org/hto/Series/9930626093804340 → https://w3id.org/hto/Person/9594167312\n",
      "https://w3id.org/hto/Series/9931003343804340 → https://w3id.org/hto/Person/4957971131\n",
      "https://w3id.org/hto/Series/9931344573804340 → https://w3id.org/hto/Person/4957971131\n",
      "https://w3id.org/hto/Series/9931344933804340 → https://w3id.org/hto/Person/4957971131\n"
     ]
    }
   ]
  },
  {
   "cell_type": "markdown",
   "source": [
    "#### 🔹 Query 4.2: Inspect all properties of a specific editor (Person)\n",
    "\n",
    "Given the URI of a specific `hto:Person`, this query lists all associated properties. This typically includes:\n",
    "\n",
    "- `rdf:type` (should be `hto:Person`)\n",
    "- `foaf:name` (if available)\n",
    "- `hto:birthYear`, `hto:deathYear` (if known)\n",
    "\n",
    "This allows us to inspect how editors are semantically described in the graph.\n"
   ],
   "metadata": {
    "id": "8PwUmmME_LB1"
   },
   "id": "8PwUmmME_LB1"
  },
  {
   "cell_type": "code",
   "source": [
    "person_uri = \"https://w3id.org/hto/Person/4607874226\"\n",
    "\n",
    "sparql.setQuery(f\"\"\"\n",
    "SELECT ?p ?o WHERE {{\n",
    "  <{person_uri}> ?p ?o .\n",
    "}}\n",
    "\"\"\")\n",
    "\n",
    "try:\n",
    "    ret = sparql.queryAndConvert()\n",
    "    print(f\"All properties for {person_uri}:\\n\")\n",
    "    for r in ret[\"results\"][\"bindings\"]:\n",
    "        print(f\"{r['p']['value']} → {r['o']['value']}\")\n",
    "except Exception as e:\n",
    "    print(e)\n"
   ],
   "metadata": {
    "colab": {
     "base_uri": "https://localhost:8080/"
    },
    "id": "JnrqtYc8-vOH",
    "outputId": "4b474b21-7028-4eed-9ef5-99a2f045db43"
   },
   "id": "JnrqtYc8-vOH",
   "execution_count": 15,
   "outputs": [
    {
     "output_type": "stream",
     "name": "stdout",
     "text": [
      "All properties for https://w3id.org/hto/Person/4607874226:\n",
      "\n",
      "http://www.w3.org/1999/02/22-rdf-syntax-ns#type → https://w3id.org/hto#Person\n",
      "http://xmlns.com/foaf/0.1/name → Scotland. [Appendix. - Descriptions, Topography & Travels.]\n"
     ]
    }
   ]
  },
  {
   "cell_type": "markdown",
   "source": [
    "#### 🔹 Query 4.3: List all distinct editor names\n",
    "\n",
    "This query navigates from edited resources (`hto:editor`) to the linked `hto:Person`, then retrieves the person's name using `foaf:name`.\n",
    "\n",
    "This gives a clean list of all editors represented in the graph by name — useful for documentation, indexing, or attribution.\n",
    "\n",
    "Together, these queries illustrate how biographical and editorial metadata is encoded and linked across multiple entity types."
   ],
   "metadata": {
    "id": "fTteIOcY_STH"
   },
   "id": "fTteIOcY_STH"
  },
  {
   "cell_type": "code",
   "source": [
    "sparql.setQuery(\"\"\"\n",
    "PREFIX hto: <https://w3id.org/hto#>\n",
    "PREFIX foaf: <http://xmlns.com/foaf/0.1/>\n",
    "\n",
    "SELECT DISTINCT ?name WHERE {\n",
    "  ?instance hto:editor ?editor .\n",
    "  ?editor foaf:name ?name .\n",
    "}\n",
    "LIMIT 20\n",
    "\"\"\")\n",
    "\n",
    "try:\n",
    "    ret = sparql.queryAndConvert()\n",
    "    print(\"Editor names (via foaf:name):\\n\")\n",
    "    for r in ret[\"results\"][\"bindings\"]:\n",
    "        print(f\"- {r['name']['value']}\")\n",
    "except Exception as e:\n",
    "    print(e)\n"
   ],
   "metadata": {
    "colab": {
     "base_uri": "https://localhost:8080/"
    },
    "id": "cnfzU0Ff-9TD",
    "outputId": "14820496-d90d-4de0-adff-a9479cc51dfd"
   },
   "id": "cnfzU0Ff-9TD",
   "execution_count": 16,
   "outputs": [
    {
     "output_type": "stream",
     "name": "stdout",
     "text": [
      "Editor names (via foaf:name):\n",
      "\n",
      "- Scotland. [Appendix. - Descriptions, Topography & Travels.]\n",
      "- Chambers, William\n",
      "- Lewis, Samuel\n",
      "- Wilson, John Marius.\n",
      "- Groome, Francis Hindes\n",
      "- Scotland. [Appendix. - Descriptions, Topography and Travels.]\n"
     ]
    }
   ]
  },
  {
   "metadata": {
    "id": "621e563cda02b043"
   },
   "cell_type": "markdown",
   "source": [
    "### Query 5: Retrieve volumes and their parent series from the Gazetteers of Scotland collection\n",
    "\n",
    "This query lists all `hto:Volume` resources that are members of a `hto:Series`, which in turn belongs to the broader `hto:WorkCollection` titled *Gazetteers of Scotland Collection*.\n",
    "\n",
    "Each volume is returned with:\n",
    "- Its title (`hto:title`)\n",
    "- The title of the series it belongs to\n",
    "\n",
    "This hierarchical query traverses three levels of structure:\n",
    "1. **Collection** → `hto:WorkCollection`\n",
    "2. **Series** → `hto:Series`\n",
    "3. **Volume** → `hto:Volume`\n",
    "\n",
    "The result gives a curated view of how individual volumes are organized into series and grouped within the overall collection. It is useful for bibliographic exploration and user-facing navigation interfaces.\n"
   ],
   "id": "621e563cda02b043"
  },
  {
   "metadata": {
    "ExecuteTime": {
     "end_time": "2025-05-08T16:20:39.003130Z",
     "start_time": "2025-05-08T16:20:38.741340Z"
    },
    "colab": {
     "base_uri": "https://localhost:8080/"
    },
    "id": "7645a2f87fedee32",
    "outputId": "2b025de3-dd52-4f85-e5ae-2c306f5b4561"
   },
   "cell_type": "code",
   "source": [
    "sparql.setQuery(\"\"\"\n",
    "    PREFIX hto: <https://w3id.org/hto#>\n",
    "    SELECT * WHERE {\n",
    "        ?volume a hto:Volume;\n",
    "            hto:title ?vol_title.\n",
    "        ?series a hto:Series;\n",
    "            hto:title ?series_title;\n",
    "            hto:hadMember ?volume.\n",
    "        ?collection a hto:WorkCollection;\n",
    "            hto:name \"Gazetteers of Scotland Collection\";\n",
    "            hto:hadMember ?series.\n",
    "        }\n",
    "    \"\"\"\n",
    ")\n",
    "\n",
    "try:\n",
    "    ret = sparql.queryAndConvert()\n",
    "\n",
    "    for r in ret[\"results\"][\"bindings\"]:\n",
    "        print(f\"Volume title: {r['vol_title']['value']}, in series: {r['series_title']['value']}\")\n",
    "except Exception as e:\n",
    "    print(e)"
   ],
   "id": "7645a2f87fedee32",
   "outputs": [
    {
     "output_type": "stream",
     "name": "stdout",
     "text": [
      "Volume title: gazetteer of Scotland. [With plates and maps.] 1838, Volume 1, in series: gazetteer of Scotland. [With plates and maps.]\n",
      "Volume title: gazetteer of Scotland. [With plates and maps.] 1838, Volume 2, in series: gazetteer of Scotland. [With plates and maps.]\n",
      "Volume title: imperial gazetteer of Scotland; or, Dictionary of Scottish topography, compiled from the most recent authorities, and forming a complete body of Scottish geography, physical, statistical, and historical 1868, Volume 1, in series: imperial gazetteer of Scotland; or, Dictionary of Scottish topography, compiled from the most recent authorities, and forming a complete body of Scottish geography, physical, statistical, and historical\n",
      "Volume title: imperial gazetteer of Scotland; or, Dictionary of Scottish topography, compiled from the most recent authorities, and forming a complete body of Scottish geography, physical, statistical, and historical 1868, Volume 2, in series: imperial gazetteer of Scotland; or, Dictionary of Scottish topography, compiled from the most recent authorities, and forming a complete body of Scottish geography, physical, statistical, and historical\n",
      "Volume title: topographical dictionary of Scotland 1846, Volume 2, in series: topographical dictionary of Scotland\n",
      "Volume title: topographical dictionary of Scotland 1846, Volume 1, in series: topographical dictionary of Scotland\n",
      "Volume title: Ordnance gazetteer of Scotland 1884-1885, Volume 1, in series: Ordnance gazetteer of Scotland\n",
      "Volume title: Ordnance gazetteer of Scotland 1884-1885, Volume 2, in series: Ordnance gazetteer of Scotland\n",
      "Volume title: Ordnance gazetteer of Scotland 1884-1885, Volume 3, in series: Ordnance gazetteer of Scotland\n",
      "Volume title: Ordnance gazetteer of Scotland 1884-1885, Volume 4, in series: Ordnance gazetteer of Scotland\n",
      "Volume title: Ordnance gazetteer of Scotland 1884-1885, Volume 5, in series: Ordnance gazetteer of Scotland\n",
      "Volume title: Ordnance gazetteer of Scotland 1884-1885, Volume 6, in series: Ordnance gazetteer of Scotland\n",
      "Volume title: Ordnance gazetteer of Scotland 1901, in series: Ordnance gazetteer of Scotland\n",
      "Volume title: gazetteer of Scotland 1803, in series: gazetteer of Scotland\n",
      "Volume title: gazetteer of Scotland: containing a particular and concise description of the counties, parishes, islands, cities ... With ... map 1806, in series: gazetteer of Scotland: containing a particular and concise description of the counties, parishes, islands, cities ... With ... map\n",
      "Volume title: Gazetteer of Scotland; arranged under the various descriptions of counties, parishes, islands 1825?, in series: Gazetteer of Scotland; arranged under the various descriptions of counties, parishes, islands\n",
      "Volume title: topographical, statistical, and historical gazetteer of Scotland 1842, Volume 1, in series: topographical, statistical, and historical gazetteer of Scotland\n",
      "Volume title: topographical, statistical, and historical gazetteer of Scotland 1842, Volume 2, in series: topographical, statistical, and historical gazetteer of Scotland\n",
      "Volume title: Gazetteer of Scotland 1882, in series: Gazetteer of Scotland\n"
     ]
    }
   ],
   "execution_count": 17
  },
  {
   "cell_type": "markdown",
   "source": [
    "### Query 6: Explore metadata properties of a sample Gazetteer volume\n",
    "\n",
    "This pair of queries is used to inspect the metadata of a single `hto:Volume` in detail.\n"
   ],
   "metadata": {
    "id": "Z-OSNfOQ_2jg"
   },
   "id": "Z-OSNfOQ_2jg"
  },
  {
   "cell_type": "markdown",
   "source": [
    "#### 🔹 Query 6.1: Select a sample volume URI\n",
    "\n",
    "This query selects one instance of a `hto:Volume` from the dataset. It serves as a dynamic starting point for detailed inspection of that volume's metadata.\n",
    "\n",
    "This step ensures that we are querying an actual, existing volume in the graph.\n"
   ],
   "metadata": {
    "id": "pDbn5pCgHaVU"
   },
   "id": "pDbn5pCgHaVU"
  },
  {
   "cell_type": "code",
   "source": [
    "sparql.setQuery(\"\"\"\n",
    "PREFIX hto: <https://w3id.org/hto#>\n",
    "\n",
    "SELECT ?volume WHERE {\n",
    "  ?volume a hto:Volume .\n",
    "}\n",
    "LIMIT 1\n",
    "\"\"\")\n",
    "\n",
    "try:\n",
    "    ret = sparql.queryAndConvert()\n",
    "    if ret[\"results\"][\"bindings\"]:\n",
    "        volume_uri = ret[\"results\"][\"bindings\"][0][\"volume\"][\"value\"]\n",
    "        print(\"Volume URI:\", volume_uri)\n",
    "    else:\n",
    "        print(\"No volumes found.\")\n",
    "except Exception as e:\n",
    "    print(e)\n",
    "\n"
   ],
   "metadata": {
    "colab": {
     "base_uri": "https://localhost:8080/"
    },
    "id": "yxvz_UHuAAww",
    "outputId": "c656fb39-e2c7-4f95-c6a3-1c9feaf6d80c"
   },
   "id": "yxvz_UHuAAww",
   "execution_count": 18,
   "outputs": [
    {
     "output_type": "stream",
     "name": "stdout",
     "text": [
      "Volume URI: https://w3id.org/hto/Volume/9910440713804340_97424370\n"
     ]
    }
   ]
  },
  {
   "cell_type": "markdown",
   "source": [
    "#### 🔹 Query 6.2: Retrieve all properties of the selected volume\n",
    "\n",
    "Using the volume URI obtained in the previous step (e.g., `hto:Volume/9910440713804340_97424370`), this query retrieves all RDF properties and values linked to it.\n",
    "\n",
    "Typical metadata includes:\n",
    "- `hto:title` — full title of the volume\n",
    "- `hto:number` — volume number\n",
    "- `hto:numberOfPages` — total page count\n",
    "- `hto:permanentURL` — link to the digitized version\n",
    "- `hto:wasMemberOf` — series the volume belongs to\n",
    "- `hto:hadMember` — individual pages contained in the volume\n",
    "\n",
    "Together, these queries allow for close inspection of how volume-level bibliographic and structural metadata is modeled in the HTO knowledge graph."
   ],
   "metadata": {
    "id": "z40xrr5UHfN3"
   },
   "id": "z40xrr5UHfN3"
  },
  {
   "cell_type": "code",
   "source": [
    "sparql.setQuery(\"\"\"\n",
    "SELECT ?p ?o WHERE {\n",
    "  <https://w3id.org/hto/Volume/9910440713804340_97424370> ?p ?o .\n",
    "}\n",
    "\n",
    "LIMIT 20\n",
    "\"\"\")\n",
    "\n",
    "try:\n",
    "    ret = sparql.queryAndConvert()\n",
    "    print(\"Properties for Volume 9910440713804340_97424370:\\n\")\n",
    "    for r in ret[\"results\"][\"bindings\"]:\n",
    "        print(f\"{r['p']['value']} → {r['o']['value']}\")\n",
    "except Exception as e:\n",
    "    print(e)\n"
   ],
   "metadata": {
    "colab": {
     "base_uri": "https://localhost:8080/"
    },
    "id": "Yp0gAxeEASAR",
    "outputId": "214a50c4-0070-4134-85c2-8f00b1de3953"
   },
   "id": "Yp0gAxeEASAR",
   "execution_count": 19,
   "outputs": [
    {
     "output_type": "stream",
     "name": "stdout",
     "text": [
      "Properties for Volume 9910440713804340_97424370:\n",
      "\n",
      "http://www.w3.org/1999/02/22-rdf-syntax-ns#type → https://w3id.org/hto#Volume\n",
      "http://www.w3.org/1999/02/22-rdf-syntax-ns#type → https://w3id.org/hto#WorkCollection\n",
      "https://w3id.org/hto#hadMember → https://w3id.org/hto/Page/9910440713804340_97424370_470\n",
      "https://w3id.org/hto#hadMember → https://w3id.org/hto/Page/9910440713804340_97424370_471\n",
      "https://w3id.org/hto#hadMember → https://w3id.org/hto/Page/9910440713804340_97424370_486\n",
      "https://w3id.org/hto#hadMember → https://w3id.org/hto/Page/9910440713804340_97424370_179\n",
      "https://w3id.org/hto#hadMember → https://w3id.org/hto/Page/9910440713804340_97424370_88\n",
      "https://w3id.org/hto#hadMember → https://w3id.org/hto/Page/9910440713804340_97424370_89\n",
      "https://w3id.org/hto#hadMember → https://w3id.org/hto/Page/9910440713804340_97424370_102\n",
      "https://w3id.org/hto#hadMember → https://w3id.org/hto/Page/9910440713804340_97424370_257\n",
      "https://w3id.org/hto#hadMember → https://w3id.org/hto/Page/9910440713804340_97424370_84\n",
      "https://w3id.org/hto#hadMember → https://w3id.org/hto/Page/9910440713804340_97424370_183\n",
      "https://w3id.org/hto#hadMember → https://w3id.org/hto/Page/9910440713804340_97424370_113\n",
      "https://w3id.org/hto#hadMember → https://w3id.org/hto/Page/9910440713804340_97424370_69\n",
      "https://w3id.org/hto#hadMember → https://w3id.org/hto/Page/9910440713804340_97424370_495\n",
      "https://w3id.org/hto#hadMember → https://w3id.org/hto/Page/9910440713804340_97424370_167\n",
      "https://w3id.org/hto#hadMember → https://w3id.org/hto/Page/9910440713804340_97424370_189\n",
      "https://w3id.org/hto#hadMember → https://w3id.org/hto/Page/9910440713804340_97424370_180\n",
      "https://w3id.org/hto#hadMember → https://w3id.org/hto/Page/9910440713804340_97424370_29\n",
      "https://w3id.org/hto#hadMember → https://w3id.org/hto/Page/9910440713804340_97424370_481\n"
     ]
    }
   ]
  },
  {
   "cell_type": "markdown",
   "source": [
    "### Query 7: List all properties used in `hto:OriginalDescription` entries\n",
    "\n",
    "This query retrieves all distinct RDF properties that appear in resources of type `hto:OriginalDescription`. These represent individual article-level entries extracted from the gazetteers.\n",
    "\n",
    "By examining which properties are used on `hto:OriginalDescription`, we can understand how each entry is semantically described — including its content, provenance, and quality metadata.\n",
    "\n",
    "Typical properties include:\n",
    "- `hto:text` — the full textual content of the article\n",
    "- `hto:hasTextQuality` — a quality indicator (e.g., Low, High)\n",
    "- `hto:wasExtractedFrom` — the source page or document\n",
    "- `prov:wasAttributedTo` — the responsible agent (e.g., MappingChange pipeline)\n",
    "\n",
    "This query is useful for schema exploration and understanding how article-level data is structured.\n"
   ],
   "metadata": {
    "id": "-o3S4EtD4jff"
   },
   "id": "-o3S4EtD4jff"
  },
  {
   "cell_type": "code",
   "source": [
    "sparql.setQuery(\"\"\"\n",
    "PREFIX hto: <https://w3id.org/hto#>\n",
    "\n",
    "SELECT DISTINCT ?p WHERE {\n",
    "  ?desc a hto:OriginalDescription ;\n",
    "        ?p ?o .\n",
    "}\n",
    "LIMIT 50\n",
    "\"\"\")\n",
    "\n",
    "try:\n",
    "    ret = sparql.queryAndConvert()\n",
    "    for r in ret[\"results\"][\"bindings\"]:\n",
    "        print(f\"Property: {r['p']['value']}\")\n",
    "except Exception as e:\n",
    "    print(e)\n",
    "\n"
   ],
   "metadata": {
    "colab": {
     "base_uri": "https://localhost:8080/"
    },
    "id": "n8Yd0qBm3ZSO",
    "outputId": "15d2bb55-5936-4c36-f35f-c2c994b91ebb"
   },
   "id": "n8Yd0qBm3ZSO",
   "execution_count": 20,
   "outputs": [
    {
     "output_type": "stream",
     "name": "stdout",
     "text": [
      "Property: http://www.w3.org/1999/02/22-rdf-syntax-ns#type\n",
      "Property: http://www.w3.org/ns/prov#wasAttributedTo\n",
      "Property: https://w3id.org/hto#hasTextQuality\n",
      "Property: https://w3id.org/hto#text\n",
      "Property: https://w3id.org/hto#wasExtractedFrom\n"
     ]
    }
   ]
  },
  {
   "cell_type": "markdown",
   "source": [
    "### Query 8: Retrieve the text of Gazetteer articles and their source documents\n",
    "\n",
    "This query returns sample `hto:OriginalDescription` entries, showing the full article text and the `hto:InformationResource` from which it was extracted (typically an ALTO XML file or digitized page).\n",
    "\n",
    "Each result includes:\n",
    "- The URI of the article description (`?desc`)\n",
    "- The full text content (`hto:text`)\n",
    "- The source document or page URI (`hto:wasExtractedFrom`)\n",
    "\n",
    "This query provides a window into the actual semantic content of the gazetteer entries, enabling inspection of OCR outputs and understanding of how content is linked to its digitized provenance.\n",
    "\n",
    "It is especially useful for building content previews, search indexes, or validating extraction quality.\n"
   ],
   "metadata": {
    "id": "10NdCqUG5EYe"
   },
   "id": "10NdCqUG5EYe"
  },
  {
   "cell_type": "code",
   "source": [
    "sparql.setQuery(\"\"\"\n",
    "PREFIX hto: <https://w3id.org/hto#>\n",
    "\n",
    "SELECT ?desc ?text ?source WHERE {\n",
    "  ?desc a hto:OriginalDescription ;\n",
    "        hto:text ?text ;\n",
    "        hto:wasExtractedFrom ?source .\n",
    "}\n",
    "LIMIT 10\n",
    "\"\"\")\n",
    "\n",
    "try:\n",
    "    ret = sparql.queryAndConvert()\n",
    "    for r in ret[\"results\"][\"bindings\"]:\n",
    "        print(f\"\\nDescription: {r['desc']['value']}\\nSource: {r['source']['value']}\\nText: {r['text']['value'][:200]}...\\n\")\n",
    "except Exception as e:\n",
    "    print(e)\n",
    "\n"
   ],
   "metadata": {
    "colab": {
     "base_uri": "https://localhost:8080/"
    },
    "id": "K0bUsyyQ4VDR",
    "outputId": "3f5a8dcf-06f2-47fb-dee1-0ca3b3538f25"
   },
   "id": "K0bUsyyQ4VDR",
   "execution_count": 21,
   "outputs": [
    {
     "output_type": "stream",
     "name": "stdout",
     "text": [
      "\n",
      "Description: https://w3id.org/hto/OriginalDescription/9910440713804340_97424370_1007501475_0NLS\n",
      "Source: https://w3id.org/hto/InformationResource/97424370_alto_97430004_34_xml\n",
      "Text: a united parish on the mainland of Orkney, of nine miles in length, with a varying breadth, lying west of Kirkwall. In its centre is the lake of S tennis or Stenhouse, which is nearly divided in two b...\n",
      "\n",
      "\n",
      "Description: https://w3id.org/hto/OriginalDescription/9910440713804340_97424370_1007608998_0NLS\n",
      "Source: https://w3id.org/hto/InformationResource/97424370_alto_97430016_34_xml\n",
      "Text: an inlet of the sea on the south-east coast of Sutherlandshire, across the narrow neck of which there is a ferry, on the thoroughfare along the coast northwards from Dornoch....\n",
      "\n",
      "\n",
      "Description: https://w3id.org/hto/OriginalDescription/9910440713804340_97424370_1016059890_0NLS\n",
      "Source: https://w3id.org/hto/InformationResource/97424370_alto_97430196_34_xml\n",
      "Text: FRODA, an islet on the west coast of Skye....\n",
      "\n",
      "\n",
      "Description: https://w3id.org/hto/OriginalDescription/9910440713804340_97424370_1042273902_0NLS\n",
      "Source: https://w3id.org/hto/InformationResource/97424370_alto_97426512_34_xml\n",
      "Text: a parish in Sutherlandshire, lying on the shore of the Moray Firth, and on the north bank of Brora Water, having the parish of Loth on its north-eastern quarter. In consists of braes declining sea-war...\n",
      "\n",
      "\n",
      "Description: https://w3id.org/hto/OriginalDescription/9910440713804340_97424370_1052967722_0NLS\n",
      "Source: https://w3id.org/hto/InformationResource/97424370_alto_97425420_34_xml\n",
      "Text: a tributary streamlet of the Spey, drawing its source from a small loch in the extreme south-westerly point of Banffshire, in Glen Aven, and the Forest of Glen Aven which are named from it, and increa...\n",
      "\n",
      "\n",
      "Description: https://w3id.org/hto/OriginalDescription/9910440713804340_97424370_1052967722_2NLS\n",
      "Source: https://w3id.org/hto/InformationResource/97424370_alto_97425432_34_xml\n",
      "Text: a river which, throughout nearly its whole course, divides Stirlingshire from Linfithgowshire, and is crossed by the road from Edinburgh to Stirling at the village of Linlithgowbridge. About a mile up...\n",
      "\n",
      "\n",
      "Description: https://w3id.org/hto/OriginalDescription/9910440713804340_97424370_1053655403_0NLS\n",
      "Source: https://w3id.org/hto/InformationResource/97424370_alto_97425588_34_xml\n",
      "Text: BALERNO, a village in the parish of Currie, county of Mid-Lothian, on the water of Leith, about six miles west from Edinburgh ; at which there are some mills for the manufacture of coarse paper, and a...\n",
      "\n",
      "\n",
      "Description: https://w3id.org/hto/OriginalDescription/9910440713804340_97424370_10755622_0NLS\n",
      "Source: https://w3id.org/hto/InformationResource/97424370_alto_97427448_34_xml\n",
      "Text: DUNBEATH, a thriving fishing village on the east coast of Caithness, at the mouth of the DUNBEATH, (WATER OF) a river in Caithness, parish of Latheron, which, after flowing in an easterly direction, f...\n",
      "\n",
      "\n",
      "Description: https://w3id.org/hto/OriginalDescription/9910440713804340_97424370_1088370254_0NLS\n",
      "Source: https://w3id.org/hto/InformationResource/97424370_alto_97425372_34_xml\n",
      "Text: a parish in Dumbartonshire, lying between Loch Lomond and Loch Long, bounded on the south by Luss, extending nearly sixteen miles in length by three in breadth. The land is hilly and pastoral. At the ...\n",
      "\n",
      "\n",
      "Description: https://w3id.org/hto/OriginalDescription/9910440713804340_97424370_1091329794_0NLS\n",
      "Source: https://w3id.org/hto/InformationResource/97424370_alto_97426560_34_xml\n",
      "Text: COLL, an island, lying off the west coast of Midi, Argyleshire, from which it is distant about seven miles, and forming part of the parish of Tiree, from which it is divided by a narrow rocky sound. I...\n",
      "\n"
     ]
    }
   ]
  },
  {
   "cell_type": "markdown",
   "source": [
    "### Query 9: Inspect all RDF properties of a single `hto:OriginalDescription` entry\n",
    "\n",
    "This two-part query inspects one specific Gazetteer article by first selecting an example description and then listing all of its associated RDF triples.\n"
   ],
   "metadata": {
    "id": "1Kkbbxfz76W8"
   },
   "id": "1Kkbbxfz76W8"
  },
  {
   "cell_type": "markdown",
   "source": [
    "#### 🔹 Query 9.1: Select a sample `OriginalDescription` URI\n",
    "\n",
    "This query retrieves one resource of type `hto:OriginalDescription`. This URI will be used to examine all the semantic properties associated with that individual article.\n"
   ],
   "metadata": {
    "id": "i_zNZaezH_GT"
   },
   "id": "i_zNZaezH_GT"
  },
  {
   "cell_type": "code",
   "source": [
    "sparql.setQuery(\"\"\"\n",
    "PREFIX hto: <https://w3id.org/hto#>\n",
    "\n",
    "SELECT ?desc ?p ?o WHERE {\n",
    "  ?desc a hto:OriginalDescription ;\n",
    "        ?p ?o .\n",
    "}\n",
    "LIMIT 1\n",
    "\"\"\")\n",
    "\n",
    "# Now this will work:\n",
    "try:\n",
    "    ret = sparql.queryAndConvert()\n",
    "    binding = ret[\"results\"][\"bindings\"][0]\n",
    "    desc_uri = binding[\"desc\"][\"value\"]\n",
    "    print(f\"Using description URI: {desc_uri}\")\n",
    "except Exception as e:\n",
    "    print(\"Could not get description URI:\", e)\n",
    "\n",
    "\n"
   ],
   "metadata": {
    "colab": {
     "base_uri": "https://localhost:8080/"
    },
    "id": "bV6EFrPj5aIp",
    "outputId": "c31653e2-6d40-4cfb-dfb5-9a20c65a5610"
   },
   "id": "bV6EFrPj5aIp",
   "execution_count": 22,
   "outputs": [
    {
     "output_type": "stream",
     "name": "stdout",
     "text": [
      "Using description URI: https://w3id.org/hto/OriginalDescription/9910440713804340_97424370_1007501475_0NLS\n"
     ]
    }
   ]
  },
  {
   "cell_type": "markdown",
   "source": [
    "#### 🔹 Query 9.2: Retrieve all RDF properties of that description\n",
    "\n",
    "Once a description URI is selected, this second query prints all RDF triples where that URI is the subject. This includes key metadata such as:\n",
    "\n",
    "- `hto:text` — the full article content\n",
    "- `hto:wasExtractedFrom` — the page or document source\n",
    "- `hto:hasTextQuality` — quality annotation (e.g., Low, High)\n",
    "- `prov:wasAttributedTo` — the agent responsible for the extraction\n",
    "- Any other custom properties used in semantic modeling\n",
    "\n",
    "Together, these queries allow you to deeply inspect the structure and provenance of individual gazetteer entries."
   ],
   "metadata": {
    "id": "ezD3GT8y8DV7"
   },
   "id": "ezD3GT8y8DV7"
  },
  {
   "cell_type": "code",
   "source": [
    "sparql.setQuery(f\"\"\"\n",
    "SELECT ?p ?o WHERE {{\n",
    "  <{desc_uri}> ?p ?o .\n",
    "}}\n",
    "\"\"\")\n",
    "\n",
    "try:\n",
    "    ret = sparql.queryAndConvert()\n",
    "    print(f\"\\nAll properties for {desc_uri}:\\n\")\n",
    "    for r in ret[\"results\"][\"bindings\"]:\n",
    "        print(f\"{r['p']['value']} → {r['o']['value']}\")\n",
    "except Exception as e:\n",
    "    print(e)\n"
   ],
   "metadata": {
    "colab": {
     "base_uri": "https://localhost:8080/"
    },
    "id": "vQvDbXLF6Izb",
    "outputId": "19008c55-9eef-4334-87ef-596887e8d194"
   },
   "id": "vQvDbXLF6Izb",
   "execution_count": 23,
   "outputs": [
    {
     "output_type": "stream",
     "name": "stdout",
     "text": [
      "\n",
      "All properties for https://w3id.org/hto/OriginalDescription/9910440713804340_97424370_1007501475_0NLS:\n",
      "\n",
      "http://www.w3.org/1999/02/22-rdf-syntax-ns#type → https://w3id.org/hto#OriginalDescription\n",
      "http://www.w3.org/ns/prov#wasAttributedTo → https://github.com/francesNLP/MappingChange\n",
      "https://w3id.org/hto#hasTextQuality → https://w3id.org/hto#Low\n",
      "https://w3id.org/hto#text → a united parish on the mainland of Orkney, of nine miles in length, with a varying breadth, lying west of Kirkwall. In its centre is the lake of S tennis or Stenhouse, which is nearly divided in two by a narrow shallow, which can be passed over by a sort of causeway of large stones. On the western side are the famous stones of Stonnis, which are only paralleled by those of Stonehenge. Some of these are single, standing jerect in the earth. Others describe particular figures ; but the greatest number form a large circle, surrounded by a ditch. A grent number have fallen. The largest stand between the old kirk of Stennis and the causeway. One of these rises eighteen feet out ct the ground. About this quarter there are the remains of various tumuli, all of which are significant of the place having been one o. great importance in druidical times. The kirk of Firth stands at the head of an arm of Kirkwall Bay. The parish is generally wild and pastoral Population in 1821, of Firth 545, of Stennis 596.\n",
      "https://w3id.org/hto#wasExtractedFrom → https://w3id.org/hto/InformationResource/97424370_alto_97430004_34_xml\n"
     ]
    }
   ]
  },
  {
   "cell_type": "markdown",
   "source": [
    "### Query 10: Retrieve and inspect a `hto:LocationRecord`\n",
    "\n",
    "This two-part query focuses on exploring a `hto:LocationRecord`, which represents a semantically enriched article entry linked to a specific place.\n",
    "\n"
   ],
   "metadata": {
    "id": "dNvj2DOd8Nk7"
   },
   "id": "dNvj2DOd8Nk7"
  },
  {
   "cell_type": "markdown",
   "source": [
    "#### 🔹 Query 10.1: Retrieve a sample `LocationRecord` URI\n",
    "\n",
    "This query selects a single resource of type `hto:LocationRecord`. This record aggregates structured metadata about an article that refers to a geographic location.\n"
   ],
   "metadata": {
    "id": "pHte027wIcoK"
   },
   "id": "pHte027wIcoK"
  },
  {
   "cell_type": "code",
   "source": [
    "sparql.setQuery(\"\"\"\n",
    "PREFIX hto: <https://w3id.org/hto#>\n",
    "\n",
    "SELECT ?record WHERE {\n",
    "  ?record a hto:LocationRecord .\n",
    "}\n",
    "LIMIT 1\n",
    "\"\"\")\n",
    "\n",
    "try:\n",
    "    ret = sparql.queryAndConvert()\n",
    "    record_uri = ret[\"results\"][\"bindings\"][0][\"record\"][\"value\"]\n",
    "    print(f\"Using LocationRecord URI: {record_uri}\")\n",
    "except Exception as e:\n",
    "    print(\"Could not retrieve a LocationRecord:\", e)\n",
    "\n",
    "\n"
   ],
   "metadata": {
    "colab": {
     "base_uri": "https://localhost:8080/"
    },
    "id": "M2mEgiuY6bCT",
    "outputId": "57d2c7bc-4564-4752-e999-0b7d47ddf4f6"
   },
   "id": "M2mEgiuY6bCT",
   "execution_count": 24,
   "outputs": [
    {
     "output_type": "stream",
     "name": "stdout",
     "text": [
      "Using LocationRecord URI: https://w3id.org/hto/LocationRecord/9910440713804340_97424370_1007501475_0\n"
     ]
    }
   ]
  },
  {
   "cell_type": "markdown",
   "source": [
    "#### 🔹 Query 10.2: List all RDF properties of that `LocationRecord`\n",
    "\n",
    "Once the URI is obtained, this query lists all RDF properties associated with the record. These typically include:\n",
    "\n",
    "- `hto:name` — the article heading (e.g., \"FIRTH AND STENNIS\")\n",
    "- `hto:hasOriginalDescription` — link to the full textual description\n",
    "- `hto:startsAtPage` / `hto:endsAtPage` — page-level provenance\n",
    "- `hto:refersToLocation` — the linked `hto:Location` resource\n",
    "\n",
    "This structure allows rich querying of articles by location, supports place-based exploration, and connects textual content with bibliographic context."
   ],
   "metadata": {
    "id": "58sUj9QiIe71"
   },
   "id": "58sUj9QiIe71"
  },
  {
   "cell_type": "code",
   "source": [
    "sparql.setQuery(\"\"\"\n",
    "SELECT ?p ?o WHERE {\n",
    "  <https://w3id.org/hto/LocationRecord/9910440713804340_97424370_1007501475_0> ?p ?o .\n",
    "}\n",
    "\"\"\")\n",
    "\n",
    "try:\n",
    "    ret = sparql.queryAndConvert()\n",
    "    print(\"All properties for the LocationRecord:\\n\")\n",
    "    for r in ret[\"results\"][\"bindings\"]:\n",
    "        print(f\"{r['p']['value']} → {r['o']['value']}\")\n",
    "except Exception as e:\n",
    "    print(e)\n"
   ],
   "metadata": {
    "colab": {
     "base_uri": "https://localhost:8080/"
    },
    "id": "W_fvOMhhCFRf",
    "outputId": "20539f32-7255-48df-9c6b-3845711cfac8"
   },
   "id": "W_fvOMhhCFRf",
   "execution_count": 25,
   "outputs": [
    {
     "output_type": "stream",
     "name": "stdout",
     "text": [
      "All properties for the LocationRecord:\n",
      "\n",
      "http://www.w3.org/1999/02/22-rdf-syntax-ns#type → https://w3id.org/hto#LocationRecord\n",
      "https://w3id.org/hto#hasOriginalDescription → https://w3id.org/hto/OriginalDescription/9910440713804340_97424370_1007501475_0NLS\n",
      "https://w3id.org/hto#name → FIRTH AND STENNIS\n",
      "https://w3id.org/hto#endsAtPage → https://w3id.org/hto/Page/9910440713804340_97424370_470\n",
      "https://w3id.org/hto#startsAtPage → https://w3id.org/hto/Page/9910440713804340_97424370_470\n"
     ]
    }
   ]
  },
  {
   "cell_type": "markdown",
   "source": [
    "### Query 11: Retrieve title, start-end page, ext of a article place\n",
    "\n",
    "\n",
    "### Query 11: Retrieve article metadata including title, text, and page range\n",
    "\n",
    "This query aggregates key metadata about Gazetteer articles modeled as `hto:LocationRecord` resources.\n",
    "\n",
    "Each result includes:\n",
    "- `hto:name` — the article title or heading (e.g., “FIRTH AND STENNIS”)\n",
    "- `hto:text` — the full textual content of the article (from `hto:OriginalDescription`)\n",
    "- `hto:startsAtPage` and `hto:endsAtPage` — the page span in the digitized volume\n",
    "\n",
    "The query joins the `hto:LocationRecord` with its corresponding `hto:OriginalDescription`, providing a compact view of what each article covers, how long it is, and where it appears in the source volume.\n",
    "\n",
    "This is useful for content previews, document navigation interfaces, or comparative analysis across editions.\n"
   ],
   "metadata": {
    "id": "dUsosI-5FPvt"
   },
   "id": "dUsosI-5FPvt"
  },
  {
   "cell_type": "code",
   "source": [
    "sparql.setQuery(\"\"\"\n",
    "PREFIX hto: <https://w3id.org/hto#>\n",
    "\n",
    "SELECT ?record ?name ?text ?startPage ?endPage WHERE {\n",
    "  ?record a hto:LocationRecord ;\n",
    "          hto:name ?name ;\n",
    "          hto:hasOriginalDescription ?desc ;\n",
    "          hto:startsAtPage ?startPage ;\n",
    "          hto:endsAtPage ?endPage .\n",
    "  ?desc hto:text ?text .\n",
    "}\n",
    "LIMIT 20\n",
    "\"\"\")\n",
    "\n",
    "try:\n",
    "    ret = sparql.queryAndConvert()\n",
    "    for r in ret[\"results\"][\"bindings\"]:\n",
    "        print(f\"Article title: {r['name']['value']}\")\n",
    "        print(f\"Start page: {r['startPage']['value']}\")\n",
    "        print(f\"End page:   {r['endPage']['value']}\")\n",
    "        print(f\"Text: {r['text']['value'][:200]}...\\n\")\n",
    "except Exception as e:\n",
    "    print(e)\n",
    "\n"
   ],
   "metadata": {
    "colab": {
     "base_uri": "https://localhost:8080/"
    },
    "id": "9NNpLd1ECTa5",
    "outputId": "592cfb51-6447-483d-dfc3-68c135fc544e"
   },
   "id": "9NNpLd1ECTa5",
   "execution_count": 26,
   "outputs": [
    {
     "output_type": "stream",
     "name": "stdout",
     "text": [
      "Article title: FIRTH AND STENNIS\n",
      "Start page: https://w3id.org/hto/Page/9910440713804340_97424370_470\n",
      "End page:   https://w3id.org/hto/Page/9910440713804340_97424370_470\n",
      "Text: a united parish on the mainland of Orkney, of nine miles in length, with a varying breadth, lying west of Kirkwall. In its centre is the lake of S tennis or Stenhouse, which is nearly divided in two b...\n",
      "\n",
      "Article title: FLEET LOCH\n",
      "Start page: https://w3id.org/hto/Page/9910440713804340_97424370_471\n",
      "End page:   https://w3id.org/hto/Page/9910440713804340_97424370_471\n",
      "Text: an inlet of the sea on the south-east coast of Sutherlandshire, across the narrow neck of which there is a ferry, on the thoroughfare along the coast northwards from Dornoch....\n",
      "\n",
      "Article title: FRODA\n",
      "Start page: https://w3id.org/hto/Page/9910440713804340_97424370_486\n",
      "End page:   https://w3id.org/hto/Page/9910440713804340_97424370_486\n",
      "Text: FRODA, an islet on the west coast of Skye....\n",
      "\n",
      "Article title: CLYNE\n",
      "Start page: https://w3id.org/hto/Page/9910440713804340_97424370_179\n",
      "End page:   https://w3id.org/hto/Page/9910440713804340_97424370_179\n",
      "Text: a parish in Sutherlandshire, lying on the shore of the Moray Firth, and on the north bank of Brora Water, having the parish of Loth on its north-eastern quarter. In consists of braes declining sea-war...\n",
      "\n",
      "Article title: AVEN OR AVON\n",
      "Start page: https://w3id.org/hto/Page/9910440713804340_97424370_88\n",
      "End page:   https://w3id.org/hto/Page/9910440713804340_97424370_88\n",
      "Text: a tributary streamlet of the Spey, drawing its source from a small loch in the extreme south-westerly point of Banffshire, in Glen Aven, and the Forest of Glen Aven which are named from it, and increa...\n",
      "\n",
      "Article title: AVEN OR AVON\n",
      "Start page: https://w3id.org/hto/Page/9910440713804340_97424370_89\n",
      "End page:   https://w3id.org/hto/Page/9910440713804340_97424370_89\n",
      "Text: a river which, throughout nearly its whole course, divides Stirlingshire from Linfithgowshire, and is crossed by the road from Edinburgh to Stirling at the village of Linlithgowbridge. About a mile up...\n",
      "\n",
      "Article title: BALERNO\n",
      "Start page: https://w3id.org/hto/Page/9910440713804340_97424370_102\n",
      "End page:   https://w3id.org/hto/Page/9910440713804340_97424370_102\n",
      "Text: BALERNO, a village in the parish of Currie, county of Mid-Lothian, on the water of Leith, about six miles west from Edinburgh ; at which there are some mills for the manufacture of coarse paper, and a...\n",
      "\n",
      "Article title: DUNBEATH\n",
      "Start page: https://w3id.org/hto/Page/9910440713804340_97424370_257\n",
      "End page:   https://w3id.org/hto/Page/9910440713804340_97424370_257\n",
      "Text: DUNBEATH, a thriving fishing village on the east coast of Caithness, at the mouth of the DUNBEATH, (WATER OF) a river in Caithness, parish of Latheron, which, after flowing in an easterly direction, f...\n",
      "\n",
      "Article title: ARROCHAR\n",
      "Start page: https://w3id.org/hto/Page/9910440713804340_97424370_84\n",
      "End page:   https://w3id.org/hto/Page/9910440713804340_97424370_84\n",
      "Text: a parish in Dumbartonshire, lying between Loch Lomond and Loch Long, bounded on the south by Luss, extending nearly sixteen miles in length by three in breadth. The land is hilly and pastoral. At the ...\n",
      "\n",
      "Article title: COLL\n",
      "Start page: https://w3id.org/hto/Page/9910440713804340_97424370_183\n",
      "End page:   https://w3id.org/hto/Page/9910440713804340_97424370_183\n",
      "Text: COLL, an island, lying off the west coast of Midi, Argyleshire, from which it is distant about seven miles, and forming part of the parish of Tiree, from which it is divided by a narrow rocky sound. I...\n",
      "\n",
      "Article title: BEITH\n",
      "Start page: https://w3id.org/hto/Page/9910440713804340_97424370_113\n",
      "End page:   https://w3id.org/hto/Page/9910440713804340_97424370_113\n",
      "Text: B E I T H. 85 a leap in a wrong direction, (from the frothiness of the water), tumbled into the pot, where it was soon boiled and eaten by his Lordship and attendants. This was done, that he might boa...\n",
      "\n",
      "Article title: ANNAN\n",
      "Start page: https://w3id.org/hto/Page/9910440713804340_97424370_69\n",
      "End page:   https://w3id.org/hto/Page/9910440713804340_97424370_69\n",
      "Text: ANNAN, a second rate river, which rises in the hollow of a huge hill dividing Dumfries-shire from Peebles-shire, known by the strange name of the Devil's Beef Statiti, and flows altogether about thirt...\n",
      "\n",
      "Article title: GLAMMIS\n",
      "Start page: https://w3id.org/hto/Page/9910440713804340_97424370_495\n",
      "End page:   https://w3id.org/hto/Page/9910440713804340_97424370_495\n",
      "Text: GLAMMIS, a rich fertile parish in Forfarshire, lying in the bottom of the vale of Strathmore, south-west of Forfar, and extending twelve miles in length, by from one to five in breadth. The only objec...\n",
      "\n",
      "Article title: CARSE\n",
      "Start page: https://w3id.org/hto/Page/9910440713804340_97424370_167\n",
      "End page:   https://w3id.org/hto/Page/9910440713804340_97424370_167\n",
      "Text: CARSE, a word signifying \" a flat piece of ground,\" and which has been popularly and specially applied to three several tracts of country in Scotland, namely, the Carse of Falkirk, the Carse of Stirli...\n",
      "\n",
      "Article title: CRAIGLOCKHART\n",
      "Start page: https://w3id.org/hto/Page/9910440713804340_97424370_189\n",
      "End page:   https://w3id.org/hto/Page/9910440713804340_97424370_189\n",
      "Text: CRAIG-LOCKHART, a beautifully wooded eminence a short way west of Morningside, in a south-westerly direction from Edinburgh, which slopes gently to the east, and is precipitous on its western side. On...\n",
      "\n",
      "Article title: COCKPEN\n",
      "Start page: https://w3id.org/hto/Page/9910440713804340_97424370_180\n",
      "End page:   https://w3id.org/hto/Page/9910440713804340_97424370_180\n",
      "Text: COCKPEN, a parish in the county of Edinburgh, lying in a southerly direction from the metropolis, between the parishes of Carrington and Lasswade, and chiefly on the left bank of the South Esk. The su...\n",
      "\n",
      "Article title: ABERARGIE\n",
      "Start page: https://w3id.org/hto/Page/9910440713804340_97424370_29\n",
      "End page:   https://w3id.org/hto/Page/9910440713804340_97424370_29\n",
      "Text: ABERARGIE, a village in the parish of Abernethy, Perthshire, a mile west of Abernethy....\n",
      "\n",
      "Article title: FORGANDENNY\n",
      "Start page: https://w3id.org/hto/Page/9910440713804340_97424370_481\n",
      "End page:   https://w3id.org/hto/Page/9910440713804340_97424370_481\n",
      "Text: FORGANDENNY, a parish in the district of Strathearn, Perthshire, extending from the hilly boundary of Kinross-shire (to which a small part of it belongs) to the south bank of the Earn, a length of at ...\n",
      "\n",
      "Article title: CLOGH LIGHTHOUSE THE\n",
      "Start page: https://w3id.org/hto/Page/9910440713804340_97424370_177\n",
      "End page:   https://w3id.org/hto/Page/9910440713804340_97424370_177\n",
      "Text: is erected on a point of land on the south shore of the firth of Clyde in the county of Renfrew, about five miles below the port of Greenock. The ligkt exhibited is stationary, and appears like a star...\n",
      "\n",
      "Article title: GAIRNEY\n",
      "Start page: https://w3id.org/hto/Page/9910440713804340_97424370_487\n",
      "End page:   https://w3id.org/hto/Page/9910440713804340_97424370_487\n",
      "Text: GAIRNEY, a small stream in Kinrossshire, rising from the small mountain lochs, on the top of the King's-seat Hills, in the parish of Cleish, and flowing through the vale of Kinross, falls into Loch Le...\n",
      "\n"
     ]
    }
   ]
  },
  {
   "cell_type": "markdown",
   "source": [
    "### Query 12: Retrieve all Gazetteer entries titled \"DUNDEE\" with article text, volume, series, and year\n",
    "\n",
    "This query returns all Gazetteer entries with the title `\"DUNDEE\"` from the knowledge graph, using the `hto:name` property on `hto:LocationRecord`.\n",
    "\n",
    "For each entry, the query retrieves:\n",
    "- The full article text (`hto:text`)\n",
    "- Start and end pages in the source volume (`hto:startsAtPage`, `hto:endsAtPage`)\n",
    "- The volume (`hto:Volume`) it belongs to, with title\n",
    "- The series (`hto:Series`) the volume is part of, with title\n",
    "- The year of publication, resolved from either the volume or the series (`hto:yearPublished`)\n",
    "\n",
    "By using `COALESCE`, the query returns the earliest available year value, whether it's declared on the volume or the series — accommodating incomplete metadata.\n",
    "\n",
    "This query is ideal for comparing how a single place, such as Dundee, has been described across different editions and series in the Gazetteers collection.\n"
   ],
   "metadata": {
    "id": "mQeKRy62J5WI"
   },
   "id": "mQeKRy62J5WI"
  },
  {
   "cell_type": "code",
   "source": [
    "sparql.setQuery(\"\"\"\n",
    "PREFIX hto: <https://w3id.org/hto#>\n",
    "\n",
    "SELECT DISTINCT ?record ?desc ?text ?startPage ?endPage ?volume ?volumeTitle ?series ?seriesTitle ?year WHERE {\n",
    "  ?record a hto:LocationRecord ;\n",
    "          hto:name \"DUNDEE\" ;\n",
    "          hto:hasOriginalDescription ?desc ;\n",
    "          hto:startsAtPage ?startPage ;\n",
    "          hto:endsAtPage ?endPage .\n",
    "\n",
    "  ?desc hto:text ?text .\n",
    "\n",
    "  # Get the volume from the page\n",
    "  ?volume hto:hadMember ?page .\n",
    "  FILTER (?page = ?startPage || ?page = ?endPage)\n",
    "\n",
    "  OPTIONAL { ?volume hto:title ?volumeTitle . }\n",
    "  OPTIONAL { ?volume hto:wasMemberOf ?series . }\n",
    "  OPTIONAL { ?series hto:title ?seriesTitle . }\n",
    "  OPTIONAL { ?volume hto:yearPublished ?volumeYear . }\n",
    "  OPTIONAL { ?series hto:yearPublished ?seriesYear . }\n",
    "\n",
    "  # Coalesce year from volume or series\n",
    "  BIND(COALESCE(?volumeYear, ?seriesYear) AS ?year)\n",
    "}\n",
    "LIMIT 20\n",
    "\"\"\")\n",
    "\n",
    "try:\n",
    "    ret = sparql.queryAndConvert()\n",
    "    for r in ret[\"results\"][\"bindings\"]:\n",
    "        print(f\"📘 Record: {r['record']['value']}\")\n",
    "        print(f\"📄 Start Page: {r['startPage']['value']} → End Page: {r['endPage']['value']}\")\n",
    "        print(f\"📚 Volume: {r.get('volumeTitle', {}).get('value', 'N/A')}\")\n",
    "        print(f\"📦 Series: {r.get('seriesTitle', {}).get('value', 'N/A')}\")\n",
    "        print(f\"📅 Year: {r.get('year', {}).get('value', 'N/A')}\")\n",
    "        print(f\"📝 Text: {r['text']['value'][:300]}...\\n\")\n",
    "except Exception as e:\n",
    "    print(e)\n",
    "\n"
   ],
   "metadata": {
    "colab": {
     "base_uri": "https://localhost:8080/"
    },
    "id": "wg_kAMynI__v",
    "outputId": "9a091d58-8b8d-45e1-82f5-305afaa2ec40"
   },
   "id": "wg_kAMynI__v",
   "execution_count": 27,
   "outputs": [
    {
     "output_type": "stream",
     "name": "stdout",
     "text": [
      "📘 Record: https://w3id.org/hto/LocationRecord/9910440713804340_97424370_769119998_0\n",
      "📄 Start Page: https://w3id.org/hto/Page/9910440713804340_97424370_258 → End Page: https://w3id.org/hto/Page/9910440713804340_97424370_268\n",
      "📚 Volume: gazetteer of Scotland. [With plates and maps.] 1838, Volume 1\n",
      "📦 Series: gazetteer of Scotland. [With plates and maps.]\n",
      "📅 Year: 1838\n",
      "📝 Text: DUNDEE. 229 of some high rocks close to the river, and about a quarter of a mile from the church, was erected, in early times, a tolerably secure fortress, similar to that still nearly entire, at Broughty, a few miles farther down the Tay. Little is satisfactorily known of the castle of Dundee. Afte...\n",
      "\n",
      "📘 Record: https://w3id.org/hto/LocationRecord/9928112733804340_97459138_769119998_0\n",
      "📄 Start Page: https://w3id.org/hto/Page/9928112733804340_97459138_562 → End Page: https://w3id.org/hto/Page/9928112733804340_97459138_572\n",
      "📚 Volume: imperial gazetteer of Scotland; or, Dictionary of Scottish topography, compiled from the most recent authorities, and forming a complete body of Scottish geography, physical, statistical, and historical 1868, Volume 1\n",
      "📦 Series: imperial gazetteer of Scotland; or, Dictionary of Scottish topography, compiled from the most recent authorities, and forming a complete body of Scottish geography, physical, statistical, and historical\n",
      "📅 Year: 1868\n",
      "📝 Text: DUNDEE. 44'l DUNDEE. was superseded by a clean area, well supplied with water, and placed under suitable regulations, between the end of Castle-street and the Green-market; and that Kish-market also was proposed, about the end of 1865, to be suporseded by a new one on some other site. A conspicuous ...\n",
      "\n",
      "📘 Record: https://w3id.org/hto/LocationRecord/9928228793804340_97372786_769119998_0\n",
      "📄 Start Page: https://w3id.org/hto/Page/9928228793804340_97372786_163 → End Page: https://w3id.org/hto/Page/9928228793804340_97372786_173\n",
      "📚 Volume: Ordnance gazetteer of Scotland 1884-1885, Volume 2\n",
      "📦 Series: Ordnance gazetteer of Scotland\n",
      "📅 Year: 1883\n",
      "📝 Text: 8£ feet wide and 11 high ; but must have been higher originally, as the ground has been raised in the course of years ; has been frequently ' improved, ' the most recent having been in 1877, when a plate was fixed on the outer or E side, with the following inscription : — ' During the plague of 1544...\n",
      "\n",
      "📘 Record: https://w3id.org/hto/LocationRecord/9928228793804340_97376462_769119998_0\n",
      "📄 Start Page: https://w3id.org/hto/Page/9928228793804340_97376462_109 → End Page: https://w3id.org/hto/Page/9928228793804340_97376462_109\n",
      "📚 Volume: Ordnance gazetteer of Scotland 1884-1885, Volume 3\n",
      "📦 Series: Ordnance gazetteer of Scotland\n",
      "📅 Year: 1883\n",
      "📝 Text: Dundee, 18 in Arbroath and its neighbourhood, 6 in Montrose and its neighbourhood, 6 in Forfar, 4 in Brechin, and 2 in Carnoustie —altogether 108 ; and they had 278,564 spindles, 11,329 power-looms, and 7715 of nominal horse-power, and employed 46,571 persons. The spinning, weaving, and bleaching of...\n",
      "\n",
      "📘 Record: https://w3id.org/hto/LocationRecord/9930626093804340_97393254_769119998_0\n",
      "📄 Start Page: https://w3id.org/hto/Page/9930626093804340_97393254_420 → End Page: https://w3id.org/hto/Page/9930626093804340_97393254_433\n",
      "📚 Volume: Ordnance gazetteer of Scotland 1901\n",
      "📦 Series: Ordnance gazetteer of Scotland\n",
      "📅 Year: 1901\n",
      "📝 Text: of Cowgate, nearly parallel to Seagate, extends about 1J mile. But while thus covering an extensive area, the town possesses little regularity of plan. Excepting numerous new streets, generally short ones, on the N, and a number of brief communications between the two tp-eat lines along the low grou...\n",
      "\n",
      "📘 Record: https://w3id.org/hto/LocationRecord/9930626093804340_97393254_769119998_1\n",
      "📄 Start Page: https://w3id.org/hto/Page/9930626093804340_97393254_1257 → End Page: https://w3id.org/hto/Page/9930626093804340_97393254_1257\n",
      "📚 Volume: Ordnance gazetteer of Scotland 1901\n",
      "📦 Series: Ordnance gazetteer of Scotland\n",
      "📅 Year: 1901\n",
      "📝 Text: The system of wrought-iron lattice girders was adopted throughout, Mr Bouch adhering to the form of construction which had been successfully employed in other works designed by him. The piers were originally intended to be of brickwork, but after the fourteen nearest the south shore had been thus er...\n",
      "\n",
      "📘 Record: https://w3id.org/hto/LocationRecord/9931003343804340_97343436_769119998_0\n",
      "📄 Start Page: https://w3id.org/hto/Page/9931003343804340_97343436_169 → End Page: https://w3id.org/hto/Page/9931003343804340_97343436_169\n",
      "📚 Volume: gazetteer of Scotland 1803\n",
      "📦 Series: gazetteer of Scotland\n",
      "📅 Year: 1803\n",
      "📝 Text: a royal borough in the county of Angus or Forfar, seated on the N. bank of the river Tay, about 12 miles from its mouth, in 5627' 23'' N. latitude, and 32' W. longitude from Greenwich. It is a large and well built town, consisting of several streets, diverging in every direction from the market-plac...\n",
      "\n",
      "📘 Record: https://w3id.org/hto/LocationRecord/9931344933804340_97437554_769119998_0\n",
      "📄 Start Page: https://w3id.org/hto/Page/9931344933804340_97437554_455 → End Page: https://w3id.org/hto/Page/9931344933804340_97437554_468\n",
      "📚 Volume: topographical, statistical, and historical gazetteer of Scotland 1842, Volume 1\n",
      "📦 Series: topographical, statistical, and historical gazetteer of Scotland\n",
      "📅 Year: 1842\n",
      "📝 Text: noucment, what it wants in the neat forms and elegant attractions of simple beauty. Its exterior, also, and its general grouping, and its richness of situation in the core of a brilliant landscape, eminently render it, as seen from the Fife side of the Tay, or from Broughty ferry-road, the justly la...\n",
      "\n",
      "📘 Record: https://w3id.org/hto/LocationRecord/9933057493804340_97355229_769119998_0\n",
      "📄 Start Page: https://w3id.org/hto/Page/9933057493804340_97355229_151 → End Page: https://w3id.org/hto/Page/9933057493804340_97355229_152\n",
      "📚 Volume: Gazetteer of Scotland 1882\n",
      "📦 Series: Gazetteer of Scotland\n",
      "📅 Year: 1882\n",
      "📝 Text: DUNDEE, town and parish on south border of Forfarshire. The town stands on Firth of Tay, 9J mdes west of Buddonness, and 2H east-north-east of Perth ; dates from ancient times, but never till quite a modern period became large, and now, as to both population and aggregate importance, is the third to...\n",
      "\n",
      "📘 Record: https://w3id.org/hto/LocationRecord/9931344573804340_97414570_769119998_0\n",
      "📄 Start Page: https://w3id.org/hto/Page/9931344573804340_97414570_196 → End Page: https://w3id.org/hto/Page/9931344573804340_97414570_197\n",
      "📚 Volume: gazetteer of Scotland: containing a particular and concise description of the counties, parishes, islands, cities ... With ... map 1806\n",
      "📦 Series: gazetteer of Scotland: containing a particular and concise description of the counties, parishes, islands, cities ... With ... map\n",
      "📅 Year: 1806\n",
      "📝 Text: a royal borough in the county of Angus or Forfar, seated on the N. bank of the river Tay, about 12miles from its mouth, in 56°27' 23\" N. latitude, and s°2 ' 55\" W. longitude from Greenwich. It is # a large and well built town, consisting of several streets, diverging in every direction from the mark...\n",
      "\n",
      "📘 Record: https://w3id.org/hto/LocationRecord/9931344583804340_97421702_769119998_0\n",
      "📄 Start Page: https://w3id.org/hto/Page/9931344583804340_97421702_88 → End Page: https://w3id.org/hto/Page/9931344583804340_97421702_89\n",
      "📚 Volume: Gazetteer of Scotland; arranged under the various descriptions of counties, parishes, islands 1825?\n",
      "📦 Series: Gazetteer of Scotland; arranged under the various descriptions of counties, parishes, islands\n",
      "📅 Year: 1825\n",
      "📝 Text: a parish. in the county of Angus, 6 miles in length from E. V. along the banks.of the Tay, jts breadth varying from 1 to 4. It is bounded on the S. by the Tay. The soil is in general uneven, but many places are abundantly fertile. The Law, or hill of Dundee, is situated on the N. side of the town, r...\n",
      "\n"
     ]
    }
   ]
  },
  {
   "cell_type": "markdown",
   "source": [
    "### Query 13: List the longest Gazetteer articles by text length\n",
    "\n",
    "This query retrieves the top 10 `hto:LocationRecord` entries in the Gazetteers knowledge graph, ranked by the length of their textual content (`hto:text`).\n",
    "\n",
    "Each result includes:\n",
    "- The article title (`hto:name`)\n",
    "- The URI of the location record\n",
    "- A sample of the full text\n",
    "- Volume title\n",
    "\n",
    "Sorting articles by character length is a useful heuristic for identifying substantial entries — such as major cities, counties, or complex place groupings — which often span multiple paragraphs or pages. These long entries are ideal candidates for in-depth analysis, LLM summarization,\n"
   ],
   "metadata": {
    "id": "1pAE2cpIKrON"
   },
   "id": "1pAE2cpIKrON"
  },
  {
   "cell_type": "code",
   "source": [
    "sparql.setQuery(\"\"\"\n",
    "PREFIX hto: <https://w3id.org/hto#>\n",
    "\n",
    "SELECT ?record ?name ?text ?volumeTitle ?year WHERE {\n",
    "  ?record a hto:LocationRecord ;\n",
    "          hto:name ?name ;\n",
    "          hto:hasOriginalDescription ?desc ;\n",
    "          hto:startsAtPage ?page .\n",
    "\n",
    "  ?desc hto:text ?text .\n",
    "\n",
    "  ?volume hto:hadMember ?page .\n",
    "  OPTIONAL { ?volume hto:title ?volumeTitle . }\n",
    "  OPTIONAL { ?volume hto:yearPublished ?year . }\n",
    "}\n",
    "ORDER BY DESC(STRLEN(?text))\n",
    "LIMIT 10\n",
    "\"\"\")\n",
    "\n",
    "try:\n",
    "    ret = sparql.queryAndConvert()\n",
    "    for r in ret[\"results\"][\"bindings\"]:\n",
    "        print(f\"📍 Title: {r['name']['value']}\")\n",
    "        print(f\"📝 Record: {r['record']['value']}\")\n",
    "        print(f\"📚 Volume: {r.get('volumeTitle', {}).get('value', 'N/A')} ({r.get('year', {}).get('value', 'N/A')})\")\n",
    "        print(f\"📏 Length: {len(r['text']['value'])} characters\")\n",
    "        print(f\"🔍 Excerpt: {r['text']['value'][:300]}...\\n\")\n",
    "except Exception as e:\n",
    "    print(e)\n",
    "\n",
    "\n",
    "\n"
   ],
   "metadata": {
    "colab": {
     "base_uri": "https://localhost:8080/"
    },
    "id": "WuCV_1EcKr9Z",
    "outputId": "d5f129ac-7a60-4783-a484-245e840e5f8b"
   },
   "id": "WuCV_1EcKr9Z",
   "execution_count": 28,
   "outputs": [
    {
     "output_type": "stream",
     "name": "stdout",
     "text": [
      "📍 Title: EDINBURGH\n",
      "📝 Record: https://w3id.org/hto/LocationRecord/9910440713804340_97424370_5424703086_0\n",
      "📚 Volume: gazetteer of Scotland. [With plates and maps.] 1838, Volume 1 (N/A)\n",
      "📏 Length: 800374 characters\n",
      "🔍 Excerpt: EDINBURGH. 285 monarch, held his first parliament in Edinburgh, in the year 1214, and this event served to give it still more the air of a capital and seat of supreme justice. When Alexander, in 1221, married Joan, the princess of England, he made Edinburgh the place of his residence for some time. ...\n",
      "\n",
      "📍 Title: EDINBURGH\n",
      "📝 Record: https://w3id.org/hto/LocationRecord/9928112733804340_97459138_5424703086_0\n",
      "📚 Volume: imperial gazetteer of Scotland; or, Dictionary of Scottish topography, compiled from the most recent authorities, and forming a complete body of Scottish geography, physical, statistical, and historical 1868, Volume 1 (N/A)\n",
      "📏 Length: 678908 characters\n",
      "🔍 Excerpt: EDINBURGH. -,:;:; EDINBURGH. burgh and Glasgow railway and the terminus ol' the Nortli British railway ara conjoint, at the east side of Waverloy-bridge, in the centre of the North loch valley, midway between the North bridge and the Mound. The front has only a one-story elevation above the level of...\n",
      "\n",
      "📍 Title: GLASGOW\n",
      "📝 Record: https://w3id.org/hto/LocationRecord/9928112733804340_97459138_4307577365_0\n",
      "📚 Volume: imperial gazetteer of Scotland; or, Dictionary of Scottish topography, compiled from the most recent authorities, and forming a complete body of Scottish geography, physical, statistical, and historical 1868, Volume 1 (N/A)\n",
      "📏 Length: 584870 characters\n",
      "🔍 Excerpt: The undoubted light of history again breaks in in the early part of the twelfth century, when in 1116, 1 lavid, Prince of Cumbria, and brother of Alexander I. of Scotland, re-founded the see, and promoted his preceptor and Chancellor John (commonly called Achaius), to the bishopric. This prelate was...\n",
      "\n",
      "📍 Title: GLASGOW\n",
      "📝 Record: https://w3id.org/hto/LocationRecord/9930626093804340_97393254_4307577365_0\n",
      "📚 Volume: Ordnance gazetteer of Scotland 1901 (N/A)\n",
      "📏 Length: 435126 characters\n",
      "🔍 Excerpt: thorn (3752 acres), so that the area of what may be termed 'Greater Glasgow' now covers 11,861 acres. The burghs of Kinning Park, Govan, and Partick resisted annexation and still remain independent; but were these and the landward part of the parish of Govan to be added to the city, to which they na...\n",
      "\n",
      "📍 Title: GLASGOW\n",
      "📝 Record: https://w3id.org/hto/LocationRecord/9928228793804340_97376462_4307577365_0\n",
      "📚 Volume: Ordnance gazetteer of Scotland 1884-1885, Volume 3 (N/A)\n",
      "📏 Length: 364111 characters\n",
      "🔍 Excerpt: cipal burgh, and, crossing the Kelvin, takes in the lands of Gilmoro Hill with the new University buildings. Starting from a point on the Monkland Canal at the NE corner of Alexandra Park, the parliamentary and municipal boundary line skirts the E side of the park till near the SE corner, and then t...\n",
      "\n",
      "📍 Title: EDINBURGH\n",
      "📝 Record: https://w3id.org/hto/LocationRecord/9928228793804340_97372786_5424703086_0\n",
      "📚 Volume: Ordnance gazetteer of Scotland 1884-1885, Volume 2 (N/A)\n",
      "📏 Length: 266197 characters\n",
      "🔍 Excerpt: Not to mention the more artificial adornments, architectural and other, with their grouping and array, there are the imposing natural features, with beetling cliffs and hollow or open dells, and rich interspaces of wooded lawn, tended by the art of the gardener, and interspersed or bordered here and...\n",
      "\n",
      "📍 Title: EDINBURGH\n",
      "📝 Record: https://w3id.org/hto/LocationRecord/9930626093804340_97393254_5424703086_0\n",
      "📚 Volume: Ordnance gazetteer of Scotland 1901 (N/A)\n",
      "📏 Length: 261664 characters\n",
      "🔍 Excerpt: Seat is much the same, only more sweeping. Of the views from the S, which are all alike excellent, probably those from Liberton and the Braids are the best; though the nearer one from Blackford has, by Scott's description, been rendered much more famous. ' Fairer scene ' Lord Marmion 'ne'er surveyed...\n",
      "\n",
      "📍 Title: GLASGOW\n",
      "📝 Record: https://w3id.org/hto/LocationRecord/9910440713804340_97424370_4307577365_0\n",
      "📚 Volume: gazetteer of Scotland. [With plates and maps.] 1838, Volume 1 (N/A)\n",
      "📏 Length: 214226 characters\n",
      "🔍 Excerpt: 40.) While these dismal events occurred, Glasgow was subjected to the domestic and complicated ravages of plague, famine, and fire. A dreadful conflagration, the greatest that ever occurred in the city, happened in July 1652. It broke out in a narrow lane in the High Street, part of which it destroy...\n",
      "\n",
      "📍 Title: EDINBURGH\n",
      "📝 Record: https://w3id.org/hto/LocationRecord/9928151783804340_97482042_5424703086_0\n",
      "📚 Volume: topographical dictionary of Scotland 1846, Volume 1 (N/A)\n",
      "📏 Length: 202136 characters\n",
      "🔍 Excerpt: E D I N EDI N to what severities the queen was subjected, embraced her cause, and the city, alternately held by both parties, became for some time the scene of confusion and civil war. The lords of the regency applied for assistance to Elizabeth of England, and that queen sent to their assistance 10...\n",
      "\n",
      "📍 Title: EDINBURGH\n",
      "📝 Record: https://w3id.org/hto/LocationRecord/9931344933804340_97437554_5424703086_0\n",
      "📚 Volume: topographical, statistical, and historical gazetteer of Scotland 1842, Volume 1 (N/A)\n",
      "📏 Length: 172176 characters\n",
      "🔍 Excerpt: to Edinburgh by general consent. Mr. Williams says: \" The distant view of Athens from the i Egean sea is extremely like that of Edinburgh from the frith of Forth ; though certainly the latter is considerably superior.\" \" There are,\" he adds, \" several points of view on the elevated grounds near Edin...\n",
      "\n"
     ]
    }
   ]
  },
  {
   "cell_type": "markdown",
   "source": [
    "### Query 14: Show article-to-article references (`refersTo`) by name\n",
    "\n",
    "This query identifies and displays semantic links between Gazetteer entries that refer to one another using the `hto:refersTo` property.\n",
    "\n",
    "Each result shows:\n",
    "- The source article title (`hto:name`) and URI (`hto:LocationRecord`)\n",
    "- The referred-to article’s title and URI\n",
    "\n",
    "By joining the `refersTo` target with its own `hto:name`, the query outputs human-readable relations such as:\n",
    "\n",
    "> `CRAWFURDSDIKES refers to GREENOCK`\n",
    "\n",
    "This is useful for:\n",
    "- Mapping internal cross-references within the Gazetteers corpus\n",
    "- Detecting redirects, summaries, or composite place descriptions\n",
    "- Building link graphs or knowledge navigation tools\n"
   ],
   "metadata": {
    "id": "F2cgDXPyNLCv"
   },
   "id": "F2cgDXPyNLCv"
  },
  {
   "cell_type": "code",
   "source": [
    "sparql.setQuery(\"\"\"\n",
    "PREFIX hto: <https://w3id.org/hto#>\n",
    "\n",
    "SELECT ?record ?recordName ?ref ?refName WHERE {\n",
    "  ?record a hto:LocationRecord ;\n",
    "          hto:name ?recordName ;\n",
    "          hto:refersTo ?ref .\n",
    "\n",
    "  ?ref hto:name ?refName .\n",
    "}\n",
    "ORDER BY ?record\n",
    "LIMIT 20\n",
    "\"\"\")\n",
    "\n",
    "try:\n",
    "    ret = sparql.queryAndConvert()\n",
    "    for r in ret[\"results\"][\"bindings\"]:\n",
    "        print(f\"🔗 {r['recordName']['value']} refers to {r['refName']['value']}\")\n",
    "        print(f\"   ↳ Record: {r['record']['value']}\")\n",
    "        print(f\"   ↳ Refers to: {r['ref']['value']}\\n\")\n",
    "except Exception as e:\n",
    "    print(e)\n",
    "\n",
    "\n",
    "\n"
   ],
   "metadata": {
    "id": "SEvVCkCSOIrP",
    "colab": {
     "base_uri": "https://localhost:8080/"
    },
    "outputId": "2be5a83c-35c5-4030-cdc3-cb8a3896aa2d"
   },
   "id": "SEvVCkCSOIrP",
   "execution_count": 34,
   "outputs": [
    {
     "output_type": "stream",
     "name": "stdout",
     "text": [
      "🔗 CRAWFURDSDIKES refers to GREENOCK\n",
      "   ↳ Record: https://w3id.org/hto/LocationRecord/9910440713804340_97424370_2371760060_0\n",
      "   ↳ Refers to: https://w3id.org/hto/LocationRecord/9910440713804340_97430830_2306452501_0\n",
      "\n",
      "🔗 ANDERSTON refers to GLASGOW\n",
      "   ↳ Record: https://w3id.org/hto/LocationRecord/9910440713804340_97424370_318570476_0\n",
      "   ↳ Refers to: https://w3id.org/hto/LocationRecord/9910440713804340_97424370_4307577365_0\n",
      "\n",
      "🔗 AYR NEWTON UPON refers to NEWTON UP ON AYR\n",
      "   ↳ Record: https://w3id.org/hto/LocationRecord/9910440713804340_97424370_3325373239_0\n",
      "   ↳ Refers to: https://w3id.org/hto/LocationRecord/9910440713804340_97430830_9816079482_0\n",
      "\n",
      "🔗 CUNNINGHAM refers to AYRSHIRE\n",
      "   ↳ Record: https://w3id.org/hto/LocationRecord/9910440713804340_97424370_3437658370_0\n",
      "   ↳ Refers to: https://w3id.org/hto/LocationRecord/9910440713804340_97424370_3947268454_0\n",
      "\n",
      "🔗 CUTHBERTS ST refers to EDINBURGH\n",
      "   ↳ Record: https://w3id.org/hto/LocationRecord/9910440713804340_97424370_3831339219_0\n",
      "   ↳ Refers to: https://w3id.org/hto/LocationRecord/9910440713804340_97424370_5424703086_0\n",
      "\n",
      "🔗 ECCLESCRAIG refers to ST CYRUS\n",
      "   ↳ Record: https://w3id.org/hto/LocationRecord/9910440713804340_97424370_3898604353_0\n",
      "   ↳ Refers to: https://w3id.org/hto/LocationRecord/9910440713804340_97430830_3742267152_0\n",
      "\n",
      "🔗 EDDLESTON refers to EDLESTON\n",
      "   ↳ Record: https://w3id.org/hto/LocationRecord/9910440713804340_97424370_4831632973_0\n",
      "   ↳ Refers to: https://w3id.org/hto/LocationRecord/9910440713804340_97424370_1129557995_0\n",
      "\n",
      "🔗 CARRICK refers to AYRSHIRE\n",
      "   ↳ Record: https://w3id.org/hto/LocationRecord/9910440713804340_97424370_695784538_0\n",
      "   ↳ Refers to: https://w3id.org/hto/LocationRecord/9910440713804340_97424370_3947268454_0\n",
      "\n",
      "🔗 BALLATER refers to GLENMUICK\n",
      "   ↳ Record: https://w3id.org/hto/LocationRecord/9910440713804340_97424370_7079142601_0\n",
      "   ↳ Refers to: https://w3id.org/hto/LocationRecord/9910440713804340_97430830_3146355295_0\n",
      "\n",
      "🔗 CANONGATE refers to EDINBURGH\n",
      "   ↳ Record: https://w3id.org/hto/LocationRecord/9910440713804340_97424370_7718438903_0\n",
      "   ↳ Refers to: https://w3id.org/hto/LocationRecord/9910440713804340_97424370_5424703086_0\n",
      "\n",
      "🔗 FISHERROW refers to MUSSELBURGH\n",
      "   ↳ Record: https://w3id.org/hto/LocationRecord/9910440713804340_97424370_9434866048_0\n",
      "   ↳ Refers to: https://w3id.org/hto/LocationRecord/9910440713804340_97430830_7997460609_0\n",
      "\n",
      "🔗 MURROES refers to MUIRHOUSE\n",
      "   ↳ Record: https://w3id.org/hto/LocationRecord/9910440713804340_97430830_1069743995_0\n",
      "   ↳ Refers to: https://w3id.org/hto/LocationRecord/9910440713804340_97430830_4698135395_0\n",
      "\n",
      "🔗 WOODHAVEN refers to DUNDEE\n",
      "   ↳ Record: https://w3id.org/hto/LocationRecord/9910440713804340_97430830_1331961433_0\n",
      "   ↳ Refers to: https://w3id.org/hto/LocationRecord/9910440713804340_97424370_769119998_0\n",
      "\n",
      "🔗 TULLIEBOLE refers to TULLIEBOLE\n",
      "   ↳ Record: https://w3id.org/hto/LocationRecord/9910440713804340_97430830_169231660_0\n",
      "   ↳ Refers to: https://w3id.org/hto/LocationRecord/9910440713804340_97430830_169231660_0\n",
      "\n",
      "🔗 STENNIS refers to FIRTH\n",
      "   ↳ Record: https://w3id.org/hto/LocationRecord/9910440713804340_97430830_1784894752_0\n",
      "   ↳ Refers to: https://w3id.org/hto/LocationRecord/9910440713804340_97424370_5501980213_0\n",
      "\n",
      "🔗 STENNIS refers to STENNIS\n",
      "   ↳ Record: https://w3id.org/hto/LocationRecord/9910440713804340_97430830_1784894752_0\n",
      "   ↳ Refers to: https://w3id.org/hto/LocationRecord/9910440713804340_97430830_1784894752_0\n",
      "\n",
      "🔗 POLGAVIE refers to INCHTURE\n",
      "   ↳ Record: https://w3id.org/hto/LocationRecord/9910440713804340_97430830_184554496_0\n",
      "   ↳ Refers to: https://w3id.org/hto/LocationRecord/9910440713804340_97430830_7035700235_0\n",
      "\n",
      "🔗 QUARFF refers to BRESSAY\n",
      "   ↳ Record: https://w3id.org/hto/LocationRecord/9910440713804340_97430830_2235264907_0\n",
      "   ↳ Refers to: https://w3id.org/hto/LocationRecord/9910440713804340_97424370_3687229950_0\n",
      "\n",
      "🔗 TOMANTOUL refers to KIRKMICHAEL\n",
      "   ↳ Record: https://w3id.org/hto/LocationRecord/9910440713804340_97430830_2355395857_0\n",
      "   ↳ Refers to: https://w3id.org/hto/LocationRecord/9910440713804340_97430830_8948939190_0\n",
      "\n",
      "🔗 STRATHBEG refers to LONMAY\n",
      "   ↳ Record: https://w3id.org/hto/LocationRecord/9910440713804340_97430830_244044246_0\n",
      "   ↳ Refers to: https://w3id.org/hto/LocationRecord/9910440713804340_97430830_824813066_0\n",
      "\n"
     ]
    }
   ]
  },
  {
   "cell_type": "markdown",
   "source": [
    "### Query 15: Identify Gazetteer article titles reused across multiple records\n",
    "\n",
    "This query counts how many times each `hto:name` (place or article title) appears across the corpus of `hto:LocationRecord` entries.\n",
    "\n",
    "It groups records by name and returns those names that are used more than once, showing how many distinct records share the same title.\n",
    "\n",
    "Each result includes:\n",
    "- The name/title (`hto:name`)\n",
    "- The number of associated records (e.g., entries across different volumes or years)\n",
    "\n",
    "This is essential for:\n",
    "- Detecting reused or ambiguous names (e.g., \"LOGIE\", \"KIRKHILL\")\n",
    "- Understanding how a place was described differently across sources\n",
    "- Supporting disambiguation, temporal analysis, or cross-edition alignment\n"
   ],
   "metadata": {
    "id": "ggTLzQEhQzEf"
   },
   "id": "ggTLzQEhQzEf"
  },
  {
   "cell_type": "code",
   "source": [
    "sparql.setQuery(\"\"\"\n",
    "PREFIX hto: <https://w3id.org/hto#>\n",
    "\n",
    "SELECT ?name (COUNT(?record) AS ?count) WHERE {\n",
    "  ?record a hto:LocationRecord ;\n",
    "          hto:name ?name .\n",
    "}\n",
    "GROUP BY ?name\n",
    "HAVING (COUNT(?record) > 1)\n",
    "ORDER BY DESC(?count)\n",
    "LIMIT 20\n",
    "\"\"\")\n",
    "\n",
    "try:\n",
    "    ret = sparql.queryAndConvert()\n",
    "    print(\"🧭 Repeated article names across records:\\n\")\n",
    "    for r in ret[\"results\"][\"bindings\"]:\n",
    "        print(f\"{r['name']['value']} — {r['count']['value']} records\")\n",
    "except Exception as e:\n",
    "    print(e)\n",
    "\n",
    "\n"
   ],
   "metadata": {
    "colab": {
     "base_uri": "https://localhost:8080/"
    },
    "id": "g2THKBy3P4Mf",
    "outputId": "2305e272-767e-42c6-8e36-e4bece988f2a"
   },
   "id": "g2THKBy3P4Mf",
   "execution_count": 33,
   "outputs": [
    {
     "output_type": "stream",
     "name": "stdout",
     "text": [
      "🧭 Repeated article names across records:\n",
      "\n",
      "KIRKHILL — 36 records\n",
      "GRANGE — 34 records\n",
      "LOGIE — 34 records\n",
      "KINCARDINE — 32 records\n",
      "KIRKMICHAEL — 31 records\n",
      "MILTON — 31 records\n",
      "ABBEY — 30 records\n",
      "CARRON — 29 records\n",
      "BANKHEAD — 26 records\n",
      "NEWTON — 26 records\n",
      "BENMORE — 25 records\n",
      "BRIDGEND — 24 records\n",
      "FLADDA — 23 records\n",
      "GREENLAW — 22 records\n",
      "KIRKLAND — 22 records\n",
      "LADYKIRK — 22 records\n",
      "NEWBIGGING — 22 records\n",
      "KILBRIDE — 21 records\n",
      "ABERDOUR — 20 records\n",
      "KIRKTON — 20 records\n"
     ]
    }
   ]
  },
  {
   "cell_type": "markdown",
   "source": [
    "### Query 16: Retrieve Gazetteer articles with alternate names\n",
    "\n",
    "This query identifies `hto:LocationRecord` entries that include both a primary name (`hto:name`) and one or more alternate or variant names stored using the `rdfs:label` property.\n",
    "\n",
    "Each result includes:\n",
    "- The main article title (`hto:name`)\n",
    "- An alternate name (`rdfs:label`) such as a historical spelling, synonym, or variant\n",
    "- The URI of the Gazetteer record\n",
    "\n",
    "These alternate names are typically extracted from metadata fields like “Alternative names” in the original digitized sources. Including them is important for:\n",
    "- Enhancing place name disambiguation\n",
    "- Supporting fuzzy search and variant recognition\n",
    "- Preserving historical name usage and orthographic shifts across editions\n"
   ],
   "metadata": {
    "id": "A7-oWjQHRpjc"
   },
   "id": "A7-oWjQHRpjc"
  },
  {
   "cell_type": "code",
   "source": [
    "sparql.setQuery(\"\"\"\n",
    "PREFIX hto: <https://w3id.org/hto#>\n",
    "PREFIX rdfs: <http://www.w3.org/2000/01/rdf-schema#>\n",
    "\n",
    "SELECT DISTINCT ?record ?name ?altName WHERE {\n",
    "  ?record a hto:LocationRecord ;\n",
    "          hto:name ?name ;\n",
    "          rdfs:label ?altName .\n",
    "}\n",
    "LIMIT 20\n",
    "\"\"\")\n",
    "\n",
    "try:\n",
    "    ret = sparql.queryAndConvert()\n",
    "    for r in ret[\"results\"][\"bindings\"]:\n",
    "        print(f\"📝 {r['name']['value']} — also known as: {r['altName']['value']}\")\n",
    "        print(f\"   ↳ URI: {r['record']['value']}\\n\")\n",
    "except Exception as e:\n",
    "    print(e)\n",
    "\n"
   ],
   "metadata": {
    "colab": {
     "base_uri": "https://localhost:8080/"
    },
    "id": "iasS-9_ARDD5",
    "outputId": "5daf9970-ff25-45c6-aed5-977bc15e2086"
   },
   "id": "iasS-9_ARDD5",
   "execution_count": 31,
   "outputs": [
    {
     "output_type": "stream",
     "name": "stdout",
     "text": [
      "📝 AVEN OR AVON — also known as: AVON\n",
      "   ↳ URI: https://w3id.org/hto/LocationRecord/9910440713804340_97424370_1052967722_0\n",
      "\n",
      "📝 AVEN OR AVON — also known as: AVON\n",
      "   ↳ URI: https://w3id.org/hto/LocationRecord/9910440713804340_97424370_1052967722_2\n",
      "\n",
      "📝 BURGHHEAD OR BURROWHEAD — also known as: BURROWHEAD\n",
      "   ↳ URI: https://w3id.org/hto/LocationRecord/9910440713804340_97424370_1360851783_0\n",
      "\n",
      "📝 BONKLE OR BUNKLE AND PRESTON — also known as: BUNKLE AND PRESTON\n",
      "   ↳ URI: https://w3id.org/hto/LocationRecord/9910440713804340_97424370_1385500993_0\n",
      "\n",
      "📝 CONAN OR CONON — also known as: CONON\n",
      "   ↳ URI: https://w3id.org/hto/LocationRecord/9910440713804340_97424370_1838535875_0\n",
      "\n",
      "📝 BALLERNO OR BALLEDGARNO — also known as: BALLEDGARNO\n",
      "   ↳ URI: https://w3id.org/hto/LocationRecord/9910440713804340_97424370_2107624191_0\n",
      "\n",
      "📝 COLLINGTON OR COLINTON — also known as: COLINTON\n",
      "   ↳ URI: https://w3id.org/hto/LocationRecord/9910440713804340_97424370_2174040574_0\n",
      "\n",
      "📝 AUCHTERGAVEN OR AUCHTERGOVAN — also known as: AUCHTERGOVAN\n",
      "   ↳ URI: https://w3id.org/hto/LocationRecord/9910440713804340_97424370_2445057303_0\n",
      "\n",
      "📝 ATHOL OR ATHOLE — also known as: ATHOLE\n",
      "   ↳ URI: https://w3id.org/hto/LocationRecord/9910440713804340_97424370_2565902402_0\n",
      "\n",
      "📝 ARCHAIG OR ARKEG LOCH — also known as: ARKEG LOCH\n",
      "   ↳ URI: https://w3id.org/hto/LocationRecord/9910440713804340_97424370_2686366072_0\n",
      "\n",
      "📝 BALLGRAY OR BALLINGRY — also known as: BALLINGRY\n",
      "   ↳ URI: https://w3id.org/hto/LocationRecord/9910440713804340_97424370_2743547794_0\n",
      "\n",
      "📝 ELY OR ELIE — also known as: ELIE\n",
      "   ↳ URI: https://w3id.org/hto/LocationRecord/9910440713804340_97424370_2787355222_0\n",
      "\n",
      "📝 CAPE WRATH OR RATH — also known as: RATH\n",
      "   ↳ URI: https://w3id.org/hto/LocationRecord/9910440713804340_97424370_2901670121_0\n",
      "\n",
      "📝 BALMERINO OR BALMERINOCH — also known as: BALMERINOCH\n",
      "   ↳ URI: https://w3id.org/hto/LocationRecord/9910440713804340_97424370_3923775748_0\n",
      "\n",
      "📝 FANNICH OR FAUNISH LOCH — also known as: FAUNISH LOCH\n",
      "   ↳ URI: https://w3id.org/hto/LocationRecord/9910440713804340_97424370_4160504608_0\n",
      "\n",
      "📝 FAR OR FARR — also known as: FARR\n",
      "   ↳ URI: https://w3id.org/hto/LocationRecord/9910440713804340_97424370_4287032763_0\n",
      "\n",
      "📝 GLASS ARY OR KILMICHAEL — also known as: KILMICHAEL\n",
      "   ↳ URI: https://w3id.org/hto/LocationRecord/9910440713804340_97424370_4379639677_0\n",
      "\n",
      "📝 EORAPIE POINT OR THE BUTT OF LEWIS — also known as: THE BUTT OF LEWIS\n",
      "   ↳ URI: https://w3id.org/hto/LocationRecord/9910440713804340_97424370_4717047912_0\n",
      "\n",
      "📝 ENHALLOW OR INHALLOW — also known as: INHALLOW\n",
      "   ↳ URI: https://w3id.org/hto/LocationRecord/9910440713804340_97424370_4717082956_0\n",
      "\n",
      "📝 BRUNSWARK BURNSWARK OR BIRRENS WARK — also known as: BIRRENS WARK\n",
      "   ↳ URI: https://w3id.org/hto/LocationRecord/9910440713804340_97424370_4743294568_0\n",
      "\n"
     ]
    }
   ]
  },
  {
   "cell_type": "markdown",
   "source": [
    "## Block B: Four key competency questions\n",
    "\n",
    "1. What is the bibliographic structure of a historical document, and how was it\n",
    "created or digitized?\n",
    "2. How is a location or concept described across editions and time periods?\n",
    "3. What is the spatial footprint or geometry of a place over time?\n",
    "4. Which place names are mentioned in a document, and where exactly do they\n",
    "appear in the text?\n"
   ],
   "metadata": {
    "id": "a_WxaxNFjssU"
   },
   "id": "a_WxaxNFjssU"
  },
  {
   "metadata": {},
   "cell_type": "markdown",
   "source": [
    "### Question 1.  What is the bibliographic structure of a historical document, and how was it created or digitized?\n",
    "\n",
    "This query returns the series information of a volume and 20 pages it has.\n",
    "\n",
    "Each result includes:\n",
    "- The volume title (`hto:title`)\n",
    "- The series (`hto:Series`) the volume is part of, with title (`hto:title`), publication year (`hto:yearPublished`), editors (`hto:editor`) and publishers (`hto:publisher`) if they exist.\n",
    "- The page (`hto:Page`) the volume has, with the page number (`hto:number`).\n",
    "\n",
    "This query is essential for understanding bibliographic metadata of a historical document."
   ],
   "id": "39de18cc3b9efa0a"
  },
  {
   "metadata": {
    "ExecuteTime": {
     "end_time": "2025-05-12T15:56:37.569622Z",
     "start_time": "2025-05-12T15:56:37.204546Z"
    }
   },
   "cell_type": "code",
   "source": [
    "sparql.setQuery(\"\"\"\n",
    "PREFIX hto: <https://w3id.org/hto#>\n",
    "PREFIX rdfs: <http://www.w3.org/2000/01/rdf-schema#>\n",
    "PREFIX foaf: <http://xmlns.com/foaf/0.1/>\n",
    "\n",
    "SELECT * WHERE {\n",
    "    ?volume a hto:Volume ;\n",
    "          hto:title ?vol_title ;\n",
    "          hto:hadMember ?page.\n",
    "    ?page a hto:Page;\n",
    "        hto:number ?page_num.\n",
    "    ?series a hto:Series;\n",
    "        hto:hadMember ?volume;\n",
    "        hto:title ?series_title ;\n",
    "        hto:yearPublished ?year .\n",
    "    OPTIONAL {\n",
    "            ?series hto:publisher ?publisher.\n",
    "            ?publisher foaf:name ?publisher_name.\n",
    "    }\n",
    "    OPTIONAL {\n",
    "            ?series hto:editor ?editor.\n",
    "            ?editor foaf:name ?editor_name.\n",
    "    }\n",
    "}\n",
    "LIMIT 20\n",
    "\"\"\")\n",
    "\n",
    "try:\n",
    "    ret = sparql.queryAndConvert()\n",
    "    for r in ret[\"results\"][\"bindings\"]:\n",
    "        editor_name = None\n",
    "        if 'editor_name' in r:\n",
    "            editor_name = r['editor_name']['value']\n",
    "        publisher_name = None\n",
    "        if 'publisher_name' in r:\n",
    "            publisher_name = r['publisher_name']['value']\n",
    "        print(f\"📚 Volume <{r['vol_title']['value']}> \")\n",
    "        print(f\"📦  ↳ is part of Series <{r['series_title']['value']}>, published in {r['year']['value']}\", end=\"\")\n",
    "        if editor_name:\n",
    "            print(f\", edited by {editor_name}\", end=\"\")\n",
    "        if publisher_name:\n",
    "            print(f\", published by {publisher_name}\", end=\"\")\n",
    "        print(f\"\\n📄  ↳ has page {r['page_num']['value']} \\n\")\n",
    "except Exception as e:\n",
    "    print(e)\n"
   ],
   "id": "9165b855ac95b3ba",
   "outputs": [
    {
     "name": "stdout",
     "output_type": "stream",
     "text": [
      "📚 Volume <gazetteer of Scotland. [With plates and maps.] 1838, Volume 1> \n",
      "📦  ↳ is part of Series <gazetteer of Scotland. [With plates and maps.]>, published in 1838, edited by Chambers, William\n",
      "📄  ↳ has page 470 \n",
      "\n",
      "📚 Volume <gazetteer of Scotland. [With plates and maps.] 1838, Volume 1> \n",
      "📦  ↳ is part of Series <gazetteer of Scotland. [With plates and maps.]>, published in 1838, edited by Chambers, William\n",
      "📄  ↳ has page 471 \n",
      "\n",
      "📚 Volume <gazetteer of Scotland. [With plates and maps.] 1838, Volume 1> \n",
      "📦  ↳ is part of Series <gazetteer of Scotland. [With plates and maps.]>, published in 1838, edited by Chambers, William\n",
      "📄  ↳ has page 486 \n",
      "\n",
      "📚 Volume <gazetteer of Scotland. [With plates and maps.] 1838, Volume 1> \n",
      "📦  ↳ is part of Series <gazetteer of Scotland. [With plates and maps.]>, published in 1838, edited by Chambers, William\n",
      "📄  ↳ has page 179 \n",
      "\n",
      "📚 Volume <gazetteer of Scotland. [With plates and maps.] 1838, Volume 1> \n",
      "📦  ↳ is part of Series <gazetteer of Scotland. [With plates and maps.]>, published in 1838, edited by Chambers, William\n",
      "📄  ↳ has page 88 \n",
      "\n",
      "📚 Volume <gazetteer of Scotland. [With plates and maps.] 1838, Volume 1> \n",
      "📦  ↳ is part of Series <gazetteer of Scotland. [With plates and maps.]>, published in 1838, edited by Chambers, William\n",
      "📄  ↳ has page 89 \n",
      "\n",
      "📚 Volume <gazetteer of Scotland. [With plates and maps.] 1838, Volume 1> \n",
      "📦  ↳ is part of Series <gazetteer of Scotland. [With plates and maps.]>, published in 1838, edited by Chambers, William\n",
      "📄  ↳ has page 102 \n",
      "\n",
      "📚 Volume <gazetteer of Scotland. [With plates and maps.] 1838, Volume 1> \n",
      "📦  ↳ is part of Series <gazetteer of Scotland. [With plates and maps.]>, published in 1838, edited by Chambers, William\n",
      "📄  ↳ has page 257 \n",
      "\n",
      "📚 Volume <gazetteer of Scotland. [With plates and maps.] 1838, Volume 1> \n",
      "📦  ↳ is part of Series <gazetteer of Scotland. [With plates and maps.]>, published in 1838, edited by Chambers, William\n",
      "📄  ↳ has page 84 \n",
      "\n",
      "📚 Volume <gazetteer of Scotland. [With plates and maps.] 1838, Volume 1> \n",
      "📦  ↳ is part of Series <gazetteer of Scotland. [With plates and maps.]>, published in 1838, edited by Chambers, William\n",
      "📄  ↳ has page 183 \n",
      "\n",
      "📚 Volume <gazetteer of Scotland. [With plates and maps.] 1838, Volume 1> \n",
      "📦  ↳ is part of Series <gazetteer of Scotland. [With plates and maps.]>, published in 1838, edited by Chambers, William\n",
      "📄  ↳ has page 113 \n",
      "\n",
      "📚 Volume <gazetteer of Scotland. [With plates and maps.] 1838, Volume 1> \n",
      "📦  ↳ is part of Series <gazetteer of Scotland. [With plates and maps.]>, published in 1838, edited by Chambers, William\n",
      "📄  ↳ has page 69 \n",
      "\n",
      "📚 Volume <gazetteer of Scotland. [With plates and maps.] 1838, Volume 1> \n",
      "📦  ↳ is part of Series <gazetteer of Scotland. [With plates and maps.]>, published in 1838, edited by Chambers, William\n",
      "📄  ↳ has page 495 \n",
      "\n",
      "📚 Volume <gazetteer of Scotland. [With plates and maps.] 1838, Volume 1> \n",
      "📦  ↳ is part of Series <gazetteer of Scotland. [With plates and maps.]>, published in 1838, edited by Chambers, William\n",
      "📄  ↳ has page 167 \n",
      "\n",
      "📚 Volume <gazetteer of Scotland. [With plates and maps.] 1838, Volume 1> \n",
      "📦  ↳ is part of Series <gazetteer of Scotland. [With plates and maps.]>, published in 1838, edited by Chambers, William\n",
      "📄  ↳ has page 189 \n",
      "\n",
      "📚 Volume <gazetteer of Scotland. [With plates and maps.] 1838, Volume 1> \n",
      "📦  ↳ is part of Series <gazetteer of Scotland. [With plates and maps.]>, published in 1838, edited by Chambers, William\n",
      "📄  ↳ has page 180 \n",
      "\n",
      "📚 Volume <gazetteer of Scotland. [With plates and maps.] 1838, Volume 1> \n",
      "📦  ↳ is part of Series <gazetteer of Scotland. [With plates and maps.]>, published in 1838, edited by Chambers, William\n",
      "📄  ↳ has page 29 \n",
      "\n",
      "📚 Volume <gazetteer of Scotland. [With plates and maps.] 1838, Volume 1> \n",
      "📦  ↳ is part of Series <gazetteer of Scotland. [With plates and maps.]>, published in 1838, edited by Chambers, William\n",
      "📄  ↳ has page 481 \n",
      "\n",
      "📚 Volume <gazetteer of Scotland. [With plates and maps.] 1838, Volume 1> \n",
      "📦  ↳ is part of Series <gazetteer of Scotland. [With plates and maps.]>, published in 1838, edited by Chambers, William\n",
      "📄  ↳ has page 177 \n",
      "\n",
      "📚 Volume <gazetteer of Scotland. [With plates and maps.] 1838, Volume 1> \n",
      "📦  ↳ is part of Series <gazetteer of Scotland. [With plates and maps.]>, published in 1838, edited by Chambers, William\n",
      "📄  ↳ has page 487 \n",
      "\n"
     ]
    }
   ],
   "execution_count": 4
  },
  {
   "metadata": {},
   "cell_type": "markdown",
   "source": [
    "### Question 2: How is a location or concept described across editions and time periods?\n",
    "\n",
    "Three queries are introduced here to:\n",
    "1. Get all uris of concepts which were described in location records named 'DUNDEE'\n",
    "2. Given one of above concept, list all location records which describe it.\n",
    "3. Given one of above concept, how is it described in Wikidata.\n",
    "This is essential for:\n",
    "- Understanding how a place was described across years\n",
    "- Supporting disambiguation, temporal analysis, or cross-edition alignment"
   ],
   "id": "136391b9068102cd"
  },
  {
   "metadata": {},
   "cell_type": "markdown",
   "source": [
    "#### Query 2.1:\n",
    "This query gets all uris of concepts (`hto:Concept`) which were described in location records (`hto:LocationRecord`) named 'DUNDEE'. Concepts and location records are linked visa `hto:hadConceptRecord` property. Multiple concepts for 'Dundee' indicates possible multiple different interpretations.\n"
   ],
   "id": "8c5c2e9465c2447d"
  },
  {
   "metadata": {
    "ExecuteTime": {
     "end_time": "2025-05-12T11:01:27.874745Z",
     "start_time": "2025-05-12T11:01:27.615882Z"
    }
   },
   "cell_type": "code",
   "outputs": [
    {
     "name": "stdout",
     "output_type": "stream",
     "text": [
      "Concept uri for the Dundee: https://w3id.org/hto/Concept/gaz769119998_1\n",
      "Concept uri for the Dundee: https://w3id.org/hto/Concept/gaz769119998_2\n"
     ]
    }
   ],
   "execution_count": 55,
   "source": [
    "# Get all concept uris of the place Dundee\n",
    "sparql.setQuery(\"\"\"\n",
    "PREFIX hto: <https://w3id.org/hto#>\n",
    "PREFIX rdfs: <http://www.w3.org/2000/01/rdf-schema#>\n",
    "\n",
    "SELECT DISTINCT ?concept WHERE {\n",
    "    ?concept a hto:Concept ;\n",
    "          hto:hadConceptRecord ?record.\n",
    "    ?record a hto:LocationRecord ;\n",
    "        hto:name \"DUNDEE\".\n",
    "}\n",
    "\"\"\")\n",
    "\n",
    "try:\n",
    "    ret = sparql.queryAndConvert()\n",
    "    concepts = {}\n",
    "    for r in ret[\"results\"][\"bindings\"]:\n",
    "        print(f\"Concept uri for the Dundee: {r['concept']['value']}\")\n",
    "except Exception as e:\n",
    "    print(e)"
   ],
   "id": "dd0b9c1623af2823"
  },
  {
   "metadata": {},
   "cell_type": "markdown",
   "source": [
    "#### Query 2.2:\n",
    "Given one of the concept uri, this query list all location records which describe it, ordered by the publication years.\n",
    "\n",
    "Each result includes:\n",
    "1. The location record (`hto:LocationRecord`) with its name (`hto:name`) of uri.\n",
    "2. Start and end page where the record is (`hto:startsAtPage`, `hto:endsAtPage`), with their page numbers.\n",
    "3. The volume (`hto:Volume`) where the record is, with volume title (`hto:title`), publication year (`hto:yearPublished`).\n",
    "4. A sample of full text (`hto:text`)."
   ],
   "id": "24d8202e15525e2a"
  },
  {
   "metadata": {
    "ExecuteTime": {
     "end_time": "2025-05-12T17:29:17.108395Z",
     "start_time": "2025-05-12T17:29:16.346016Z"
    }
   },
   "cell_type": "code",
   "source": [
    "# How the concept https://w3id.org/hto/Concept/gaz769119998_1 is described across editions.\n",
    "import string\n",
    "sparql.setQuery(\"\"\"\n",
    "PREFIX hto: <https://w3id.org/hto#>\n",
    "PREFIX rdfs: <http://www.w3.org/2000/01/rdf-schema#>\n",
    "\n",
    "SELECT * WHERE {\n",
    "    <https://w3id.org/hto/Concept/gaz769119998_1> a hto:Concept ;\n",
    "          hto:hadConceptRecord ?record.\n",
    "    ?record a hto:LocationRecord ;\n",
    "        hto:name ?name;\n",
    "        hto:startsAtPage ?s_page ;\n",
    "        hto:endsAtPage ?e_page ;\n",
    "        hto:hasOriginalDescription ?desc .\n",
    "    ?desc hto:text ?text .\n",
    "    ?s_page a hto:Page;\n",
    "        hto:number ?s_page_num.\n",
    "    ?e_page a hto:Page;\n",
    "        hto:number ?e_page_num.\n",
    "    ?volume a hto:Volume;\n",
    "        hto:title ?vol_title ;\n",
    "        hto:hadMember ?s_page .\n",
    "    ?series a hto:Series;\n",
    "        hto:hadMember ?volume;\n",
    "        hto:title ?series_title ;\n",
    "        hto:yearPublished ?year .\n",
    "} ORDER BY ?year\n",
    "\"\"\")\n",
    "\n",
    "try:\n",
    "    ret = sparql.queryAndConvert()\n",
    "    for r in ret[\"results\"][\"bindings\"]:\n",
    "        print(f\"📘 Record: {string.capwords(r['name']['value'])} - {r['record']['value']}\")\n",
    "        print(f\"\\t📄 in page: {r['s_page_num']['value']} -{r['e_page_num']['value']}\")\n",
    "        print(f\"\\t📚 in volume: <{r['vol_title']['value']}> published in {r['year']['value']}\")\n",
    "        print(f\"with the following description:\")\n",
    "        print(f\"{r['text']['value'][:200]}.....\\n\")\n",
    "except Exception as e:\n",
    "    print(e)"
   ],
   "id": "8519ce6d3cb5b0e4",
   "outputs": [
    {
     "name": "stdout",
     "output_type": "stream",
     "text": [
      "📘 Record: Dundee - https://w3id.org/hto/LocationRecord/9931003343804340_97343436_769119998_0\n",
      "\t📄 in page: 169 -169\n",
      "\t📚 in volume: <gazetteer of Scotland 1803> published in 1803\n",
      "with the following description:\n",
      "a royal borough in the county of Angus or Forfar, seated on the N. bank of the river Tay, about 12 miles from its mouth, in 5627' 23'' N. latitude, and 32' W. longitude from Greenwich. It is a large a.....\n",
      "\n",
      "📘 Record: Dundee - https://w3id.org/hto/LocationRecord/9931344573804340_97414570_769119998_0\n",
      "\t📄 in page: 196 -197\n",
      "\t📚 in volume: <gazetteer of Scotland: containing a particular and concise description of the counties, parishes, islands, cities ... With ... map 1806> published in 1806\n",
      "with the following description:\n",
      "a royal borough in the county of Angus or Forfar, seated on the N. bank of the river Tay, about 12miles from its mouth, in 56°27' 23\" N. latitude, and s°2 ' 55\" W. longitude from Greenwich. It is # a .....\n",
      "\n",
      "📘 Record: Dundee - https://w3id.org/hto/LocationRecord/9931344583804340_97421702_769119998_0\n",
      "\t📄 in page: 88 -89\n",
      "\t📚 in volume: <Gazetteer of Scotland; arranged under the various descriptions of counties, parishes, islands 1825?> published in 1825\n",
      "with the following description:\n",
      "a parish. in the county of Angus, 6 miles in length from E. V. along the banks.of the Tay, jts breadth varying from 1 to 4. It is bounded on the S. by the Tay. The soil is in general uneven, but many .....\n",
      "\n",
      "📘 Record: Dundee - https://w3id.org/hto/LocationRecord/9910440713804340_97424370_769119998_0\n",
      "\t📄 in page: 258 -268\n",
      "\t📚 in volume: <gazetteer of Scotland. [With plates and maps.] 1838, Volume 1> published in 1838\n",
      "with the following description:\n",
      "DUNDEE. 229 of some high rocks close to the river, and about a quarter of a mile from the church, was erected, in early times, a tolerably secure fortress, similar to that still nearly entire, at Brou.....\n",
      "\n",
      "📘 Record: Dundee - https://w3id.org/hto/LocationRecord/9931344933804340_97437554_769119998_0\n",
      "\t📄 in page: 455 -468\n",
      "\t📚 in volume: <topographical, statistical, and historical gazetteer of Scotland 1842, Volume 1> published in 1842\n",
      "with the following description:\n",
      "noucment, what it wants in the neat forms and elegant attractions of simple beauty. Its exterior, also, and its general grouping, and its richness of situation in the core of a brilliant landscape, em.....\n",
      "\n",
      "📘 Record: Dundee - https://w3id.org/hto/LocationRecord/9928112733804340_97459138_769119998_0\n",
      "\t📄 in page: 562 -572\n",
      "\t📚 in volume: <imperial gazetteer of Scotland; or, Dictionary of Scottish topography, compiled from the most recent authorities, and forming a complete body of Scottish geography, physical, statistical, and historical 1868, Volume 1> published in 1868\n",
      "with the following description:\n",
      "DUNDEE. 44'l DUNDEE. was superseded by a clean area, well supplied with water, and placed under suitable regulations, between the end of Castle-street and the Green-market; and that Kish-market also w.....\n",
      "\n",
      "📘 Record: Dundee - https://w3id.org/hto/LocationRecord/9933057493804340_97355229_769119998_0\n",
      "\t📄 in page: 151 -152\n",
      "\t📚 in volume: <Gazetteer of Scotland 1882> published in 1882\n",
      "with the following description:\n",
      "DUNDEE, town and parish on south border of Forfarshire. The town stands on Firth of Tay, 9J mdes west of Buddonness, and 2H east-north-east of Perth ; dates from ancient times, but never till quite a .....\n",
      "\n",
      "📘 Record: Dundee - https://w3id.org/hto/LocationRecord/9928228793804340_97372786_769119998_0\n",
      "\t📄 in page: 163 -173\n",
      "\t📚 in volume: <Ordnance gazetteer of Scotland 1884-1885, Volume 2> published in 1883\n",
      "with the following description:\n",
      "8£ feet wide and 11 high ; but must have been higher originally, as the ground has been raised in the course of years ; has been frequently ' improved, ' the most recent having been in 1877, when a pl.....\n",
      "\n",
      "📘 Record: Dundee - https://w3id.org/hto/LocationRecord/9928228793804340_97376462_769119998_0\n",
      "\t📄 in page: 109 -109\n",
      "\t📚 in volume: <Ordnance gazetteer of Scotland 1884-1885, Volume 3> published in 1883\n",
      "with the following description:\n",
      "Dundee, 18 in Arbroath and its neighbourhood, 6 in Montrose and its neighbourhood, 6 in Forfar, 4 in Brechin, and 2 in Carnoustie —altogether 108 ; and they had 278,564 spindles, 11,329 power-looms, a.....\n",
      "\n",
      "📘 Record: Dundee - https://w3id.org/hto/LocationRecord/9930626093804340_97393254_769119998_0\n",
      "\t📄 in page: 420 -433\n",
      "\t📚 in volume: <Ordnance gazetteer of Scotland 1901> published in 1901\n",
      "with the following description:\n",
      "of Cowgate, nearly parallel to Seagate, extends about 1J mile. But while thus covering an extensive area, the town possesses little regularity of plan. Excepting numerous new streets, generally short .....\n",
      "\n"
     ]
    }
   ],
   "execution_count": 17
  },
  {
   "metadata": {},
   "cell_type": "markdown",
   "source": [
    "#### Query 2.3:\n",
    "Given one of above concept, this [federated query](https://www.w3.org/TR/sparql11-federated-query/) retrieve the linked Wikidata item which describes the concept utilising both SPARQL query service for our knowledge graph and the service provided by Wikidata (`https://query.wikidata.org/sparql`). The result includes a Wikidata item uri, and description (`schema:description`) of this item."
   ],
   "id": "b11dc3186681c606"
  },
  {
   "metadata": {
    "ExecuteTime": {
     "end_time": "2025-05-12T17:28:55.627090Z",
     "start_time": "2025-05-12T17:28:54.885164Z"
    }
   },
   "cell_type": "code",
   "source": [
    "import sys\n",
    "\n",
    "# How the concept https://w3id.org/hto/Concept/gaz769119998_1 is described in Wikidata.\n",
    "sparql.setQuery(\"\"\"\n",
    "PREFIX hto: <https://w3id.org/hto#>\n",
    "PREFIX rdfs: <http://www.w3.org/2000/01/rdf-schema#>\n",
    "PREFIX schema: <http://schema.org/>\n",
    "\n",
    "SELECT ?record ?label ?description WHERE {\n",
    "    <https://w3id.org/hto/Concept/gaz769119998_1> a hto:Concept ;\n",
    "        hto:hadConceptRecord ?record.\n",
    "    ?record a hto:ExternalRecord;\n",
    "        hto:hasResourceType hto:Wikidata_Item.\n",
    "    SERVICE <https://query.wikidata.org/sparql> {\n",
    "        ?record rdfs:label ?label ;\n",
    "                        schema:description ?description .\n",
    "        FILTER (lang(?label) = \"en\")\n",
    "        FILTER (lang(?description) = \"en\")\n",
    "    }\n",
    "}\n",
    "\"\"\")\n",
    "\n",
    "try:\n",
    "    ret = sparql.queryAndConvert()\n",
    "    concepts = {}\n",
    "    for r in ret[\"results\"][\"bindings\"]:\n",
    "        #print(r['record']['value'])\n",
    "        print(f\"{r['label']['value']} has the following description in Wikidata <{r['record']['value']}>:\\n {r['description']['value']}\")\n",
    "except Exception as e:\n",
    "    print(e)\n"
   ],
   "id": "6b6a4388b862b45a",
   "outputs": [
    {
     "name": "stdout",
     "output_type": "stream",
     "text": [
      "Dundee has the following description in Wikidata <http://www.wikidata.org/entity/Q123709>:\n",
      " city in Scotland, UK\n"
     ]
    }
   ],
   "execution_count": 16
  },
  {
   "metadata": {},
   "cell_type": "markdown",
   "source": [
    "### Question 3: What is the spatial footprint or geometry of a place over time?\n",
    "\n",
    "This query returns all the location (`crm:SP2_Phenomenal_Place`) called 'Dundee' over time with their central coordinates, and the country they belong to.\n",
    "\n",
    "Each result includes:\n",
    "- The central coordinate (`geo:hasCentroid`) of the location, serialised as WKT format.\n",
    "- The timespan when the location has the specific geometry.\n",
    "- The country where this location belongs to, with its name and boundary (`geo:defaultGeometry`) serialised as WKT format.\n",
    "\n",
    "This query is essential for\n",
    "1. comparing how the geometry of a place has changed overtime.\n",
    "2. disambiguate places with geometrical data"
   ],
   "id": "a9d69a4e96d64026"
  },
  {
   "metadata": {
    "ExecuteTime": {
     "end_time": "2025-05-12T17:24:07.282574Z",
     "start_time": "2025-05-12T17:24:06.897020Z"
    }
   },
   "cell_type": "code",
   "source": [
    "sparql.setQuery(\"\"\"\n",
    "PREFIX geo: <http://www.opengis.net/ont/geosparql#>\n",
    "PREFIX hto: <https://w3id.org/hto#>\n",
    "PREFIX rdfs: <http://www.w3.org/2000/01/rdf-schema#>\n",
    "PREFIX crm: <http://www.cidoc-crm.org/cidoc-crm/>\n",
    "\n",
    "SELECT ?place_wkt ?time_value  ?country_name ?country_boundary_wkt WHERE {\n",
    "   ?place a crm:SP2_Phenomenal_Place;\n",
    "        rdfs:label \"Dundee\";\n",
    "        crm:P89_falls_within ?country;\n",
    "        geo:hasCentroid ?centroid.\n",
    "   ?centroid a crm:SP6_Declarative_Place;\n",
    "        geo:asWKT ?place_wkt.\n",
    "   ?country a crm:SP2_Phenomenal_Place;\n",
    "        rdfs:label ?country_name;\n",
    "        hto:hasLocationType hto:Country;\n",
    "        geo:hasCentroid ?country_centroid;\n",
    "        geo:defaultGeometry ?country_boundary.\n",
    "   ?country_boundary a crm:SP6_Declarative_Place;\n",
    "        geo:asWKT ?country_boundary_wkt.\n",
    "   ?spacetime a crm:E92_Spacetime_Volume;\n",
    "        crm:P161_has_spatial_projection ?place;\n",
    "        crm:P160_has_temporal_projection ?time_span.\n",
    "    ?time_span rdfs:label ?time_value.\n",
    "} LIMIT 20\n",
    "\"\"\")\n",
    "\n",
    "try:\n",
    "    ret = sparql.queryAndConvert()\n",
    "    for r in ret[\"results\"][\"bindings\"]:\n",
    "        print(f\"📍Dundee has the centroid coordinate: {r['place_wkt']['value']} in {r['time_value']['value']}.\")\n",
    "        print(f\"It is in the country {r['country_name']['value']} with boundary {r['country_boundary_wkt']['value']}\")\n",
    "except Exception as e:\n",
    "    print(e)"
   ],
   "id": "7d36ae83c6956ecf",
   "outputs": [
    {
     "name": "stdout",
     "output_type": "stream",
     "text": [
      "📍Dundee has the centroid coordinate: POINT(56.46913 -2.97489) in 2025.\n",
      "It is in the country United Kingdom with boundary MULTIPOLYGON (((33.038 34.567, 32.934 34.565, 32.872 34.667, 32.755 34.65, 32.76 34.682, 32.99 34.68, 32.954 34.637, 33.013 34.644, 33.038 34.567)), ((33.893 34.954, 33.701 34.978, 33.677 35.062, 33.764 35.039, 33.819 35.073, 33.852 35.069, 33.792 35.048, 33.893 34.954)), ((33.869 35.078, 33.856 35.068, 33.852 35.069, 33.869 35.078)), ((33.874 35.081, 33.872 35.124, 33.917 35.087, 33.893 35.068, 33.874 35.081)), ((-2.409 59.377, -2.395 59.354, -2.452 59.358, -2.428 59.39, -2.368 59.384, -2.409 59.377)), ((-1.613 59.54, -1.597 59.54, -1.656 59.513, -1.639 59.552, -1.613 59.54)), ((-1.379 60.047, -1.345 60.059, -1.348 60.053, -1.379 60.047)), ((-1.343 60.059, -1.345 60.059, -1.344 60.06, -1.343 60.059)), ((-1.157 59.997, -1.176 59.99, -1.193 60.007, -1.157 59.997)), ((-1.298 60.128, -1.273 60.131, -1.302 60.099, -1.298 60.128)), ((-1.004 60.15, -1.011 60.132, -1.045 60.153, -1.004 60.15)), ((-1.148 60.173, -1.067 60.193, -1.045 60.166, -1.071 60.104, -1.148 60.173)), ((-1.344 60.06, -1.349 60.107, -1.311 60.117, -1.344 60.06)), ((-1.38 60.121, -1.359 60.119, -1.373 60.112, -1.38 60.121)), ((-1.361 60.126, -1.333 60.124, -1.348 60.119, -1.361 60.126)), ((-2.076 60.118, -2.116 60.14, -2.052 60.157, -2.076 60.118)), ((-4.678 51.203, -4.651 51.163, -4.678 51.169, -4.678 51.203)), ((-4.685 51.63, -4.72 51.643, -4.681 51.642, -4.685 51.63)), ((-4.796 52.768, -4.78 52.766, -4.802 52.75, -4.796 52.768)), ((-5.315 51.737, -5.269 51.736, -5.297 51.731, -5.315 51.737)), ((-5.331 51.879, -5.332 51.852, -5.347 51.857, -5.349 51.876, -5.331 51.879)), ((-5.114 55.438, -5.315 55.465, -5.396 55.627, -5.366 55.678, -5.255 55.721, -5.16 55.678, -5.151 55.581, -5.082 55.551, -5.126 55.531, -5.079 55.51, -5.114 55.438)), ((-5.731 55.711, -5.718 55.685, -5.764 55.646, -5.774 55.677, -5.731 55.711)), ((-4.683 53.282, -4.687 53.327, -4.573 53.303, -4.574 53.404, -4.426 53.43, -4.287 53.417, -4.203 53.315, -4.039 53.311, -4.329 53.126, -4.683 53.282)), ((-4.215 53.182, -4.088 53.243, -4.065 53.28, -3.824 53.282, -3.881 53.301, -3.869 53.343, -3.667 53.293, -3.348 53.36, -3.26 53.318, -3.199 53.347, -3.264 53.449, -3.028 53.447, -3.154 53.537, -3.109 53.536, -3.119 53.555, -3.057 53.675, -3.084 53.697, -3.069 53.945, -2.854 54.081, -2.979 54.047, -3.027 54.102, -3.033 54.048, -3.032 54.08, -3.07 54.059, -3.056 54.106, -3.095 54.044, -3.085 54.115, -3.216 54.042, -3.44 54.339, -3.64 54.512, -3.58 54.652, -3.446 54.761, -3.472 54.818, -3.28 54.962, -3.459 54.917, -3.478 54.923, -3.467 54.945, -3.632 54.845, -3.757 54.859, -3.984 54.768, -4.152 54.778, -4.392 54.872, -4.34 54.799, -4.392 54.677, -4.85 54.851, -4.951 54.801, -4.856 54.634, -4.965 54.664, -4.96 54.728, -5.186 54.917, -5.178 54.992, -5.095 55.018, -5.046 54.967, -5.064 54.928, -4.998 54.92, -5.061 55.027, -4.997 55.138, -4.866 55.222, -4.849 55.323, -4.768 55.403, -4.623 55.496, -4.682 55.595, -4.906 55.699, -4.857 55.76, -4.879 55.943, -4.645 55.953, -4.791 56.013, -4.83 56.078, -4.826 56.034, -4.766 55.988, -4.868 56.016, -4.88 56.058, -4.748 56.203, -4.862 56.1, -4.902 56.169, -4.917 56.165, -4.874 56.086, -4.897 55.984, -4.953 55.99, -4.907 55.966, -4.98 55.86, -5.045 55.871, -5.069 55.952, -5.121 56.008, -5.077 55.898, -5.193 55.96, -5.241 55.894, -5.201 55.829, -5.312 55.853, -5.352 56.011, -4.917 56.273, -5.072 56.238, -5.384 56.002, -5.446 56.021, -5.414 55.865, -5.314 55.784, -5.449 55.708, -5.458 55.575, -5.55 55.434, -5.604 55.425, -5.539 55.429, -5.518 55.361, -5.604 55.307, -5.804 55.305, -5.797 55.391, -5.717 55.443, -5.677 55.683, -5.441 55.856, -5.616 55.761, -5.608 55.795, -5.672 55.814, -5.583 55.929, -5.691 55.91, -5.566 56.041, -5.715 55.949, -5.544 56.092, -5.569 56.114, -5.503 56.185, -5.615 56.132, -5.567 56.237, -5.487 56.257, -5.596 56.249, -5.578 56.333, -5.521 56.346, -5.464 56.447, -5.352 56.46, -5.237 56.436, -5.191 56.448, -5.118 56.489, -5.065 56.563, -5.23 56.447, -5.475 56.48, -5.317 56.654, -4.969 56.715, -5.25 56.702, -5.125 56.824, -5.242 56.72, -5.519 56.617, -5.547 56.553, -5.685 56.497, -5.772 56.533, -5.751 56.561, -5.905 56.551, -6.008 56.645, -5.931 56.673, -5.833 56.623, -5.88 56.653, -5.747 56.702, -5.66 56.677, -5.545 56.688, -5.777 56.715, -5.974 56.672, -6.188 56.688, -6.227 56.727, -5.965 56.785, -5.902 56.753, -5.793 56.793, -5.888 56.791, -5.831 56.801, -5.855 56.834, -5.719 56.844, -5.676 56.871, -5.923 56.881, -5.851 56.9, -5.902 56.92, -5.821 57.012, -5.635 56.97, -5.523 56.995, -5.622 56.981, -5.792 57.053, -5.722 57.118, -5.521 57.085, -5.392 57.109, -5.528 57.102, -5.699 57.166, -5.598 57.26, -5.408 57.226, -5.517 57.274, -5.463 57.313, -5.525 57.273, -5.734 57.283, -5.687 57.341, -5.535 57.353, -5.453 57.408, -5.552 57.358, -5.636 57.366, -5.617 57.403, -5.824 57.363, -5.818 57.433, -5.874 57.473, -5.837 57.58, -5.65 57.511, -5.656 57.546, -5.523 57.545, -5.59 57.557, -5.669 57.546, -5.819 57.639, -5.79 57.697, -5.673 57.701, -5.813 57.75, -5.814 57.858, -5.697 57.872, -5.604 57.765, -5.583 57.836, -5.657 57.889, -5.619 57.924, -5.468 57.853, -5.422 57.909, -5.229 57.849, -5.407 57.928, -5.365 57.939, -5.071 57.827, -5.224 57.925, -5.194 57.957, -5.459 58.077, -5.425 58.107, -5.301 58.065, -5.268 58.102, -5.303 58.12, -5.262 58.121, -5.3 58.137, -5.241 58.147, -5.405 58.235, -5.376 58.265, -5.307 58.226, -5.264 58.269, -5.109 58.27, -4.936 58.214, -4.995 58.251, -4.923 58.256, -5.134 58.278, -5.188 58.351, -5.155 58.353, -5.143 58.413, -5.02 58.377, -5.115 58.415, -5.034 58.448, -5.127 58.49, -5.009 58.624, -4.823 58.596, -4.819 58.562, -4.787 58.545, -4.813 58.511, -4.78 58.547, -4.816 58.566, -4.769 58.581, -4.792 58.601, -4.653 58.551, -4.753 58.451, -4.621 58.51, -4.581 58.58, -4.387 58.541, -4.456 58.494, -4.447 58.476, -4.423 58.474, -4.45 58.495, -4.357 58.537, -4.072 58.554, -4.019 58.602, -4.004 58.564, -3.913 58.56, -3.653 58.624, -3.37 58.596, -3.414 58.641, -3.377 58.673, -3.024 58.644, -3.129 58.52, -3.047 58.472, -3.108 58.371, -3.981 57.969, -4.012 57.878, -3.96 57.862, -4.213 57.873, -4.282 57.86, -3.86 57.828, -3.771 57.867, -3.974 57.695, -4.079 57.719, -4.381 57.622, -4.403 57.594, -4.215 57.675, -3.993 57.677, -4.234 57.501, -4.396 57.499, -4.178 57.492, -4.028 57.604, -3.87 57.591, -3.35 57.727, -3.028 57.665, -2.849 57.707, -2.511 57.666, -2.004 57.699, -1.818 57.614, -1.771 57.47, -2.017 57.273, -2.073 57.18, -2.018 57.125, -2.204 56.968, -2.232 56.862, -2.421 56.755, -2.536 56.568, -2.728 56.462, -3.03 56.451, -3.276 56.351, -2.923 56.452, -2.718 56.449, -2.8 56.413, -2.808 56.447, -2.799 56.346, -2.592 56.269, -2.808 56.183, -2.943 56.213, -3.151 56.115, -3.172 56.062, -3.391 56.006, -3.746 56.071, -3.081 55.949, -2.908 55.981, -2.811 56.068, -2.628 56.058, -2.335 55.934, -2.138 55.917, -1.959 55.734, -1.781 55.689, -1.758 55.629, -1.617 55.553, -1.569 55.427, -1.603 55.371, -1.496 55.186, -1.519 55.149, -1.354 54.964, -1.293 54.762, -1.162 54.648, -0.572 54.483, -0.366 54.247, -0.075 54.116, -0.193 54.08, -0.211 54.007, 0.146 53.596, 0.109 53.571, 0.074 53.611, -0.123 53.635, -0.252 53.732, -0.444 53.701, -0.294 53.716, 0.013 53.523, 0.148 53.499, 0.234 53.41, 0.358 53.181, 0.318 53.041, 0.169 52.985, 0.094 52.909, 0.216 52.971, 0.225 52.939, 0.199 52.948, 0.127 52.914, 0.191 52.919, 0.224 52.853, 0.349 52.835, 0.368 52.789, 0.355 52.843, 0.531 52.977, 0.846 52.993, 1.343 52.921, 1.697 52.723, 1.769 52.483, 1.634 52.278, 1.582 52.089, 1.319 51.932, 1.294 51.961, 1.22 51.952, 1.297 51.936, 1.254 51.892, 1.291 51.863, 1.219 51.809, 0.868 51.747, 0.957 51.745, 0.982 51.698, 0.9 51.616, 1.045 51.656, 1.084 51.648, 0.929 51.569, 0.982 51.557, 0.842 51.508, 0.678 51.521, 0.733 51.442, 0.903 51.418, 0.965 51.357, 1.452 51.379, 1.383 51.304, 1.38 51.14, 1.032 51.045, 0.977 50.997, 0.979 50.913, 0.776 50.926, 0.372 50.818, 0.257 50.734, -0.245 50.828, -0.701 50.777, -0.791 50.722, -0.914 50.776, -1.142 50.773, -1.326 50.853, -1.303 50.81, -1.55 50.706, -1.691 50.737, -1.904 50.708, -1.955 50.686, -1.922 50.643, -1.96 50.591, -2.426 50.635, -2.47 50.584, -2.415 50.549, -2.457 50.513, -2.45 50.561, -2.592 50.643, -2.913 50.733, -3.258 50.673, -3.359 50.606, -3.435 50.614, -3.447 50.658, -3.444 50.617, -3.423 50.609, -3.509 50.517, -3.456 50.4, -3.642 50.291, -3.641 50.221, -3.823 50.217, -3.948 50.307, -4.123 50.318, -4.091 50.342, -4.207 50.411, -4.231 50.391, -4.165 50.349, -4.223 50.311, -4.316 50.362, -4.757 50.331, -4.798 50.219, -4.956 50.202, -5.01 50.139, -5.022 50.245, -5.077 50.167, -5.042 50.144, -5.172 50.091, -5.074 50.086, -5.067 50.034, -5.209 49.955, -5.316 50.084, -5.484 50.127, -5.673 50.034, -5.717 50.069, -5.673 50.166, -5.54 50.217, -5.436 50.196, -5.252 50.283, -5.148 50.405, -5.049 50.441, -5.037 50.549, -4.791 50.603, -4.764 50.67, -4.565 50.784, -4.527 51.022, -4.343 50.99, -4.24 51.079, -4.197 51.059, -4.262 51.143, -4.234 51.188, -3.785 51.247, -3.35 51.184, -3.098 51.216, -3.012 51.24, -3.081 51.258, -3.039 51.33, -2.986 51.313, -3.02 51.334, -2.984 51.388, -3.104 51.339, -3.126 51.379, -2.791 51.527, -3.022 51.514, -3.195 51.395, -3.406 51.379, -3.719 51.477, -3.885 51.614, -4.155 51.54, -4.334 51.564, -4.231 51.662, -4.342 51.675, -4.392 51.729, -4.393 51.699, -4.439 51.708, -4.41 51.747, -4.671 51.727, -4.711 51.652, -4.859 51.646, -4.926 51.596, -5.059 51.62, -5.126 51.683, -4.975 51.681, -4.872 51.718, -4.895 51.737, -5.162 51.715, -5.176 51.68, -5.254 51.738, -5.105 51.807, -5.127 51.852, -5.32 51.862, -5.315 51.902, -5.086 51.969, -5.075 52.031, -4.972 51.997, -4.85 52.022, -4.731 52.118, -4.506 52.14, -4.141 52.323, -4.05 52.539, -4.132 52.611, -4.057 52.713, -4.153 52.806, -4.121 52.846, -4.165 52.898, -4.394 52.894, -4.528 52.778, -4.6 52.823, -4.767 52.798, -4.649 52.907, -4.356 53.033, -4.349 53.116, -4.215 53.182), (-3.039 53.661, -3.067 53.653, -3.068 53.651, -3.039 53.661), (-2.996 53.774, -3.068 53.775, -3.068 53.773, -2.996 53.774), (-3.15 54.95, -3.15 54.95, -3.28 54.962, -3.15 54.95), (-3.149 54.95, -3.12 54.973, -3.07 54.972, -3.12 54.973, -3.149 54.95), (-3.367 54.953, -3.381 54.949, -3.371 54.951, -3.367 54.953), (-3.33 54.965, -3.352 54.964, -3.367 54.953, -3.33 54.965), (-3.414 54.935, -3.446 54.935, -3.462 54.926, -3.414 54.935), (-5.52 56.345, -5.449 56.362, -5.521 56.346, -5.52 56.345), (-5.185 57.942, -5.174 57.956, -5.186 57.943, -5.185 57.942), (-5.173 58.242, -5.159 58.233, -5.172 58.245, -5.173 58.242), (-5.03 58.448, -5.031 58.448, -5.034 58.448, -5.03 58.448), (-4.993 58.423, -4.991 58.44, -5.03 58.448, -4.993 58.423), (-4.477 58.441, -4.445 58.471, -4.447 58.476, -4.477 58.441), (-4.337 57.88, -4.283 57.86, -4.282 57.86, -4.337 57.88), (-1.811 55.674, -1.828 55.667, -1.803 55.667, -1.811 55.674), (0.053 52.914, 0.053 52.914, 0.087 52.935, 0.053 52.914), (0.042 52.928, 0.053 52.914, 0.053 52.914, 0.042 52.928), (0.027 52.898, 0.053 52.914, 0.053 52.914, 0.027 52.898), (0.678 51.522, 0.696 51.524, 0.645 51.526, 0.678 51.521, 0.678 51.522), (0.701 51.431, 0.726 51.433, 0.733 51.442, 0.701 51.431), (0.663 51.429, 0.646 51.413, 0.701 51.431, 0.663 51.429), (-3.574 50.351, -3.573 50.348, -3.571 50.347, -3.574 50.351), (-3.578 50.375, -3.595 50.382, -3.574 50.351, -3.578 50.375), (-3.772 50.225, -3.774 50.224, -3.773 50.224, -3.772 50.225), (-3.743 50.241, -3.766 50.261, -3.772 50.225, -3.743 50.241), (-3.005 51.242, -3.039 51.252, -3.027 51.247, -3.005 51.242), (-2.983 51.389, -2.984 51.388, -2.984 51.388, -2.983 51.389), (-2.915 51.401, -2.888 51.428, -2.983 51.389, -2.915 51.401), (-2.872 51.524, -2.824 51.548, -2.874 51.527, -2.872 51.524), (-4.208 51.678, -4.247 51.67, -4.245 51.669, -4.208 51.678), (-4.401 51.728, -4.407 51.713, -4.399 51.705, -4.401 51.728), (-4.895 51.747, -4.898 51.74, -4.895 51.737, -4.895 51.747), (-4.886 51.771, -4.913 51.772, -4.895 51.747, -4.886 51.771), (-5.231 56.564, -5.367 56.523, -5.405 56.537, -5.382 56.511, -5.231 56.564)), ((-5.883 56.671, -5.872 56.662, -5.896 56.655, -5.883 56.671)), ((-3.123 54.073, -3.129 54.059, -3.125 54.072, -3.123 54.073)), ((-4.938 55.735, -4.95 55.711, -4.968 55.722, -4.938 55.735)), ((-4.93 55.781, -4.894 55.764, -4.947 55.742, -4.93 55.781)), ((-1.135 50.738, -1.063 50.684, -1.271 50.579, -1.588 50.663, -1.314 50.768, -1.135 50.738)), ((-2.855 51.512, -2.876 51.513, -2.874 51.514, -2.855 51.512)), ((-2.856 59.057, -2.801 59.088, -2.831 59.017, -2.934 59.03, -2.9 59.076, -2.856 59.057)), ((-5.158 55.776, -5.166 55.804, -5.154 55.795, -5.158 55.776)), ((-5.057 55.839, -5.024 55.844, -5.003 55.73, -5.12 55.772, -5.134 55.844, -5.222 55.901, -5.186 55.927, -5.057 55.839)), ((-5.165 58.382, -5.198 58.371, -5.207 58.384, -5.165 58.382)), ((-4.346 58.549, -4.361 58.56, -4.327 58.557, -4.346 58.549)), ((-5.824 57.734, -5.788 57.737, -5.811 57.734, -5.824 57.734)), ((-5.602 57.822, -5.645 57.84, -5.62 57.839, -5.602 57.822)), ((-5.467 57.899, -5.459 57.878, -5.481 57.89, -5.467 57.899)), ((-5.24 57.948, -5.208 57.946, -5.226 57.939, -5.24 57.948)), ((-3.116 58.698, -3.1 58.683, -3.142 58.671, -3.116 58.698)), ((-3.111 58.833, -3.077 58.833, -3.149 58.829, -3.066 58.849, -3.111 58.833)), ((-3.175 58.837, -3.167 58.857, -3.15 58.837, -3.175 58.837)), ((-3.342 58.933, -3.165 58.821, -3.256 58.787, -3.13 58.787, -3.295 58.776, -3.437 58.877, -3.342 58.933)), ((-3.156 58.876, -3.17 58.872, -3.179 58.888, -3.156 58.876)), ((-3.265 58.923, -3.307 58.925, -3.315 58.94, -3.274 58.938, -3.265 58.923)), ((-2.977 58.737, -3.023 58.807, -2.984 58.811, -3.037 58.82, -2.906 58.84, -2.99 58.853, -2.897 58.895, -2.98 58.962, -3.189 58.908, -3.251 58.983, -3.354 58.962, -3.342 59.137, -3.073 59.124, -3.002 59.055, -3.123 59.01, -2.902 59.01, -2.886 58.961, -2.8 58.993, -2.829 58.926, -2.708 58.973, -2.712 58.919, -2.833 58.872, -2.888 58.9, -2.915 58.872, -2.856 58.853, -2.93 58.794, -2.915 58.736, -2.977 58.737)), ((-2.994 59.086, -2.964 59.092, -2.947 59.077, -2.974 59.072, -2.994 59.086)), ((-2.625 59.144, -2.542 59.125, -2.537 59.076, -2.691 59.079, -2.623 59.123, -2.678 59.151, -2.625 59.144)), ((-2.666 59.141, -2.663 59.127, -2.683 59.136, -2.666 59.141)), ((-2.593 59.149, -2.604 59.152, -2.575 59.149, -2.593 59.149)), ((-2.762 59.232, -2.742 59.143, -2.79 59.136, -2.824 59.195, -2.762 59.232)), ((-2.966 59.11, -3.015 59.113, -2.953 59.125, -2.966 59.11)), ((-2.908 59.164, -2.917 59.124, -2.945 59.156, -2.908 59.164)), ((-3.121 59.174, -3.077 59.2, -2.952 59.178, -2.999 59.126, -3.121 59.174)), ((-2.903 59.305, -2.837 59.247, -2.885 59.228, -2.93 59.285, -2.982 59.257, -3.07 59.334, -2.931 59.358, -2.988 59.318, -2.903 59.305)), ((-2.82 59.202, -2.831 59.225, -2.821 59.221, -2.82 59.202)), ((-2.716 59.232, -2.747 59.233, -2.741 59.248, -2.716 59.232)), ((-2.608 59.29, -2.566 59.321, -2.523 59.306, -2.575 59.264, -2.427 59.314, -2.37 59.281, -2.703 59.197, -2.608 59.29)), ((-2.887 59.354, -2.88 59.329, -2.906 59.322, -2.88 59.387, -2.887 59.354)), ((-6.357 49.898, -6.325 49.893, -6.345 49.888, -6.357 49.898)), ((-6.317 49.918, -6.302 49.937, -6.276 49.929, -6.303 49.903, -6.317 49.918)), ((-6.343 49.931, -6.359 49.93, -6.354 49.939, -6.343 49.931)), ((-6.337 49.939, -6.352 49.965, -6.315 49.942, -6.337 49.939)), ((-6.348 49.946, -6.361 49.942, -6.355 49.963, -6.348 49.946)), ((-6.261 49.964, -6.304 49.964, -6.292 49.971, -6.261 49.964)), ((-6.193 55.293, -6.287 55.294, -6.17 55.302, -6.181 55.267, -6.193 55.293)), ((-6.498 55.735, -6.456 55.853, -6.327 55.892, -6.329 55.837, -6.32 55.883, -6.125 55.939, -6.019 55.685, -6.294 55.579, -6.334 55.619, -6.264 55.667, -6.341 55.716, -6.266 55.776, -6.35 55.782, -6.483 55.673, -6.526 55.693, -6.498 55.735)), ((-5.725 56.191, -5.69 56.201, -5.67 56.17, -5.752 56.168, -5.725 56.191)), ((-5.588 56.207, -5.611 56.195, -5.612 56.229, -5.591 56.224, -5.588 56.207)), ((-5.715 56.211, -5.693 56.239, -5.692 56.209, -5.715 56.211)), ((-5.639 56.271, -5.62 56.25, -5.617 56.247, -5.641 56.186, -5.639 56.271)), ((-5.62 56.26, -5.607 56.259, -5.62 56.25, -5.62 56.26)), ((-5.887 55.879, -5.963 55.793, -6.036 55.795, -6.094 55.891, -5.857 55.982, -6.007 55.974, -5.697 56.144, -5.887 55.879)), ((-6.181 56.051, -6.26 56, -6.22 56.03, -6.283 56.038, -6.141 56.13, -6.181 56.051)), ((-6.018 56.367, -6.196 56.359, -6.147 56.438, -5.998 56.49, -6.13 56.472, -6.341 56.536, -6.283 56.578, -6.324 56.606, -6.187 56.587, -6.23 56.622, -6.129 56.657, -5.954 56.522, -5.796 56.516, -5.646 56.447, -5.669 56.389, -5.732 56.413, -5.792 56.367, -5.706 56.361, -5.833 56.311, -5.889 56.322, -5.874 56.355, -6.049 56.292, -6.383 56.289, -6.355 56.347, -6.242 56.319, -6.018 56.367), (-6 56.389, -6.017 56.387, -6.017 56.386, -6 56.389)), ((-6.302 56.495, -6.315 56.499, -6.26 56.497, -6.283 56.476, -6.302 56.495)), ((-5.693 54.251, -5.823 54.244, -5.814 54.286, -5.893 54.205, -5.897 54.105, -6.063 54.023, -6.291 54.113, -6.366 54.114, -6.391 54.059, -6.624 54.037, -6.669 54.073, -6.644 54.18, -6.795 54.209, -6.878 54.279, -6.876 54.347, -7.029 54.421, -7.189 54.338, -7.212 54.3, -7.145 54.225, -7.248 54.204, -7.279 54.122, -7.291 54.172, -7.339 54.147, -7.319 54.113, -7.41 54.156, -7.548 54.122, -7.685 54.208, -7.86 54.218, -7.862 54.293, -7.962 54.312, -8.178 54.465, -7.697 54.61, -7.851 54.631, -7.921 54.696, -7.534 54.747, -7.549 54.789, -7.456 54.854, -7.447 54.935, -7.392 54.945, -7.406 55.003, -7.346 55.05, -7.06 55.047, -6.951 55.11, -6.994 55.11, -6.966 55.195, -6.753 55.169, -6.476 55.252, -6.231 55.199, -6.146 55.228, -6.025 55.14, -6.062 55.06, -5.966 55.053, -5.99 54.985, -5.843 54.9, -5.803 54.824, -5.721 54.778, -5.792 54.845, -5.758 54.859, -5.69 54.804, -5.71 54.746, -5.913 54.648, -5.576 54.675, -5.433 54.487, -5.497 54.333, -5.551 54.369, -5.523 54.314, -5.66 54.226, -5.693 54.251), (-5.551 54.369, -5.551 54.369, -5.551 54.369, -5.551 54.369), (-5.579 54.4, -5.529 54.455, -5.562 54.534, -5.679 54.583, -5.741 54.546, -5.619 54.507, -5.676 54.51, -5.627 54.463, -5.685 54.372, -5.551 54.369, -5.579 54.4)), ((-6.425 56.307, -6.436 56.334, -6.38 56.35, -6.425 56.307)), ((-6.775 56.525, -6.894 56.444, -7.008 56.503, -6.723 56.536, -6.775 56.525)), ((-6.678 56.598, -6.532 56.677, -6.453 56.687, -6.524 56.603, -6.697 56.56, -6.678 56.598)), ((-7.612 56.784, -7.661 56.785, -7.642 56.79, -7.612 56.784)), ((-7.667 56.8, -7.659 56.82, -7.617 56.829, -7.622 56.803, -7.667 56.8)), ((-7.599 56.849, -7.579 56.862, -7.549 56.848, -7.599 56.849)), ((-7.511 56.902, -7.489 56.886, -7.54 56.899, -7.511 56.902)), ((-7.482 56.931, -7.55 56.909, -7.583 56.933, -7.561 56.948, -7.482 56.931)), ((-7.528 57.014, -7.451 57.059, -7.375 56.986, -7.563 56.956, -7.517 56.973, -7.528 57.014)), ((-7.364 57.014, -7.328 57.012, -7.34 57.008, -7.364 57.014)), ((-7.319 57.015, -7.348 57.02, -7.327 57.024, -7.319 57.015)), ((-7.404 57.048, -7.391 57.062, -7.379 57.049, -7.404 57.048)), ((-7.292 57.052, -7.308 57.058, -7.321 57.096, -7.268 57.091, -7.292 57.052)), ((-7.416 57.13, -7.46 57.241, -7.401 57.305, -7.432 57.387, -7.37 57.42, -7.29 57.396, -7.324 57.394, -7.192 57.299, -7.268 57.224, -7.361 57.242, -7.245 57.164, -7.352 57.154, -7.212 57.114, -7.416 57.13), (-7.294 57.337, -7.263 57.328, -7.259 57.33, -7.294 57.337)), ((-7.394 57.422, -7.412 57.47, -7.34 57.498, -7.201 57.461, -7.236 57.461, -7.275 57.439, -7.197 57.414, -7.394 57.422)), ((-7.34 57.503, -7.277 57.505, -7.341 57.504, -7.319 57.525, -7.346 57.542, -7.379 57.494, -7.397 57.559, -7.452 57.567, -7.34 57.554, -7.549 57.606, -7.495 57.66, -7.379 57.649, -7.318 57.697, -7.315 57.662, -7.291 57.645, -7.183 57.702, -7.232 57.707, -7.202 57.735, -7.122 57.708, -7.171 57.719, -7.185 57.652, -7.062 57.64, -7.1 57.608, -7.114 57.632, -7.219 57.64, -7.102 57.587, -7.3 57.553, -7.133 57.553, -7.149 57.509, -7.253 57.506, -7.203 57.473, -7.34 57.503)), ((-7.262 57.402, -7.239 57.394, -7.268 57.391, -7.262 57.402)), ((-5.608 56.294, -5.63 56.268, -5.655 56.298, -5.58 56.327, -5.608 56.294)), ((-5.564 56.408, -5.488 56.422, -5.589 56.38, -5.564 56.408)), ((-6.27 56.827, -6.264 56.847, -6.214 56.835, -6.27 56.827)), ((-6.209 56.907, -6.141 56.946, -6.119 56.937, -6.162 56.872, -6.209 56.907)), ((-5.507 56.498, -5.599 56.461, -5.425 56.559, -5.507 56.498)), ((-5.403 56.591, -5.38 56.596, -5.398 56.578, -5.403 56.591)), ((-5.875 57.28, -5.855 57.284, -5.852 57.269, -5.867 57.265, -5.875 57.28)), ((-5.845 57.335, -5.859 57.354, -5.82 57.336, -5.845 57.335)), ((-6.33 57.061, -6.259 57.037, -6.25 56.971, -6.329 56.935, -6.46 57.007, -6.33 57.061)), ((-6.215 57.165, -6.179 57.159, -6.203 57.134, -6.257 57.15, -6.215 57.165)), ((-5.92 57.297, -5.968 57.275, -6.024 57.307, -5.98 57.325, -5.92 57.297)), ((-5.922 57.263, -5.648 57.258, -5.669 57.209, -5.801 57.174, -5.78 57.144, -5.9 57.057, -6.018 57.018, -6 57.123, -5.848 57.185, -5.994 57.167, -6.034 57.223, -6.083 57.125, -6.165 57.199, -6.323 57.16, -6.284 57.198, -6.363 57.192, -6.386 57.225, -6.346 57.246, -6.404 57.231, -6.483 57.293, -6.431 57.34, -6.329 57.3, -6.403 57.356, -6.471 57.331, -6.492 57.404, -6.573 57.389, -6.571 57.333, -6.672 57.355, -6.785 57.455, -6.721 57.45, -6.75 57.496, -6.717 57.514, -6.585 57.432, -6.647 57.503, -6.561 57.507, -6.655 57.545, -6.634 57.609, -6.462 57.5, -6.427 57.518, -6.438 57.479, -6.4 57.529, -6.312 57.455, -6.428 57.642, -6.298 57.708, -6.137 57.588, -6.145 57.43, -6.2 57.409, -6.124 57.396, -6.095 57.323, -6.154 57.299, -5.922 57.263)), ((-6.485 57.064, -6.466 57.044, -6.613 57.051, -6.557 57.07, -6.485 57.064)), ((-6.485 57.342, -6.514 57.332, -6.504 57.34, -6.485 57.342)), ((-7.211 57.384, -7.234 57.391, -7.193 57.404, -7.211 57.384)), ((-7.218 57.446, -7.241 57.451, -7.241 57.452, -7.218 57.446)), ((-7.629 57.509, -7.622 57.527, -7.597 57.53, -7.629 57.509)), ((-7.639 57.526, -7.681 57.52, -7.648 57.532, -7.639 57.526)), ((-7.208 57.491, -7.168 57.502, -7.164 57.48, -7.182 57.469, -7.208 57.491)), ((-6.508 57.581, -6.521 57.577, -6.516 57.586, -6.508 57.581)), ((-6.528 57.594, -6.516 57.587, -6.516 57.586, -6.528 57.594)), ((-7.159 57.618, -7.134 57.618, -7.15 57.617, -7.159 57.618)), ((-7.301 57.707, -7.294 57.72, -7.274 57.702, -7.301 57.707)), ((-7.199 57.772, -7.237 57.759, -7.268 57.771, -7.23 57.785, -7.199 57.772)), ((-8.566 57.826, -8.551 57.794, -8.617 57.828, -8.566 57.826)), ((-7.077 57.751, -7.1 57.769, -7.08 57.774, -7.077 57.751)), ((-6.816 57.809, -6.807 57.805, -6.83 57.813, -6.816 57.809)), ((-6.678 57.877, -6.641 57.858, -6.708 57.866, -6.678 57.877)), ((-7.087 57.894, -7.032 57.919, -6.986 57.904, -7.009 57.88, -7.087 57.894)), ((-6.893 58.261, -6.818 58.241, -6.784 58.201, -6.873 58.212, -6.893 58.261)), ((-6.75 58.193, -6.708 58.184, -6.81 58.253, -6.777 58.28, -6.826 58.281, -6.804 58.304, -6.547 58.365, -6.27 58.515, -6.181 58.467, -6.213 58.37, -6.162 58.343, -6.335 58.233, -6.285 58.208, -6.138 58.262, -6.16 58.214, -6.251 58.18, -6.39 58.211, -6.367 58.153, -6.422 58.139, -6.37 58.131, -6.488 58.142, -6.422 58.123, -6.628 58.083, -6.385 58.104, -6.366 58.056, -6.434 58.048, -6.361 58.041, -6.389 58, -6.571 58.005, -6.451 57.989, -6.472 57.938, -6.549 57.957, -6.572 57.909, -6.645 57.961, -6.606 57.917, -6.647 57.917, -6.709 57.967, -6.681 58.04, -6.757 57.995, -6.665 57.882, -6.803 57.898, -6.736 57.827, -6.86 57.834, -6.855 57.79, -6.967 57.728, -7.134 57.837, -7.024 57.835, -6.95 57.906, -6.816 57.901, -7.115 57.989, -6.922 58.051, -7.1 58.069, -7.137 58.122, -7.101 58.186, -6.96 58.236, -6.864 58.116, -6.877 58.19, -6.75 58.193), (-6.669 58.046, -6.672 58.048, -6.681 58.04, -6.669 58.046), (-6.665 58.054, -6.588 58.053, -6.689 58.058, -6.665 58.054)), ((-7.153 58.008, -7.172 58.026, -7.1 58.005, -7.153 58.008)), ((-6.888 58.204, -6.896 58.22, -6.877 58.209, -6.888 58.204)), ((-6.947 58.234, -6.935 58.241, -6.928 58.229, -6.947 58.234)), ((-6.06 57.46, -6.018 57.455, -6.018 57.517, -5.978 57.495, -6.032 57.43, -5.992 57.358, -6.021 57.333, -6.089 57.349, -6.06 57.46)), ((-5.956 57.562, -5.976 57.511, -5.995 57.521, -5.986 57.575, -5.956 57.562)), ((-6.362 57.895, -6.382 57.903, -6.352 57.88, -6.362 57.895)), ((-6.74 58.003, -6.724 58.008, -6.714 57.99, -6.74 58.003)), ((-5.526 57.961, -5.51 57.968, -5.497 57.961, -5.517 57.956, -5.526 57.961)), ((-5.416 58.006, -5.409 58.024, -5.383 58.006, -5.416 58.006)), ((-5.445 58.05, -5.423 58.047, -5.443 58.038, -5.445 58.05)), ((-5.821 59.132, -5.812 59.119, -5.844 59.117, -5.821 59.132)), ((-1.591 60.194, -1.605 60.204, -1.563 60.195, -1.591 60.194)), ((-1.328 60.438, -1.228 60.495, -1.166 60.422, -1.196 60.431, -1.257 60.4, -1.193 60.42, -1.222 60.403, -1.169 60.414, -1.163 60.378, -1.047 60.44, -1.14 60.383, -1.074 60.357, -1.186 60.351, -1.075 60.303, -1.23 60.23, -1.166 60.223, -1.217 60.172, -1.153 60.204, -1.162 60.166, -1.131 60.149, -1.224 60.1, -1.171 60.034, -1.232 60.033, -1.204 59.972, -1.276 59.99, -1.274 59.852, -1.391 59.912, -1.329 59.947, -1.346 59.997, -1.273 60.098, -1.267 60.14, -1.305 60.133, -1.283 60.196, -1.318 60.161, -1.296 60.211, -1.329 60.165, -1.292 60.253, -1.346 60.201, -1.357 60.246, -1.433 60.254, -1.376 60.237, -1.359 60.195, -1.397 60.217, -1.462 60.146, -1.546 60.187, -1.471 60.218, -1.514 60.241, -1.557 60.199, -1.564 60.228, -1.622 60.206, -1.702 60.255, -1.665 60.306, -1.503 60.319, -1.478 60.277, -1.487 60.307, -1.442 60.299, -1.474 60.342, -1.37 60.286, -1.34 60.359, -1.262 60.351, -1.354 60.395, -1.391 60.351, -1.463 60.356, -1.383 60.377, -1.452 60.416, -1.454 60.489, -1.496 60.453, -1.498 60.485, -1.631 60.483, -1.528 60.556, -1.449 60.505, -1.394 60.512, -1.498 60.547, -1.308 60.638, -1.315 60.541, -1.363 60.527, -1.323 60.525, -1.352 60.48, -1.319 60.451, -1.383 60.398, -1.328 60.438)), ((-1.374 60.334, -1.402 60.325, -1.398 60.342, -1.374 60.334)), ((-1.732 60.346, -1.663 60.338, -1.665 60.321, -1.718 60.321, -1.732 60.346)), ((-0.903 60.382, -0.978 60.331, -1.038 60.339, -0.962 60.383, -0.903 60.382)), ((-0.752 60.42, -0.792 60.416, -0.76 60.432, -0.752 60.42)), ((-1.163 60.467, -1.148 60.47, -1.138 60.464, -1.163 60.467)), ((-1.315 60.479, -1.332 60.488, -1.309 60.496, -1.315 60.479)), ((-1.201 60.499, -1.191 60.498, -1.181 60.487, -1.201 60.499)), ((-0.86 60.593, -0.949 60.612, -0.765 60.604, -0.801 60.568, -0.86 60.593)), ((-1.066 60.668, -1.018 60.617, -1.079 60.606, -1.002 60.581, -1.047 60.55, -1.028 60.497, -1.146 60.484, -1.198 60.62, -1.154 60.657, -1.152 60.621, -1.113 60.606, -1.128 60.726, -1.075 60.733, -0.999 60.721, -0.98 60.64, -1.066 60.668)), ((-0.968 60.613, -1.015 60.603, -0.999 60.619, -0.968 60.613)), ((-0.92 60.678, -0.876 60.671, -0.887 60.659, -0.92 60.678)), ((-0.982 60.685, -0.894 60.843, -0.875 60.805, -0.834 60.845, -0.759 60.819, -0.835 60.786, -0.789 60.741, -0.869 60.702, -0.854 60.674, -0.982 60.685)))\n"
     ]
    }
   ],
   "execution_count": 13
  },
  {
   "metadata": {},
   "cell_type": "markdown",
   "source": [
    "### Question 4: Which place names are mentioned in a document, and where exactly do they appear in the text?\n",
    "\n",
    "Two queries are introduced here to:\n",
    "1. Get all location record named 'Dundee', along with its original description uri\n",
    "2. Given one of above description, list all location entities it mentions.\n",
    "\n",
    "This is essential for understanding relations among different locations."
   ],
   "id": "a2b9ff0944c81d47"
  },
  {
   "metadata": {},
   "cell_type": "markdown",
   "source": [
    "#### Query 4.1:\n",
    "\n",
    "This query gets all uris of descriptions (`hto:OriginalDescription`) of location records (`hto:LocationRecord`) named 'DUNDEE'."
   ],
   "id": "cbf758ceb277550a"
  },
  {
   "metadata": {
    "ExecuteTime": {
     "end_time": "2025-05-12T11:32:07.518919Z",
     "start_time": "2025-05-12T11:32:06.694765Z"
    }
   },
   "cell_type": "code",
   "source": [
    "# Get all location record of Dundee, along with its original description uri\n",
    "sparql.setQuery(\"\"\"\n",
    "     PREFIX hto: <https://w3id.org/hto#>\n",
    "     PREFIX oa: <http://www.w3.org/ns/oa#>\n",
    "     PREFIX crm: <http://www.cidoc-crm.org/cidoc-crm/>\n",
    "     SELECT * WHERE {\n",
    "        ?record a hto:LocationRecord;\n",
    "            hto:name \"DUNDEE\";\n",
    "            hto:hasOriginalDescription ?desc.\n",
    "        ?desc a hto:OriginalDescription;\n",
    "            hto:text ?text.\n",
    "    }\n",
    "    \"\"\"\n",
    ")\n",
    "\n",
    "try:\n",
    "    ret = sparql.queryAndConvert()\n",
    "    text = \"\"\n",
    "    for r in ret[\"results\"][\"bindings\"]:\n",
    "        print(f\"Dundee record {r['record']['value']} has original description {r['desc']['value']}\")\n",
    "\n",
    "except Exception as e:\n",
    "    print(e)"
   ],
   "id": "47a17f1408a79212",
   "outputs": [
    {
     "name": "stdout",
     "output_type": "stream",
     "text": [
      "Dundee record https://w3id.org/hto/LocationRecord/9910440713804340_97424370_769119998_0 has original description https://w3id.org/hto/OriginalDescription/9910440713804340_97424370_769119998_0NLS\n",
      "Dundee record https://w3id.org/hto/LocationRecord/9928112733804340_97459138_769119998_0 has original description https://w3id.org/hto/OriginalDescription/9928112733804340_97459138_769119998_0NLS\n",
      "Dundee record https://w3id.org/hto/LocationRecord/9928228793804340_97372786_769119998_0 has original description https://w3id.org/hto/OriginalDescription/9928228793804340_97372786_769119998_0NLS\n",
      "Dundee record https://w3id.org/hto/LocationRecord/9928228793804340_97376462_769119998_0 has original description https://w3id.org/hto/OriginalDescription/9928228793804340_97376462_769119998_0NLS\n",
      "Dundee record https://w3id.org/hto/LocationRecord/9930626093804340_97393254_769119998_0 has original description https://w3id.org/hto/OriginalDescription/9930626093804340_97393254_769119998_0NLS\n",
      "Dundee record https://w3id.org/hto/LocationRecord/9930626093804340_97393254_769119998_1 has original description https://w3id.org/hto/OriginalDescription/9930626093804340_97393254_769119998_1NLS\n",
      "Dundee record https://w3id.org/hto/LocationRecord/9931003343804340_97343436_769119998_0 has original description https://w3id.org/hto/OriginalDescription/9931003343804340_97343436_769119998_0NLS\n",
      "Dundee record https://w3id.org/hto/LocationRecord/9931344933804340_97437554_769119998_0 has original description https://w3id.org/hto/OriginalDescription/9931344933804340_97437554_769119998_0NLS\n",
      "Dundee record https://w3id.org/hto/LocationRecord/9933057493804340_97355229_769119998_0 has original description https://w3id.org/hto/OriginalDescription/9933057493804340_97355229_769119998_0NLS\n",
      "Dundee record https://w3id.org/hto/LocationRecord/9931344573804340_97414570_769119998_0 has original description https://w3id.org/hto/OriginalDescription/9931344573804340_97414570_769119998_0NLS\n",
      "Dundee record https://w3id.org/hto/LocationRecord/9931344583804340_97421702_769119998_0 has original description https://w3id.org/hto/OriginalDescription/9931344583804340_97421702_769119998_0NLS\n"
     ]
    }
   ],
   "execution_count": 71
  },
  {
   "metadata": {},
   "cell_type": "markdown",
   "source": [
    " #### Query 4.2:\n",
    "\n",
    "Given one of the above original description uri, this query lists all the location entities identified in that description.\n",
    "\n",
    "It first returns the full text (`hto:text`) of that description, followed by a list locations (`crm:SP2_Phenomenal_Place`) with their names, uris and the start (`oa:start`) and end (`oa:end`) positions in the text."
   ],
   "id": "ec929bfe0444152d"
  },
  {
   "metadata": {
    "ExecuteTime": {
     "end_time": "2025-05-12T17:28:05.984256Z",
     "start_time": "2025-05-12T17:28:05.468851Z"
    }
   },
   "cell_type": "code",
   "source": [
    "# List which and where locations mentioned in a record description.\n",
    "\n",
    "sparql.setQuery(\"\"\"\n",
    "     PREFIX hto: <https://w3id.org/hto#>\n",
    "     PREFIX oa: <http://www.w3.org/ns/oa#>\n",
    "     PREFIX crm: <http://www.cidoc-crm.org/cidoc-crm/>\n",
    "     SELECT * WHERE {\n",
    "        <https://w3id.org/hto/OriginalDescription/9931003343804340_97343436_769119998_0NLS> a hto:OriginalDescription;\n",
    "            hto:text ?text.\n",
    "        ?annotation a oa:Annotation;\n",
    "            oa:hasBody ?location;\n",
    "            oa:hasTarget ?specific_words.\n",
    "        ?location a crm:SP2_Phenomenal_Place.\n",
    "        ?specific_words oa:hasSource <https://w3id.org/hto/OriginalDescription/9931003343804340_97343436_769119998_0NLS>;\n",
    "            oa:hasSelector ?selector.\n",
    "        ?selector a oa:TextPositionSelector;\n",
    "            oa:start ?start_index;\n",
    "            oa:end ?end_index.\n",
    "    } ORDER BY ?start_index\n",
    "    \"\"\"\n",
    ")\n",
    "\n",
    "try:\n",
    "    ret = sparql.queryAndConvert()\n",
    "    annotations = []\n",
    "    text = \"\"\n",
    "    for r in ret[\"results\"][\"bindings\"]:\n",
    "        text = r[\"text\"][\"value\"]\n",
    "        start = int(r[\"start_index\"][\"value\"])\n",
    "        end = int(r[\"end_index\"][\"value\"])\n",
    "        annotations.append({\n",
    "            \"uri\": r[\"location\"][\"value\"],\n",
    "            \"start\": start,\n",
    "            \"end\": end,\n",
    "            \"value\": text[start:end]\n",
    "        })\n",
    "    print(f\"In this description:\\n {text}\")\n",
    "    print(\"The following locations are mentioned:\")\n",
    "    for annotation in annotations:\n",
    "        print(f\"📍Location {annotation['value']} {annotation['uri']} is identified in position {annotation['start']} - {annotation['end']}\")\n",
    "\n",
    "except Exception as e:\n",
    "    print(e)"
   ],
   "id": "a8a5b6bdfb0f1bbc",
   "outputs": [
    {
     "name": "stdout",
     "output_type": "stream",
     "text": [
      "In this description:\n",
      " a royal borough in the county of Angus or Forfar, seated on the N. bank of the river Tay, about 12 miles from its mouth, in 5627' 23'' N. latitude, and 32' W. longitude from Greenwich. It is a large and well built town, consisting of several streets, diverging in every direction from the market-place or high-street, which is a fpac'ious square 360 feet long by 100 feet broad. On the S. side of this square stands the Town-hoitfe, an elegant ftruclure, with a handfomc front, adorned with piazzas below, and overtopped by a neat spire 140 feet in height: this building, which was finished in 1734, contains the guild hall, the court room, townclerk's office, with vaulted repofitories for the town records, and apartments for the Dundee Banking Company's office : the prison occupies the upper story, and does much honour to the feelings of the magistrates,underwhofe auspices it was erected, the rooms being well aired and commodious, and at the same time perfectly secure. At the E. end of the square, the incorporated trades have erected an elegant Trades' hall, with a superb front of Ionic pilasters, and a neat cupola the lower flat is occupied by shops, and the upper flat contains rooms for each incorporation, and a large hall for general meetings, which is now occupied as a fubfeription coffee-room, on the most liberal and extensive plan. Opposite to the Trades' hall, in the W. end of the square, a neat Episcopal chapel has been lately built. At the S. E. corner of the square, about 100 feet from the Trades' hall, stood the castle-hill, so called from the ancient castle. It was composed entirely of a hard bafaltic whinftone, and has lately been quarried away at a great expence, and a fine spacious street, called Cajlle Jlreet, has been opened to the harbour. A small distance W. from the great square, is the old church, in which wereoriginally 4 places of worship, and when entire had been a very magnificent building, with a large square Gothic tower or steeple 156 feet high, at the W. end of the church ; it is said to have been erected by David F;arl of Huntingdon, in 1189, and dedicated to the Virgin Mary, in gratitude for his deliverance from shipwreck, in which he had nearly perished withal this cattle Bothwell fled and left Mary, after the unfortunate battle of Carberry till. The castle was afterwards demoliihed by order of the Scottiih parliament. In this parish is part of Down hill, famous for the encampment of General Leflie and the Scottiih army, the night before their defeat at the battle of D unbar. There is plenty of limeftone in the parish. On shore pebbles are frequently found, and near the harbour is a fine specimen of martial jasper, which takes a Very fine poliih. Here are frequently found those beautiful specimens of ge'ddes orfeptaria, iron ore, generally termed the geodes of Dunbar. Population returned to Sir John Sinclair, .-5700.\n",
      "The following locations are mentioned:\n",
      "📍Location Angus https://w3id.org/hto/SP2_Phenomenal_Place/4932083587_56d66667_-2d91667 is identified in position 33 - 38\n",
      "📍Location Forfar https://w3id.org/hto/SP2_Phenomenal_Place/4708717883_56d66667_-2d91667 is identified in position 42 - 48\n",
      "📍Location Tay https://w3id.org/hto/SP2_Phenomenal_Place/1467613364_-26d48585_22d97976 is identified in position 85 - 88\n",
      "📍Location Greenwich https://w3id.org/hto/SP2_Phenomenal_Place/6246903768_51d45_0d05 is identified in position 174 - 183\n",
      "📍Location the Town-hoitfe https://w3id.org/hto/SP2_Phenomenal_Place/2504346763 is identified in position 416 - 431\n",
      "📍Location the E. end of the square https://w3id.org/hto/SP2_Phenomenal_Place/4387821245 is identified in position 980 - 1004\n",
      "📍Location Trades' https://w3id.org/hto/SP2_Phenomenal_Place/6522835128 is identified in position 1369 - 1376\n",
      "📍Location the W. end of the square https://w3id.org/hto/SP2_Phenomenal_Place/3810912470 is identified in position 1386 - 1410\n",
      "📍Location the S. E. https://w3id.org/hto/SP2_Phenomenal_Place/9060102961 is identified in position 1462 - 1471\n",
      "📍Location Trades' https://w3id.org/hto/SP2_Phenomenal_Place/6522835128 is identified in position 1518 - 1525\n",
      "📍Location Cajlle Jlreet https://w3id.org/hto/SP2_Phenomenal_Place/2513717209 is identified in position 1734 - 1747\n",
      "📍Location Huntingdon https://w3id.org/hto/SP2_Phenomenal_Place/3592068085_52d33049_-0d18651 is identified in position 2081 - 2091\n",
      "📍Location Down hill https://w3id.org/hto/SP2_Phenomenal_Place/8470255193_56d21488_-3d61261 is identified in position 2412 - 2421\n"
     ]
    }
   ],
   "execution_count": 14
  }
 ],
 "metadata": {
  "kernelspec": {
   "display_name": "Python 3",
   "language": "python",
   "name": "python3"
  },
  "language_info": {
   "codemirror_mode": {
    "name": "ipython",
    "version": 2
   },
   "file_extension": ".py",
   "mimetype": "text/x-python",
   "name": "python",
   "nbconvert_exporter": "python",
   "pygments_lexer": "ipython2",
   "version": "2.7.6"
  },
  "colab": {
   "provenance": [],
   "toc_visible": true
  }
 },
 "nbformat": 4,
 "nbformat_minor": 5
}
